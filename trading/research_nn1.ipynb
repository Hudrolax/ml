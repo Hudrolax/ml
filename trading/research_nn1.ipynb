{
 "cells": [
  {
   "cell_type": "code",
   "execution_count": 320,
   "metadata": {},
   "outputs": [],
   "source": [
    "import numpy as np\n",
    "import pandas as pd\n",
    "import matplotlib.pyplot as plt\n",
    "from sklearn.model_selection import train_test_split\n",
    "from keras.models import Sequential, Model\n",
    "from keras.layers import Dense, Flatten, Dropout, Conv2D, AveragePooling2D, Input, MaxPooling2D, UpSampling2D\n",
    "import tensorflow as tf\n",
    "# отключим GPU (нужно для платформы Apple M1)\n",
    "tf.config.set_visible_devices([], 'GPU')"
   ]
  },
  {
   "cell_type": "code",
   "execution_count": 2,
   "metadata": {},
   "outputs": [],
   "source": [
    "def generate_line_images(num_images):\n",
    "    \"\"\"Функция для генерации случайных изображений вертикальных и горизонтальных линий и меток к ним\n",
    "    Args:\n",
    "        num_images (int): Количество изображений\n",
    "    Returns:\n",
    "        tuple[ndarray, ndarray]: Кортеж с изображениями и метками.\n",
    "    \"\"\"\n",
    "    images = np.zeros((num_images, 20, 20), dtype=np.uint8)\n",
    "    labels = np.zeros((num_images,), dtype=np.uint8)\n",
    "\n",
    "    for i in range(num_images):\n",
    "        line_type = np.random.randint(0, 2)  # 0 for vertical, 1 for horizontal\n",
    "        labels[i] = line_type\n",
    "\n",
    "        if line_type == 1:  # horizontal line\n",
    "            row = np.random.randint(0, 17)\n",
    "            col = np.random.randint(0, 20)\n",
    "            images[i, row:row+4, col] = 1\n",
    "        else:  # vertical line\n",
    "            row = np.random.randint(0, 20)\n",
    "            col = np.random.randint(0, 17)\n",
    "            images[i, row, col:col+4] = 1\n",
    "\n",
    "    return images, labels"
   ]
  },
  {
   "cell_type": "code",
   "execution_count": 287,
   "metadata": {},
   "outputs": [],
   "source": [
    "# Сгенерируем изображения\n",
    "num_images = int(1e3)\n",
    "images, labels = generate_line_images(num_images)"
   ]
  },
  {
   "cell_type": "code",
   "execution_count": 288,
   "metadata": {},
   "outputs": [
    {
     "data": {
      "image/png": "[encoded data removed]",
      "text/plain": [
       "<Figure size 1200x300 with 5 Axes>"
      ]
     },
     "metadata": {},
     "output_type": "display_data"
    }
   ],
   "source": [
    "# Посмотрим на картинки на первые 5\n",
    "fig, axes = plt.subplots(1, 5, figsize=(12, 3))\n",
    "for i in range(5):\n",
    "    axes[i].imshow(images[i], cmap='gray')\n",
    "    axes[i].set_title(f\"Label: {labels[i]}\")\n",
    "    axes[i].axis('off')\n",
    "plt.show()"
   ]
  },
  {
   "cell_type": "code",
   "execution_count": 289,
   "metadata": {},
   "outputs": [],
   "source": [
    "# Разделим данные\n",
    "X_train, X_test, y_train, y_test = train_test_split(images, labels, test_size=0.3, random_state=42)"
   ]
  },
  {
   "cell_type": "code",
   "execution_count": 303,
   "metadata": {},
   "outputs": [
    {
     "name": "stdout",
     "output_type": "stream",
     "text": [
      "Epoch 1/20\n",
      "18/18 [==============================] - 0s 5ms/step - loss: 0.6932 - accuracy: 0.5107 - val_loss: 0.6895 - val_accuracy: 0.5357\n",
      "Epoch 2/20\n",
      "18/18 [==============================] - 0s 2ms/step - loss: 0.6857 - accuracy: 0.5393 - val_loss: 0.6814 - val_accuracy: 0.6214\n",
      "Epoch 3/20\n",
      "18/18 [==============================] - 0s 2ms/step - loss: 0.6661 - accuracy: 0.6393 - val_loss: 0.6729 - val_accuracy: 0.6429\n",
      "Epoch 4/20\n",
      "18/18 [==============================] - 0s 2ms/step - loss: 0.6519 - accuracy: 0.6518 - val_loss: 0.6616 - val_accuracy: 0.6571\n",
      "Epoch 5/20\n",
      "18/18 [==============================] - 0s 2ms/step - loss: 0.6324 - accuracy: 0.6929 - val_loss: 0.6461 - val_accuracy: 0.6571\n",
      "Epoch 6/20\n",
      "18/18 [==============================] - 0s 2ms/step - loss: 0.5937 - accuracy: 0.7661 - val_loss: 0.6255 - val_accuracy: 0.6571\n",
      "Epoch 7/20\n",
      "18/18 [==============================] - 0s 2ms/step - loss: 0.5645 - accuracy: 0.7679 - val_loss: 0.6026 - val_accuracy: 0.6929\n",
      "Epoch 8/20\n",
      "18/18 [==============================] - 0s 2ms/step - loss: 0.5092 - accuracy: 0.8232 - val_loss: 0.5747 - val_accuracy: 0.7357\n",
      "Epoch 9/20\n",
      "18/18 [==============================] - 0s 2ms/step - loss: 0.4751 - accuracy: 0.8321 - val_loss: 0.5429 - val_accuracy: 0.7714\n",
      "Epoch 10/20\n",
      "18/18 [==============================] - 0s 2ms/step - loss: 0.4097 - accuracy: 0.8679 - val_loss: 0.5124 - val_accuracy: 0.8071\n",
      "Epoch 11/20\n",
      "18/18 [==============================] - 0s 2ms/step - loss: 0.3387 - accuracy: 0.8911 - val_loss: 0.4886 - val_accuracy: 0.8071\n",
      "Epoch 12/20\n",
      "18/18 [==============================] - 0s 2ms/step - loss: 0.2908 - accuracy: 0.9107 - val_loss: 0.4740 - val_accuracy: 0.8214\n",
      "Epoch 13/20\n",
      "18/18 [==============================] - 0s 2ms/step - loss: 0.2492 - accuracy: 0.9286 - val_loss: 0.4673 - val_accuracy: 0.8143\n",
      "Epoch 14/20\n",
      "18/18 [==============================] - 0s 2ms/step - loss: 0.2128 - accuracy: 0.9446 - val_loss: 0.4597 - val_accuracy: 0.8071\n",
      "Epoch 15/20\n",
      "18/18 [==============================] - 0s 2ms/step - loss: 0.1792 - accuracy: 0.9500 - val_loss: 0.4545 - val_accuracy: 0.8357\n",
      "Epoch 16/20\n",
      "18/18 [==============================] - 0s 2ms/step - loss: 0.1429 - accuracy: 0.9714 - val_loss: 0.4588 - val_accuracy: 0.8286\n",
      "Epoch 17/20\n",
      "18/18 [==============================] - 0s 2ms/step - loss: 0.1271 - accuracy: 0.9696 - val_loss: 0.4623 - val_accuracy: 0.8357\n",
      "Epoch 18/20\n",
      "18/18 [==============================] - 0s 2ms/step - loss: 0.0974 - accuracy: 0.9839 - val_loss: 0.4717 - val_accuracy: 0.8214\n",
      "Epoch 19/20\n",
      "18/18 [==============================] - 0s 2ms/step - loss: 0.0832 - accuracy: 0.9804 - val_loss: 0.4758 - val_accuracy: 0.8214\n",
      "Epoch 20/20\n",
      "18/18 [==============================] - 0s 2ms/step - loss: 0.0839 - accuracy: 0.9804 - val_loss: 0.4784 - val_accuracy: 0.8214\n",
      "Test accuracy: 0.8600\n"
     ]
    }
   ],
   "source": [
    "# Создание простую полносвязную сеть с 10ю нейронами\n",
    "model = Sequential([\n",
    "    Flatten(input_shape=(20, 20)),\n",
    "    Dense(64, activation='relu'),\n",
    "    Dropout(0.5),\n",
    "    Dense(64, activation='relu'),\n",
    "    Dropout(0.5),\n",
    "    Dense(1, activation='sigmoid')\n",
    "])\n",
    "\n",
    "# Компиляция модели\n",
    "model.compile(optimizer='adam',\n",
    "              loss='binary_crossentropy',\n",
    "              metrics=['accuracy'])\n",
    "\n",
    "# Обучение модели\n",
    "history = model.fit(X_train, y_train, epochs=20, batch_size=32, validation_split=0.2, verbose=1)\n",
    "\n",
    "# Оценка модели на тестовой выборке\n",
    "test_loss, test_acc = model.evaluate(X_test, y_test, verbose=0)\n",
    "print(f\"Test accuracy: {test_acc:.4f}\")"
   ]
  },
  {
   "cell_type": "code",
   "execution_count": 304,
   "metadata": {},
   "outputs": [
    {
     "data": {
      "text/html": [
       "<div>\n",
       "<style scoped>\n",
       "    .dataframe tbody tr th:only-of-type {\n",
       "        vertical-align: middle;\n",
       "    }\n",
       "\n",
       "    .dataframe tbody tr th {\n",
       "        vertical-align: top;\n",
       "    }\n",
       "\n",
       "    .dataframe thead th {\n",
       "        text-align: right;\n",
       "    }\n",
       "</style>\n",
       "<table border=\"1\" class=\"dataframe\">\n",
       "  <thead>\n",
       "    <tr style=\"text-align: right;\">\n",
       "      <th></th>\n",
       "      <th>0</th>\n",
       "    </tr>\n",
       "  </thead>\n",
       "  <tbody>\n",
       "    <tr>\n",
       "      <th>0</th>\n",
       "      <td>&lt;keras.layers.reshaping.flatten.Flatten object...</td>\n",
       "    </tr>\n",
       "    <tr>\n",
       "      <th>1</th>\n",
       "      <td>&lt;keras.layers.core.dense.Dense object at 0x2c5...</td>\n",
       "    </tr>\n",
       "    <tr>\n",
       "      <th>2</th>\n",
       "      <td>&lt;keras.layers.regularization.dropout.Dropout o...</td>\n",
       "    </tr>\n",
       "    <tr>\n",
       "      <th>3</th>\n",
       "      <td>&lt;keras.layers.core.dense.Dense object at 0x2a4...</td>\n",
       "    </tr>\n",
       "    <tr>\n",
       "      <th>4</th>\n",
       "      <td>&lt;keras.layers.regularization.dropout.Dropout o...</td>\n",
       "    </tr>\n",
       "    <tr>\n",
       "      <th>5</th>\n",
       "      <td>&lt;keras.layers.core.dense.Dense object at 0x2c3...</td>\n",
       "    </tr>\n",
       "  </tbody>\n",
       "</table>\n",
       "</div>"
      ],
      "text/plain": [
       "                                                   0\n",
       "0  <keras.layers.reshaping.flatten.Flatten object...\n",
       "1  <keras.layers.core.dense.Dense object at 0x2c5...\n",
       "2  <keras.layers.regularization.dropout.Dropout o...\n",
       "3  <keras.layers.core.dense.Dense object at 0x2a4...\n",
       "4  <keras.layers.regularization.dropout.Dropout o...\n",
       "5  <keras.layers.core.dense.Dense object at 0x2c3..."
      ]
     },
     "execution_count": 304,
     "metadata": {},
     "output_type": "execute_result"
    }
   ],
   "source": [
    "# посмотрим на структуру модели\n",
    "pd.DataFrame(model.layers)"
   ]
  },
  {
   "cell_type": "code",
   "execution_count": 306,
   "metadata": {},
   "outputs": [
    {
     "data": {
      "text/plain": [
       "<matplotlib.image.AxesImage at 0x2c5c63070>"
      ]
     },
     "execution_count": 306,
     "metadata": {},
     "output_type": "execute_result"
    },
    {
     "data": {
      "image/png": "[encoded data removed]",
      "text/plain": [
       "<Figure size 600x600 with 1 Axes>"
      ]
     },
     "metadata": {},
     "output_type": "display_data"
    }
   ],
   "source": [
    "# так выклядят веса второго нейронного слоя. Выглядит, как шум.\n",
    "# При таком маленьком датасете в 1000 изображений, из которых 200 отобраны на валидацию полносвязная сеть не может\n",
    "# полноценно работать. На большом датасете 100к изображений сеть скорее всего запоминает все возможные варианты.\n",
    "plt.figure(figsize=(6, 6))\n",
    "plt.imshow(model.layers[3].get_weights()[0].transpose(), cmap='gray')"
   ]
  },
  {
   "attachments": {},
   "cell_type": "markdown",
   "metadata": {},
   "source": [
    "# Попробуем сверточную архитектуру"
   ]
  },
  {
   "cell_type": "code",
   "execution_count": 307,
   "metadata": {},
   "outputs": [
    {
     "name": "stdout",
     "output_type": "stream",
     "text": [
      "Epoch 1/20\n",
      "18/18 [==============================] - 0s 8ms/step - loss: 0.6896 - accuracy: 0.5911 - val_loss: 0.6879 - val_accuracy: 0.5857\n",
      "Epoch 2/20\n",
      "18/18 [==============================] - 0s 4ms/step - loss: 0.6767 - accuracy: 0.5768 - val_loss: 0.6679 - val_accuracy: 0.6214\n",
      "Epoch 3/20\n",
      "18/18 [==============================] - 0s 5ms/step - loss: 0.6282 - accuracy: 0.6964 - val_loss: 0.6015 - val_accuracy: 0.6714\n",
      "Epoch 4/20\n",
      "18/18 [==============================] - 0s 4ms/step - loss: 0.5242 - accuracy: 0.8018 - val_loss: 0.4525 - val_accuracy: 0.9571\n",
      "Epoch 5/20\n",
      "18/18 [==============================] - 0s 4ms/step - loss: 0.3699 - accuracy: 0.9643 - val_loss: 0.2873 - val_accuracy: 0.9857\n",
      "Epoch 6/20\n",
      "18/18 [==============================] - 0s 4ms/step - loss: 0.2365 - accuracy: 0.9946 - val_loss: 0.1540 - val_accuracy: 1.0000\n",
      "Epoch 7/20\n",
      "18/18 [==============================] - 0s 4ms/step - loss: 0.1173 - accuracy: 0.9929 - val_loss: 0.0494 - val_accuracy: 1.0000\n",
      "Epoch 8/20\n",
      "18/18 [==============================] - 0s 5ms/step - loss: 0.0503 - accuracy: 0.9893 - val_loss: 0.0144 - val_accuracy: 1.0000\n",
      "Epoch 9/20\n",
      "18/18 [==============================] - 0s 5ms/step - loss: 0.0189 - accuracy: 0.9982 - val_loss: 0.0054 - val_accuracy: 1.0000\n",
      "Epoch 10/20\n",
      "18/18 [==============================] - 0s 4ms/step - loss: 0.0133 - accuracy: 1.0000 - val_loss: 0.0027 - val_accuracy: 1.0000\n",
      "Epoch 11/20\n",
      "18/18 [==============================] - 0s 4ms/step - loss: 0.0120 - accuracy: 0.9982 - val_loss: 0.0022 - val_accuracy: 1.0000\n",
      "Epoch 12/20\n",
      "18/18 [==============================] - 0s 5ms/step - loss: 0.0056 - accuracy: 1.0000 - val_loss: 0.0013 - val_accuracy: 1.0000\n",
      "Epoch 13/20\n",
      "18/18 [==============================] - 0s 4ms/step - loss: 0.0046 - accuracy: 1.0000 - val_loss: 9.4080e-04 - val_accuracy: 1.0000\n",
      "Epoch 14/20\n",
      "18/18 [==============================] - 0s 4ms/step - loss: 0.0057 - accuracy: 0.9982 - val_loss: 6.3141e-04 - val_accuracy: 1.0000\n",
      "Epoch 15/20\n",
      "18/18 [==============================] - 0s 4ms/step - loss: 0.0074 - accuracy: 0.9982 - val_loss: 8.6744e-04 - val_accuracy: 1.0000\n",
      "Epoch 16/20\n",
      "18/18 [==============================] - 0s 5ms/step - loss: 0.0068 - accuracy: 0.9982 - val_loss: 7.1308e-04 - val_accuracy: 1.0000\n",
      "Epoch 17/20\n",
      "18/18 [==============================] - 0s 5ms/step - loss: 0.0030 - accuracy: 1.0000 - val_loss: 4.4691e-04 - val_accuracy: 1.0000\n",
      "Epoch 18/20\n",
      "18/18 [==============================] - 0s 4ms/step - loss: 0.0023 - accuracy: 1.0000 - val_loss: 3.3054e-04 - val_accuracy: 1.0000\n",
      "Epoch 19/20\n",
      "18/18 [==============================] - 0s 4ms/step - loss: 0.0017 - accuracy: 1.0000 - val_loss: 2.3636e-04 - val_accuracy: 1.0000\n",
      "Epoch 20/20\n",
      "18/18 [==============================] - 0s 4ms/step - loss: 0.0059 - accuracy: 0.9982 - val_loss: 5.3500e-04 - val_accuracy: 1.0000\n",
      "Test accuracy: 1.0000\n"
     ]
    }
   ],
   "source": [
    "# Создадим модель, используя популярную архитектуру LeNet-5\n",
    "model = Sequential([\n",
    "    Conv2D(6, kernel_size=(5, 5), activation='relu', input_shape=(20, 20, 1), padding='same'),\n",
    "    AveragePooling2D(pool_size=(2, 2), strides=(2, 2)),\n",
    "    Dropout(0.2),\n",
    "    Conv2D(16, kernel_size=(5, 5), activation='relu'),\n",
    "    AveragePooling2D(pool_size=(2, 2), strides=(2, 2)),\n",
    "    Dropout(0.2),\n",
    "    Flatten(),\n",
    "    Dense(64, activation='relu'),\n",
    "    Dropout(0.2),\n",
    "    Dense(32, activation='relu'),\n",
    "    Dropout(0.2),\n",
    "    Dense(1, activation='sigmoid')\n",
    "])\n",
    "\n",
    "# Компиляция модели\n",
    "model.compile(optimizer='adam',\n",
    "              loss='binary_crossentropy',\n",
    "              metrics=['accuracy'])\n",
    "\n",
    "# Обучение модели\n",
    "history = model.fit(X_train[:, :, :, None], y_train, epochs=20, batch_size=32, validation_split=0.2, verbose=1)\n",
    "\n",
    "# Оценка модели на тестовой выборке\n",
    "test_loss, test_acc = model.evaluate(X_test[:, :, :, None], y_test, verbose=0)\n",
    "print(f\"Test accuracy: {test_acc:.4f}\")"
   ]
  },
  {
   "cell_type": "code",
   "execution_count": 308,
   "metadata": {},
   "outputs": [
    {
     "data": {
      "text/html": [
       "<div>\n",
       "<style scoped>\n",
       "    .dataframe tbody tr th:only-of-type {\n",
       "        vertical-align: middle;\n",
       "    }\n",
       "\n",
       "    .dataframe tbody tr th {\n",
       "        vertical-align: top;\n",
       "    }\n",
       "\n",
       "    .dataframe thead th {\n",
       "        text-align: right;\n",
       "    }\n",
       "</style>\n",
       "<table border=\"1\" class=\"dataframe\">\n",
       "  <thead>\n",
       "    <tr style=\"text-align: right;\">\n",
       "      <th></th>\n",
       "      <th>0</th>\n",
       "    </tr>\n",
       "  </thead>\n",
       "  <tbody>\n",
       "    <tr>\n",
       "      <th>0</th>\n",
       "      <td>&lt;keras.layers.convolutional.conv2d.Conv2D obje...</td>\n",
       "    </tr>\n",
       "    <tr>\n",
       "      <th>1</th>\n",
       "      <td>&lt;keras.layers.pooling.average_pooling2d.Averag...</td>\n",
       "    </tr>\n",
       "    <tr>\n",
       "      <th>2</th>\n",
       "      <td>&lt;keras.layers.regularization.dropout.Dropout o...</td>\n",
       "    </tr>\n",
       "    <tr>\n",
       "      <th>3</th>\n",
       "      <td>&lt;keras.layers.convolutional.conv2d.Conv2D obje...</td>\n",
       "    </tr>\n",
       "    <tr>\n",
       "      <th>4</th>\n",
       "      <td>&lt;keras.layers.pooling.average_pooling2d.Averag...</td>\n",
       "    </tr>\n",
       "    <tr>\n",
       "      <th>5</th>\n",
       "      <td>&lt;keras.layers.regularization.dropout.Dropout o...</td>\n",
       "    </tr>\n",
       "    <tr>\n",
       "      <th>6</th>\n",
       "      <td>&lt;keras.layers.reshaping.flatten.Flatten object...</td>\n",
       "    </tr>\n",
       "    <tr>\n",
       "      <th>7</th>\n",
       "      <td>&lt;keras.layers.core.dense.Dense object at 0x288...</td>\n",
       "    </tr>\n",
       "    <tr>\n",
       "      <th>8</th>\n",
       "      <td>&lt;keras.layers.regularization.dropout.Dropout o...</td>\n",
       "    </tr>\n",
       "    <tr>\n",
       "      <th>9</th>\n",
       "      <td>&lt;keras.layers.core.dense.Dense object at 0x288...</td>\n",
       "    </tr>\n",
       "    <tr>\n",
       "      <th>10</th>\n",
       "      <td>&lt;keras.layers.regularization.dropout.Dropout o...</td>\n",
       "    </tr>\n",
       "    <tr>\n",
       "      <th>11</th>\n",
       "      <td>&lt;keras.layers.core.dense.Dense object at 0x107...</td>\n",
       "    </tr>\n",
       "  </tbody>\n",
       "</table>\n",
       "</div>"
      ],
      "text/plain": [
       "                                                    0\n",
       "0   <keras.layers.convolutional.conv2d.Conv2D obje...\n",
       "1   <keras.layers.pooling.average_pooling2d.Averag...\n",
       "2   <keras.layers.regularization.dropout.Dropout o...\n",
       "3   <keras.layers.convolutional.conv2d.Conv2D obje...\n",
       "4   <keras.layers.pooling.average_pooling2d.Averag...\n",
       "5   <keras.layers.regularization.dropout.Dropout o...\n",
       "6   <keras.layers.reshaping.flatten.Flatten object...\n",
       "7   <keras.layers.core.dense.Dense object at 0x288...\n",
       "8   <keras.layers.regularization.dropout.Dropout o...\n",
       "9   <keras.layers.core.dense.Dense object at 0x288...\n",
       "10  <keras.layers.regularization.dropout.Dropout o...\n",
       "11  <keras.layers.core.dense.Dense object at 0x107..."
      ]
     },
     "execution_count": 308,
     "metadata": {},
     "output_type": "execute_result"
    }
   ],
   "source": [
    "# посмотрим на структуру модели\n",
    "pd.DataFrame(model.layers)"
   ]
  },
  {
   "cell_type": "code",
   "execution_count": 309,
   "metadata": {},
   "outputs": [
    {
     "name": "stdout",
     "output_type": "stream",
     "text": [
      "10/10 [==============================] - 0s 1ms/step\n"
     ]
    }
   ],
   "source": [
    "# Выберем экстрактор признаков и получим выход 5-го слоя, после MaxPooling\n",
    "feature_extractor = Model(inputs=model.inputs, outputs=model.layers[4].output)\n",
    "features = feature_extractor.predict(X_test[:, :, :, None])"
   ]
  },
  {
   "cell_type": "code",
   "execution_count": 316,
   "metadata": {},
   "outputs": [
    {
     "data": {
      "image/png": "[encoded data removed]",
      "text/plain": [
       "<Figure size 1200x300 with 16 Axes>"
      ]
     },
     "metadata": {},
     "output_type": "display_data"
    }
   ],
   "source": [
    "# Визуализируем фильтры для изображения с индексом 0\n",
    "n_filters = features.shape[-1]\n",
    "n_columns = 4\n",
    "n_rows = n_filters // n_columns + int(n_filters % n_columns > 0)\n",
    "\n",
    "fig, axes = plt.subplots(n_rows, n_columns, figsize=(12, 3))\n",
    "fig.subplots_adjust(hspace=0.1, wspace=0.1)\n",
    "\n",
    "for i in range(n_filters):\n",
    "    row = i // n_columns\n",
    "    col = i % n_columns\n",
    "    axes[row, col].imshow(features[0, :, :, i], cmap='hot')\n",
    "    axes[row, col].axis('off')\n",
    "\n",
    "plt.show()"
   ]
  },
  {
   "cell_type": "code",
   "execution_count": 317,
   "metadata": {},
   "outputs": [
    {
     "data": {
      "text/plain": [
       "<matplotlib.image.AxesImage at 0x2c4b88190>"
      ]
     },
     "execution_count": 317,
     "metadata": {},
     "output_type": "execute_result"
    },
    {
     "data": {
      "image/png": "[encoded data removed]",
      "text/plain": [
       "<Figure size 300x300 with 1 Axes>"
      ]
     },
     "metadata": {},
     "output_type": "display_data"
    }
   ],
   "source": [
    "# Посмотрим на само изображение\n",
    "plt.figure(figsize=(3, 3))\n",
    "plt.imshow(X_test[0], cmap='gray')\n",
    "\n",
    "# Сверточная архитектура хорошо выделяет ключевые признаки даже на маленьком датасете."
   ]
  },
  {
   "attachments": {},
   "cell_type": "markdown",
   "metadata": {},
   "source": [
    "## Попробуем построить автоэнкодер для восстановления исходного изображения из скрытого представления"
   ]
  },
  {
   "cell_type": "code",
   "execution_count": 375,
   "metadata": {},
   "outputs": [],
   "source": [
    "def build_autoencoder(input_shape=(20, 20, 1)):\n",
    "    # Encoder\n",
    "    encoder_input = Input(shape=input_shape)\n",
    "    x = Conv2D(32, (3, 3), activation='relu', padding='same')(encoder_input)\n",
    "    x = MaxPooling2D((2, 2), padding='same')(x)\n",
    "    x = Conv2D(64, (3, 3), activation='relu', padding='same')(x)\n",
    "    encoded = MaxPooling2D((2, 2), padding='same')(x)\n",
    "\n",
    "    # Decoder\n",
    "    x = Conv2D(64, (3, 3), activation='relu', padding='same')(encoded)\n",
    "    x = UpSampling2D((2, 2))(x)\n",
    "    x = Conv2D(32, (3, 3), activation='relu', padding='same')(x)\n",
    "    x = UpSampling2D((2, 2))(x)\n",
    "    decoded = Conv2D(1, (3, 3), activation='sigmoid', padding='same')(x)\n",
    "\n",
    "    autoencoder = Model(encoder_input, decoded)\n",
    "\n",
    "    return autoencoder"
   ]
  },
  {
   "cell_type": "code",
   "execution_count": 376,
   "metadata": {},
   "outputs": [
    {
     "name": "stdout",
     "output_type": "stream",
     "text": [
      "Epoch 1/50\n",
      "6/6 [==============================] - 1s 54ms/step - loss: 0.6502 - val_loss: 0.5085\n",
      "Epoch 2/50\n",
      "6/6 [==============================] - 0s 36ms/step - loss: 0.3493 - val_loss: 0.1634\n",
      "Epoch 3/50\n",
      "6/6 [==============================] - 0s 35ms/step - loss: 0.1568 - val_loss: 0.1485\n",
      "Epoch 4/50\n",
      "6/6 [==============================] - 0s 35ms/step - loss: 0.1483 - val_loss: 0.1505\n",
      "Epoch 5/50\n",
      "6/6 [==============================] - 0s 35ms/step - loss: 0.1512 - val_loss: 0.1527\n",
      "Epoch 6/50\n",
      "6/6 [==============================] - 0s 36ms/step - loss: 0.1525 - val_loss: 0.1531\n",
      "Epoch 7/50\n",
      "6/6 [==============================] - 0s 36ms/step - loss: 0.1528 - val_loss: 0.1530\n",
      "Epoch 8/50\n",
      "6/6 [==============================] - 0s 42ms/step - loss: 0.1526 - val_loss: 0.1527\n",
      "Epoch 9/50\n",
      "6/6 [==============================] - 0s 41ms/step - loss: 0.1521 - val_loss: 0.1519\n",
      "Epoch 10/50\n",
      "6/6 [==============================] - 0s 38ms/step - loss: 0.1511 - val_loss: 0.1504\n",
      "Epoch 11/50\n",
      "6/6 [==============================] - 0s 37ms/step - loss: 0.1493 - val_loss: 0.1486\n",
      "Epoch 12/50\n",
      "6/6 [==============================] - 0s 44ms/step - loss: 0.1474 - val_loss: 0.1468\n",
      "Epoch 13/50\n",
      "6/6 [==============================] - 0s 38ms/step - loss: 0.1456 - val_loss: 0.1453\n",
      "Epoch 14/50\n",
      "6/6 [==============================] - 0s 38ms/step - loss: 0.1442 - val_loss: 0.1439\n",
      "Epoch 15/50\n",
      "6/6 [==============================] - 0s 39ms/step - loss: 0.1430 - val_loss: 0.1416\n",
      "Epoch 16/50\n",
      "6/6 [==============================] - 0s 37ms/step - loss: 0.1393 - val_loss: 0.1340\n",
      "Epoch 17/50\n",
      "6/6 [==============================] - 0s 35ms/step - loss: 0.1232 - val_loss: 0.0958\n",
      "Epoch 18/50\n",
      "6/6 [==============================] - 0s 35ms/step - loss: 0.0943 - val_loss: 0.0794\n",
      "Epoch 19/50\n",
      "6/6 [==============================] - 0s 42ms/step - loss: 0.0715 - val_loss: 0.0601\n",
      "Epoch 20/50\n",
      "6/6 [==============================] - 0s 36ms/step - loss: 0.0513 - val_loss: 0.0422\n",
      "Epoch 21/50\n",
      "6/6 [==============================] - 0s 35ms/step - loss: 0.0364 - val_loss: 0.0309\n",
      "Epoch 22/50\n",
      "6/6 [==============================] - 0s 36ms/step - loss: 0.0282 - val_loss: 0.0257\n",
      "Epoch 23/50\n",
      "6/6 [==============================] - 0s 36ms/step - loss: 0.0243 - val_loss: 0.0230\n",
      "Epoch 24/50\n",
      "6/6 [==============================] - 0s 36ms/step - loss: 0.0220 - val_loss: 0.0209\n",
      "Epoch 25/50\n",
      "6/6 [==============================] - 0s 36ms/step - loss: 0.0203 - val_loss: 0.0195\n",
      "Epoch 26/50\n",
      "6/6 [==============================] - 0s 37ms/step - loss: 0.0191 - val_loss: 0.0184\n",
      "Epoch 27/50\n",
      "6/6 [==============================] - 0s 36ms/step - loss: 0.0180 - val_loss: 0.0174\n",
      "Epoch 28/50\n",
      "6/6 [==============================] - 0s 36ms/step - loss: 0.0172 - val_loss: 0.0168\n",
      "Epoch 29/50\n",
      "6/6 [==============================] - 0s 40ms/step - loss: 0.0166 - val_loss: 0.0162\n",
      "Epoch 30/50\n",
      "6/6 [==============================] - 0s 36ms/step - loss: 0.0161 - val_loss: 0.0157\n",
      "Epoch 31/50\n",
      "6/6 [==============================] - 0s 36ms/step - loss: 0.0156 - val_loss: 0.0153\n",
      "Epoch 32/50\n",
      "6/6 [==============================] - 0s 36ms/step - loss: 0.0152 - val_loss: 0.0148\n",
      "Epoch 33/50\n",
      "6/6 [==============================] - 0s 35ms/step - loss: 0.0147 - val_loss: 0.0144\n",
      "Epoch 34/50\n",
      "6/6 [==============================] - 0s 35ms/step - loss: 0.0143 - val_loss: 0.0139\n",
      "Epoch 35/50\n",
      "6/6 [==============================] - 0s 36ms/step - loss: 0.0138 - val_loss: 0.0134\n",
      "Epoch 36/50\n",
      "6/6 [==============================] - 0s 36ms/step - loss: 0.0133 - val_loss: 0.0129\n",
      "Epoch 37/50\n",
      "6/6 [==============================] - 0s 36ms/step - loss: 0.0128 - val_loss: 0.0123\n",
      "Epoch 38/50\n",
      "6/6 [==============================] - 0s 36ms/step - loss: 0.0122 - val_loss: 0.0118\n",
      "Epoch 39/50\n",
      "6/6 [==============================] - 0s 36ms/step - loss: 0.0115 - val_loss: 0.0112\n",
      "Epoch 40/50\n",
      "6/6 [==============================] - 0s 36ms/step - loss: 0.0109 - val_loss: 0.0105\n",
      "Epoch 41/50\n",
      "6/6 [==============================] - 0s 36ms/step - loss: 0.0102 - val_loss: 0.0098\n",
      "Epoch 42/50\n",
      "6/6 [==============================] - 0s 36ms/step - loss: 0.0094 - val_loss: 0.0090\n",
      "Epoch 43/50\n",
      "6/6 [==============================] - 0s 36ms/step - loss: 0.0086 - val_loss: 0.0082\n",
      "Epoch 44/50\n",
      "6/6 [==============================] - 0s 34ms/step - loss: 0.0077 - val_loss: 0.0074\n",
      "Epoch 45/50\n",
      "6/6 [==============================] - 0s 36ms/step - loss: 0.0069 - val_loss: 0.0065\n",
      "Epoch 46/50\n",
      "6/6 [==============================] - 0s 35ms/step - loss: 0.0060 - val_loss: 0.0057\n",
      "Epoch 47/50\n",
      "6/6 [==============================] - 0s 36ms/step - loss: 0.0052 - val_loss: 0.0049\n",
      "Epoch 48/50\n",
      "6/6 [==============================] - 0s 36ms/step - loss: 0.0045 - val_loss: 0.0042\n",
      "Epoch 49/50\n",
      "6/6 [==============================] - 0s 35ms/step - loss: 0.0039 - val_loss: 0.0037\n",
      "Epoch 50/50\n",
      "6/6 [==============================] - 0s 35ms/step - loss: 0.0033 - val_loss: 0.0032\n"
     ]
    },
    {
     "data": {
      "text/plain": [
       "<keras.callbacks.History at 0x2d2b68eb0>"
      ]
     },
     "execution_count": 376,
     "metadata": {},
     "output_type": "execute_result"
    }
   ],
   "source": [
    "autoencoder = build_autoencoder()\n",
    "autoencoder.compile(optimizer='adam', loss='binary_crossentropy')\n",
    "autoencoder.fit(X_train, X_train,\n",
    "                epochs=50,\n",
    "                batch_size=128,\n",
    "                shuffle=True,\n",
    "                validation_data=(X_test, X_test))"
   ]
  },
  {
   "cell_type": "code",
   "execution_count": 377,
   "metadata": {},
   "outputs": [
    {
     "name": "stdout",
     "output_type": "stream",
     "text": [
      "10/10 [==============================] - 0s 7ms/step\n"
     ]
    }
   ],
   "source": [
    "# Восстановление изображений\n",
    "decoded_imgs = autoencoder.predict(X_test)"
   ]
  },
  {
   "cell_type": "code",
   "execution_count": 380,
   "metadata": {},
   "outputs": [
    {
     "data": {
      "image/png": "[encoded data removed]",
      "text/plain": [
       "<Figure size 300x300 with 1 Axes>"
      ]
     },
     "metadata": {},
     "output_type": "display_data"
    }
   ],
   "source": [
    "plt.figure(figsize=(3, 3))\n",
    "plt.imshow(decoded_imgs[0], cmap='gray')\n",
    "plt.show()"
   ]
  },
  {
   "cell_type": "code",
   "execution_count": null,
   "metadata": {},
   "outputs": [],
   "source": []
  }
 ],
 "metadata": {
  "kernelspec": {
   "display_name": "base",
   "language": "python",
   "name": "python3"
  },
  "language_info": {
   "codemirror_mode": {
    "name": "ipython",
    "version": 3
   },
   "file_extension": ".py",
   "mimetype": "text/x-python",
   "name": "python",
   "nbconvert_exporter": "python",
   "pygments_lexer": "ipython3",
   "version": "3.10.9"
  },
  "orig_nbformat": 4
 },
 "nbformat": 4,
 "nbformat_minor": 2
}
