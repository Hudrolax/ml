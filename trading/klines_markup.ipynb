{
 "cells": [
  {
   "cell_type": "code",
   "execution_count": null,
   "metadata": {},
   "outputs": [],
   "source": [
    "import pandas as pd\n",
    "import numpy as np\n",
    "from trade_tester.tester import TesterBaseClass, render_candles\n",
    "from trade_tester.data_classes import Actions, Order\n",
    "from sklearn.preprocessing import RobustScaler, MinMaxScaler, StandardScaler"
   ]
  },
  {
   "cell_type": "code",
   "execution_count": null,
   "metadata": {},
   "outputs": [],
   "source": [
    "klines_file = 'klines/DOGEUSDT_15m'"
   ]
  },
  {
   "cell_type": "code",
   "execution_count": null,
   "metadata": {},
   "outputs": [],
   "source": [
    "klines = pd.read_csv(f'{klines_file}.csv')[['open_time', 'open', 'close', 'high', 'low', 'vol', 'trades']]\n",
    "klines = klines.rename({'open_time': 'date'}, axis=1)\n",
    "klines['date'] = pd.to_datetime(klines['date'], unit='ms')\n",
    "# klines = klines.iloc[-500:].reset_index(drop=True)"
   ]
  },
  {
   "cell_type": "code",
   "execution_count": null,
   "metadata": {},
   "outputs": [],
   "source": [
    "class TesterClass(TesterBaseClass):\n",
    "\n",
    "    def _on_tick(self, action: Actions) -> Order:\n",
    "        open_orders = self.open_orders()\n",
    "\n",
    "        # close open orders\n",
    "        tick_pnl = 0\n",
    "        for order in open_orders:\n",
    "            if order.type == Actions.Buy:\n",
    "                # Buy\n",
    "                if self.tick['open'] >= order.TP or self.tick['open'] <= order.SL:\n",
    "                    tick_pnl += self.close_order(order)\n",
    "                    # self.done = True\n",
    "            else:\n",
    "                # Sell\n",
    "                if self.tick['open'] <= order.TP or self.tick['open'] >= order.SL:\n",
    "                    tick_pnl += self.close_order(order)\n",
    "                    # self.done = True\n",
    "\n",
    "        # Open orders.\n",
    "        if not self.done and not open_orders:\n",
    "            _tp = self.tick['open'] * self.TP/100\n",
    "            _sl = self.tick['open'] * self.SL/100\n",
    "            if action == Actions.Buy:\n",
    "                _tp = self.tick['open'] + _tp\n",
    "                _sl = self.tick['open'] - _sl\n",
    "            else:\n",
    "                _tp = self.tick['open'] - _tp\n",
    "                _sl = self.tick['open'] + _sl\n",
    "\n",
    "            self.open_order(\n",
    "                action=Actions(action),\n",
    "                vol=self.balance,\n",
    "                TP=_tp,\n",
    "                SL=_sl,\n",
    "            )\n",
    "        \n",
    "        # Если свеча случайно оказалась прибыльной, а за ней все плохо, то обнуляем прибыль\n",
    "        for order in self.orders:\n",
    "            if order.close:\n",
    "                if order.open > self.tick['open']:\n",
    "                    order.pnl = -20\n",
    "                    order.pnl_percent = -2\n",
    "                    self.done = True\n",
    "        \n",
    "        # Trailing order\n",
    "        # if self.n_tick >= 3:\n",
    "        #     for order in open_orders:\n",
    "        #         sl = klines.at[self.n_tick-3, 'open']\n",
    "        #         if sl > order.SL:\n",
    "        #             order.SL = sl \n",
    "\n",
    "        # return the only one order\n",
    "        return self.orders[0]\n",
    "        "
   ]
  },
  {
   "cell_type": "code",
   "execution_count": null,
   "metadata": {},
   "outputs": [],
   "source": [
    "# тейк от 0.1 до 5%\n",
    "levels = np.arange(0.5, 5, 0.1)\n",
    "klines['buy_prob'] = 0\n",
    "best_orders = []\n",
    "for i in range(len(klines)):\n",
    "    # удерживаем позиция максимум 15 свечей\n",
    "    df = klines.iloc[i: i+15]\n",
    "    order_list = []\n",
    "    for level in levels:\n",
    "        tester = TesterClass(klines=df, TP=level, SL=level/2)\n",
    "        while not tester.done:\n",
    "            order_list.append(tester.on_tick(action=Actions.Buy))\n",
    "\n",
    "    max_profit = float('-inf')\n",
    "    index_max = 0\n",
    "    for n, order in enumerate(order_list):\n",
    "        if max_profit < order.pnl:\n",
    "            max_profit = order.pnl\n",
    "            index_max = n\n",
    "\n",
    "    if max_profit > 0:\n",
    "        if order_list[index_max].close:\n",
    "            best_orders.append(order_list[index_max])\n",
    "    klines.at[i, 'buy_prob'] = max_profit\n",
    "    if i % 200 == 0 and i != 0:\n",
    "        print(f'kline {i} in {len(klines)}')\n",
    "print('done!')\n",
    "klines['buy_prob'] = klines['buy_prob'].apply(lambda x: 0 if x < 0 else 1)\n",
    "klines = klines[:-15]\n",
    "klines.to_csv(f'{klines_file}_prob2.csv', index=False)"
   ]
  },
  {
   "cell_type": "code",
   "execution_count": null,
   "metadata": {},
   "outputs": [],
   "source": [
    "df = pd.read_csv(f'{klines_file}_prob2.csv')\n",
    "# df['buy_prob'] = df['buy_prob'].apply(lambda x: 40 if x > 40 else -40 if x < -40 else x)\n",
    "df['trades'] = df['trades'].apply(lambda x: 100000 if x > 100000 else x)\n",
    "df['vol'] = df['vol'].apply(lambda x: 2e8 if x > 2e8 else x)"
   ]
  },
  {
   "cell_type": "code",
   "execution_count": null,
   "metadata": {},
   "outputs": [],
   "source": [
    "df['ksize'] = df['high'] - df['low']"
   ]
  },
  {
   "cell_type": "code",
   "execution_count": null,
   "metadata": {},
   "outputs": [],
   "source": [
    "df"
   ]
  },
  {
   "cell_type": "code",
   "execution_count": null,
   "metadata": {},
   "outputs": [],
   "source": [
    "import pickle\n",
    "\n",
    "def scale_robust(df, column_name):\n",
    "    scaler1 = RobustScaler()\n",
    "    scaler2 = MinMaxScaler(feature_range=(0, 1))\n",
    "    values = df[column_name].values.reshape(-1, 1)\n",
    "    scaled_values = scaler1.fit_transform(values)\n",
    "    scaled_values = scaler2.fit_transform(scaled_values)\n",
    "    df_scaled = df.copy()\n",
    "    df_scaled[column_name] = scaled_values\n",
    "    # Сохранение scaler\n",
    "    with open('scalers/robust.pkl', 'wb') as file:\n",
    "        pickle.dump(scaler1, file)\n",
    "    with open('scalers/minmax.pkl', 'wb') as file:\n",
    "        pickle.dump(scaler2, file)\n",
    "    return df_scaled\n",
    "    \n",
    "def scale_columns_std(df, cols):\n",
    "    data = df[cols].values.astype(float)\n",
    "    scaler = StandardScaler()\n",
    "    scaler.fit(data.reshape(-1, 1))\n",
    "    data_scaled = scaler.transform(data.reshape(-1, 1)).reshape(-1, len(cols))\n",
    "    df_scaled = pd.DataFrame(data_scaled, index=df.index, columns=cols)\n",
    "    df_remaining = df.drop(cols, axis=1)\n",
    "    with open('scalers/standard.pkl', 'wb') as file:\n",
    "        pickle.dump(scaler, file)\n",
    "    return pd.concat([df_remaining, df_scaled], axis=1)\n",
    "\n",
    "# df_scaled = scale_robust(df, 'buy_prob')\n",
    "df_scaled = scale_robust(df, 'vol')\n",
    "df_scaled = scale_robust(df_scaled, 'trades')\n",
    "# df_scaled = scale_columns_std(df_scaled, ['open', 'close', 'high', 'low'])\n",
    "df_scaled = df_scaled.reindex(columns=['date', 'open', 'close', 'high', 'low', 'vol', 'trades', 'ksize', 'buy_prob'])\n",
    "df_scaled.to_csv(f'{klines_file}_prob_scaled.csv', index=False)"
   ]
  },
  {
   "cell_type": "code",
   "execution_count": null,
   "metadata": {},
   "outputs": [],
   "source": [
    "df2 = df[-1000:]\n",
    "# df = klines\n",
    "fig = render_candles(df2, colored_deal_probability=True, prob_col='buy_prob')\n",
    "fig.show()"
   ]
  },
  {
   "cell_type": "code",
   "execution_count": null,
   "metadata": {},
   "outputs": [],
   "source": [
    "df2 = df_scaled.iloc[len(df)-1000:]\n",
    "fig = render_candles(df2, colored_deal_probability=True, prob_col='buy_prob')\n",
    "fig.show()"
   ]
  },
  {
   "cell_type": "code",
   "execution_count": null,
   "metadata": {},
   "outputs": [],
   "source": []
  }
 ],
 "metadata": {
  "kernelspec": {
   "display_name": "base",
   "language": "python",
   "name": "python3"
  },
  "language_info": {
   "codemirror_mode": {
    "name": "ipython",
    "version": 3
   },
   "file_extension": ".py",
   "mimetype": "text/x-python",
   "name": "python",
   "nbconvert_exporter": "python",
   "pygments_lexer": "ipython3",
   "version": "3.10.9"
  },
  "orig_nbformat": 4,
  "vscode": {
   "interpreter": {
    "hash": "fdd41deda711749ed0eecb680569f0f47ed21afdd6d3be9f7d0f767172fcd296"
   }
  }
 },
 "nbformat": 4,
 "nbformat_minor": 2
}
