{
 "cells": [
  {
   "cell_type": "code",
   "execution_count": 1,
   "metadata": {},
   "outputs": [],
   "source": [
    "from binance.um_futures import UMFutures\n",
    "from binance.websocket.um_futures.websocket_client import UMFuturesWebsocketClient\n",
    "import pandas as pd\n",
    "from time import sleep"
   ]
  },
  {
   "cell_type": "code",
   "execution_count": null,
   "metadata": {},
   "outputs": [],
   "source": [
    "um_futures_client = UMFutures()\n",
    "cols = ['open_time', 'open', 'high', 'low', 'close',\n",
    "        'vol', 'close_time', 'qa_vol', 'trades',]\n",
    "df = pd.DataFrame(um_futures_client.klines(\"BTCUSDT\", \"1d\"))\n",
    "df = df.drop([9, 10, 11], axis=1)\n",
    "df.columns = cols\n",
    "df['open_time'] = pd.to_datetime(df['open_time'], unit='ms')"
   ]
  },
  {
   "cell_type": "code",
   "execution_count": null,
   "metadata": {},
   "outputs": [],
   "source": [
    "print(df.iloc[-1])"
   ]
  },
  {
   "cell_type": "code",
   "execution_count": 2,
   "metadata": {},
   "outputs": [
    {
     "name": "stdout",
     "output_type": "stream",
     "text": [
      "{'id': 12, 'result': None}\n",
      "{'e': 'kline', 'E': 1682473958337, 's': 'BTCUSDT', 'k': {'t': 1682467200000, 'T': 1682553599999, 's': 'BTCUSDT', 'i': '1d', 'f': 3614653692, 'L': 3615073057, 'o': '28286.70', 'c': '28322.20', 'h': '28473.00', 'l': '28232.80', 'v': '45706.115', 'n': 419364, 'x': False, 'q': '1295688738.72060', 'V': '23405.695', 'Q': '663605660.31070', 'B': '0'}}\n",
      "{'e': 'kline', 'E': 1682473958732, 's': 'BTCUSDT', 'k': {'t': 1682467200000, 'T': 1682553599999, 's': 'BTCUSDT', 'i': '1d', 'f': 3614653692, 'L': 3615073062, 'o': '28286.70', 'c': '28322.20', 'h': '28473.00', 'l': '28232.80', 'v': '45707.238', 'n': 419369, 'x': False, 'q': '1295720544.61600', 'V': '23406.343', 'Q': '663624013.16110', 'B': '0'}}\n",
      "{'e': 'kline', 'E': 1682473959081, 's': 'BTCUSDT', 'k': {'t': 1682467200000, 'T': 1682553599999, 's': 'BTCUSDT', 'i': '1d', 'f': 3614653692, 'L': 3615073069, 'o': '28286.70', 'c': '28322.20', 'h': '28473.00', 'l': '28232.80', 'v': '45707.291', 'n': 419376, 'x': False, 'q': '1295722045.69420', 'V': '23406.359', 'Q': '663624466.31790', 'B': '0'}}\n",
      "{'e': 'kline', 'E': 1682473959335, 's': 'BTCUSDT', 'k': {'t': 1682467200000, 'T': 1682553599999, 's': 'BTCUSDT', 'i': '1d', 'f': 3614653692, 'L': 3615073073, 'o': '28286.70', 'c': '28322.20', 'h': '28473.00', 'l': '28232.80', 'v': '45707.332', 'n': 419380, 'x': False, 'q': '1295723206.90440', 'V': '23406.359', 'Q': '663624466.31790', 'B': '0'}}\n",
      "{'e': 'kline', 'E': 1682473959624, 's': 'BTCUSDT', 'k': {'t': 1682467200000, 'T': 1682553599999, 's': 'BTCUSDT', 'i': '1d', 'f': 3614653692, 'L': 3615073077, 'o': '28286.70', 'c': '28322.30', 'h': '28473.00', 'l': '28232.80', 'v': '45707.509', 'n': 419384, 'x': False, 'q': '1295728219.93480', 'V': '23406.369', 'Q': '663624749.54090', 'B': '0'}}\n",
      "{'e': 'kline', 'E': 1682473960027, 's': 'BTCUSDT', 'k': {'t': 1682467200000, 'T': 1682553599999, 's': 'BTCUSDT', 'i': '1d', 'f': 3614653692, 'L': 3615073079, 'o': '28286.70', 'c': '28322.30', 'h': '28473.00', 'l': '28232.80', 'v': '45708.494', 'n': 419386, 'x': False, 'q': '1295756117.32180', 'V': '23406.569', 'Q': '663630414.00090', 'B': '0'}}\n",
      "{'e': 'kline', 'E': 1682473960728, 's': 'BTCUSDT', 'k': {'t': 1682467200000, 'T': 1682553599999, 's': 'BTCUSDT', 'i': '1d', 'f': 3614653692, 'L': 3615073084, 'o': '28286.70', 'c': '28322.20', 'h': '28473.00', 'l': '28232.80', 'v': '45708.899', 'n': 419391, 'x': False, 'q': '1295767587.81370', 'V': '23406.578', 'Q': '663630668.90160', 'B': '0'}}\n",
      "[None, 1682473958337, 1682473958732, 1682473959081, 1682473959335, 1682473959624, 1682473960027, 1682473960728]\n"
     ]
    },
    {
     "name": "stderr",
     "output_type": "stream",
     "text": [
      "WebSocket connection closed: connection was closed uncleanly (\"peer dropped the TCP connection without previous WebSocket closing handshake\"), code: 1006, clean: False, reason: connection was closed uncleanly (\"peer dropped the TCP connection without previous WebSocket closing handshake\")\n"
     ]
    },
    {
     "ename": "",
     "evalue": "",
     "output_type": "error",
     "traceback": [
      "\u001b[1;31mThe Kernel crashed while executing code in the the current cell or a previous cell. Please review the code in the cell(s) to identify a possible cause of the failure. Click <a href='https://aka.ms/vscodeJupyterKernelCrash'>here</a> for more info. View Jupyter <a href='command:jupyter.viewOutput'>log</a> for further details."
     ]
    }
   ],
   "source": [
    "def save_results(arr):\n",
    "    def decorator(func):\n",
    "        def wrapper(*args, **kwargs):\n",
    "            result = func(*args, **kwargs)\n",
    "            time = result.get('E', None)\n",
    "            arr.append(time)\n",
    "            return result\n",
    "        return wrapper\n",
    "    return decorator\n",
    "\n",
    "array = []\n",
    "\n",
    "@save_results(arr=array)\n",
    "def message_handler(message):\n",
    "    print(message)\n",
    "    return message\n",
    "\n",
    "my_client = UMFuturesWebsocketClient()\n",
    "my_client.start()\n",
    "\n",
    "my_client.kline(\n",
    "    symbol=\"btcusdt\",\n",
    "    id=12,\n",
    "    interval=\"1d\",\n",
    "    callback=message_handler,\n",
    ")\n",
    "\n",
    "sleep(4)\n",
    "print(array)\n",
    "\n",
    "my_client.stop()"
   ]
  },
  {
   "cell_type": "code",
   "execution_count": null,
   "metadata": {},
   "outputs": [],
   "source": []
  }
 ],
 "metadata": {
  "kernelspec": {
   "display_name": "base",
   "language": "python",
   "name": "python3"
  },
  "language_info": {
   "codemirror_mode": {
    "name": "ipython",
    "version": 3
   },
   "file_extension": ".py",
   "mimetype": "text/x-python",
   "name": "python",
   "nbconvert_exporter": "python",
   "pygments_lexer": "ipython3",
   "version": "3.10.9"
  },
  "orig_nbformat": 4
 },
 "nbformat": 4,
 "nbformat_minor": 2
}
