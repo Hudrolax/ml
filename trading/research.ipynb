{
 "cells": [
  {
   "cell_type": "code",
   "execution_count": 10,
   "metadata": {},
   "outputs": [],
   "source": [
    "from trainer.data import load_data, load_data_from_list\n",
    "from trainer.policy import get_model\n",
    "from trainer.env import make_env\n",
    "from trainer.preprocessing import make_observation_window\n",
    "import pandas as pd\n",
    "import numpy as np\n",
    "import matplotlib.pyplot as plt\n",
    "from stable_baselines3 import PPO\n",
    "from trade_tester.tester import render_candles\n",
    "import xarray as xr\n",
    "\n",
    "from sklearn.model_selection import train_test_split\n",
    "from keras.models import Sequential, Model\n",
    "from keras import layers\n",
    "import tensorflow as tf\n",
    "from keras.optimizers import Adam\n",
    "# отключим GPU (нужно для платформы Apple M1)\n",
    "tf.config.set_visible_devices([], 'GPU')"
   ]
  },
  {
   "cell_type": "code",
   "execution_count": null,
   "metadata": {},
   "outputs": [],
   "source": [
    "load_data_kwargs = dict(\n",
    "    path = 'klines/',\n",
    "    symbol = 'DOGEUSDT',\n",
    "    tf='15m',\n",
    "    preprocessing_kwargs = dict(\n",
    "        bb = dict(period=20, render=True, deviation=1.8),\n",
    "        rsi = dict(period=14, render=True, separately=True, color='blue'),\n",
    "        # ma = dict(period=20, render=True, color='red'),\n",
    "        obv = dict(render=True, color='green', separately=True),\n",
    "    ),\n",
    "    split_validate_percent = 0,\n",
    ")\n",
    "train_klines, val_klines, indicators = load_data(**load_data_kwargs)"
   ]
  },
  {
   "cell_type": "code",
   "execution_count": null,
   "metadata": {},
   "outputs": [],
   "source": [
    "train_klines"
   ]
  },
  {
   "cell_type": "code",
   "execution_count": null,
   "metadata": {},
   "outputs": [],
   "source": [
    "env_kwargs = dict(\n",
    "    env_class='TradingEnv2Actions',\n",
    "    tester='BBFutureTester2',\n",
    "    klines=train_klines,\n",
    "    indicators=indicators,\n",
    "    b_size=1000,\n",
    ")\n",
    "env = make_env(**env_kwargs)\n",
    "# model = get_model(env=env)\n",
    "# model = PPO('MlpPolicy', env)"
   ]
  },
  {
   "cell_type": "code",
   "execution_count": null,
   "metadata": {},
   "outputs": [],
   "source": [
    "done=False\n",
    "obs = env.reset()\n",
    "while not done:\n",
    "    action = env.action_space.sample()\n",
    "    obs, reward, done, info = env.step([action])\n",
    "    env.render()"
   ]
  },
  {
   "cell_type": "code",
   "execution_count": null,
   "metadata": {},
   "outputs": [],
   "source": [
    "model.policy._modules"
   ]
  },
  {
   "cell_type": "code",
   "execution_count": null,
   "metadata": {},
   "outputs": [],
   "source": [
    "# Извлеките параметры политики\n",
    "policy_parameters = model.policy.state_dict()\n",
    "# Выведите веса каждого слоя\n",
    "for name, weights in policy_parameters.items():\n",
    "    print(f\"{name}: {weights}\")"
   ]
  },
  {
   "cell_type": "code",
   "execution_count": null,
   "metadata": {},
   "outputs": [],
   "source": [
    "# Исследование структуры model.policy\n",
    "def explore_structure(obj, indent=0):\n",
    "    for name in dir(obj):\n",
    "        if not name.startswith(\"__\"):\n",
    "            value = getattr(obj, name)\n",
    "            if not callable(value):\n",
    "                print(\"  \" * indent, f\"{name}: {type(value)}\")\n",
    "                if isinstance(value, torch.nn.Module):\n",
    "                    explore_structure(value, indent + 1)\n",
    "\n",
    "# print(\"Policy structure:\")\n",
    "# explore_structure(model.policy)"
   ]
  },
  {
   "cell_type": "code",
   "execution_count": null,
   "metadata": {},
   "outputs": [],
   "source": [
    "obs = env.reset()\n",
    "obs = th.tensor(obs)\n",
    "obs = obs.transpose(1, 2)[0]\n",
    "for channel in range(obs.shape[0]):\n",
    "    print()"
   ]
  },
  {
   "cell_type": "code",
   "execution_count": null,
   "metadata": {},
   "outputs": [],
   "source": [
    "from trainer.nn import CustomNN\n",
    "\n",
    "nn = CustomNN(np.array([[9, 300], [9, 300]]))"
   ]
  },
  {
   "cell_type": "code",
   "execution_count": null,
   "metadata": {},
   "outputs": [],
   "source": [
    "nn.named_parameters"
   ]
  },
  {
   "cell_type": "code",
   "execution_count": null,
   "metadata": {},
   "outputs": [],
   "source": [
    "for name, param in nn.named_parameters():\n",
    "    num_params = param.numel()\n",
    "    print(num_params)"
   ]
  },
  {
   "cell_type": "code",
   "execution_count": null,
   "metadata": {},
   "outputs": [],
   "source": [
    "kwargs = dict(\n",
    "    symbols = ['DOGEUSDT', 'DOGEBTC', 'BTCUSDT'],\n",
    "    tfs = ['15m', '30m', '1h', '4h'],\n",
    "    preprocessing_kwargs = dict(\n",
    "                    bb = dict(period=20, deviation=2),\n",
    "                    rsi = dict(period=14),\n",
    "                    ma = dict(period=20),\n",
    "                    obv = dict(),\n",
    "                ),\n",
    ")\n",
    "dfs = load_data_from_list(**kwargs)"
   ]
  },
  {
   "cell_type": "code",
   "execution_count": null,
   "metadata": {},
   "outputs": [],
   "source": [
    "# find min and max date over dfs\n",
    "min_dates = []\n",
    "for df in dfs:\n",
    "    min_dates.append(df['date'].min())\n",
    "min_date = max(min_dates)\n",
    "\n",
    "# shrink dataset so that the minimum date is the same\n",
    "dfs2 = []\n",
    "for df in dfs:\n",
    "    dfs2.append(df[df['date'] >= min_date].reset_index(drop=True))\n",
    "dfs = dfs2"
   ]
  },
  {
   "cell_type": "code",
   "execution_count": null,
   "metadata": {},
   "outputs": [],
   "source": [
    "len(dfs[0])"
   ]
  },
  {
   "cell_type": "code",
   "execution_count": null,
   "metadata": {},
   "outputs": [],
   "source": [
    "dataset = []\n",
    "window = 100\n",
    "length = len(dfs[0]) - window\n",
    "for i in range(1600+window+1, window+length):\n",
    "    a = make_observation_window(dfs, date=dfs[0].iloc[i][0], window=window)\n",
    "    dataset.append(a)"
   ]
  },
  {
   "cell_type": "code",
   "execution_count": null,
   "metadata": {},
   "outputs": [],
   "source": [
    "dataset = np.array(dataset)\n",
    "dataset.shape"
   ]
  },
  {
   "cell_type": "code",
   "execution_count": null,
   "metadata": {},
   "outputs": [],
   "source": [
    "# Создаем xarray.DataArray с метками\n",
    "date = dfs[0][:dataset.shape[0]]['date'].values\n",
    "dataset = xr.DataArray(\n",
    "    dataset,\n",
    "    coords={'date': date},\n",
    "    dims=['date', 'n', 'chanel']\n",
    ")\n",
    "dataset.to_netcdf('dataset.nc')"
   ]
  },
  {
   "cell_type": "code",
   "execution_count": 2,
   "metadata": {},
   "outputs": [],
   "source": [
    "dataset = xr.open_dataarray('dataset.nc')"
   ]
  },
  {
   "cell_type": "code",
   "execution_count": 4,
   "metadata": {},
   "outputs": [
    {
     "data": {
      "text/plain": [
       "(94833, 100, 144)"
      ]
     },
     "execution_count": 4,
     "metadata": {},
     "output_type": "execute_result"
    }
   ],
   "source": [
    "dataset.shape"
   ]
  },
  {
   "cell_type": "code",
   "execution_count": 9,
   "metadata": {},
   "outputs": [
    {
     "data": {
      "text/plain": [
       "<matplotlib.image.AxesImage at 0x51d37c7f0>"
      ]
     },
     "execution_count": 9,
     "metadata": {},
     "output_type": "execute_result"
    },
    {
     "data": {
      "image/png": "[encoded data removed]",
      "text/plain": [
       "<Figure size 1000x1000 with 1 Axes>"
      ]
     },
     "metadata": {},
     "output_type": "display_data"
    }
   ],
   "source": [
    "plt.figure(figsize=(10, 10))\n",
    "plt.imshow(train_data[0].transpose(), cmap='gray')"
   ]
  },
  {
   "cell_type": "code",
   "execution_count": 7,
   "metadata": {},
   "outputs": [],
   "source": [
    "# Разделение данных на обучающую и тестовую выборки\n",
    "split_index = int(0.8 * dataset.shape[0])\n",
    "train_data = dataset[:split_index]\n",
    "test_data = dataset[split_index:]"
   ]
  },
  {
   "cell_type": "code",
   "execution_count": 11,
   "metadata": {},
   "outputs": [
    {
     "name": "stdout",
     "output_type": "stream",
     "text": [
      "WARNING:tensorflow:Keras is training/fitting/evaluating on array-like data. Keras may not be optimized for this format, so if your input data format is supported by TensorFlow I/O (https://github.com/tensorflow/io) we recommend using that to load a Dataset instead.\n",
      "Epoch 1/20\n"
     ]
    },
    {
     "name": "stderr",
     "output_type": "stream",
     "text": [
      "2023-04-14 11:25:38.824153: W tensorflow/tsl/platform/profile_utils/cpu_utils.cc:128] Failed to get CPU frequency: 0 Hz\n"
     ]
    },
    {
     "name": "stdout",
     "output_type": "stream",
     "text": [
      "593/593 [==============================] - ETA: 0s - loss: 0.0216WARNING:tensorflow:Keras is training/fitting/evaluating on array-like data. Keras may not be optimized for this format, so if your input data format is supported by TensorFlow I/O (https://github.com/tensorflow/io) we recommend using that to load a Dataset instead.\n",
      "593/593 [==============================] - 19s 32ms/step - loss: 0.0216 - val_loss: 0.0118\n",
      "Epoch 2/20\n",
      "593/593 [==============================] - 18s 30ms/step - loss: 0.0117 - val_loss: 0.0106\n",
      "Epoch 3/20\n",
      "593/593 [==============================] - 18s 30ms/step - loss: 0.0106 - val_loss: 0.0094\n",
      "Epoch 4/20\n",
      "593/593 [==============================] - 18s 30ms/step - loss: 0.0098 - val_loss: 0.0091\n",
      "Epoch 5/20\n",
      "593/593 [==============================] - 18s 30ms/step - loss: 0.0094 - val_loss: 0.0086\n",
      "Epoch 6/20\n",
      "593/593 [==============================] - 18s 31ms/step - loss: 0.0089 - val_loss: 0.0083\n",
      "Epoch 7/20\n",
      "593/593 [==============================] - 18s 31ms/step - loss: 0.0083 - val_loss: 0.0076\n",
      "Epoch 8/20\n",
      "593/593 [==============================] - 19s 32ms/step - loss: 0.0079 - val_loss: 0.0071\n",
      "Epoch 9/20\n",
      "593/593 [==============================] - 18s 31ms/step - loss: 0.0073 - val_loss: 0.0066\n",
      "Epoch 10/20\n",
      "593/593 [==============================] - 18s 31ms/step - loss: 0.0069 - val_loss: 0.0063\n",
      "Epoch 11/20\n",
      "593/593 [==============================] - 19s 31ms/step - loss: 0.0066 - val_loss: 0.0062\n",
      "Epoch 12/20\n",
      "593/593 [==============================] - 18s 31ms/step - loss: 0.0065 - val_loss: 0.0061\n",
      "Epoch 13/20\n",
      "593/593 [==============================] - 18s 30ms/step - loss: 0.0065 - val_loss: 0.0061\n",
      "Epoch 14/20\n",
      "593/593 [==============================] - 18s 31ms/step - loss: 0.0064 - val_loss: 0.0060\n",
      "Epoch 15/20\n",
      "593/593 [==============================] - 18s 31ms/step - loss: 0.0064 - val_loss: 0.0059\n",
      "Epoch 16/20\n",
      "593/593 [==============================] - 19s 31ms/step - loss: 0.0064 - val_loss: 0.0059\n",
      "Epoch 17/20\n",
      "182/593 [========>.....................] - ETA: 11s - loss: 0.0063"
     ]
    }
   ],
   "source": [
    "# Создание модели автоэнкодера на основе Conv1D\n",
    "input_layer = layers.Input(shape=(100, 144))\n",
    "encoder = layers.Conv1D(filters=64, kernel_size=3, activation='relu', padding='same')(input_layer)\n",
    "encoder_output = layers.MaxPooling1D(pool_size=2, padding='same')(encoder)\n",
    "\n",
    "decoder_input = layers.Conv1D(filters=64, kernel_size=3, activation='relu', padding='same')(encoder_output)\n",
    "decoder = layers.UpSampling1D(size=2)(decoder_input)\n",
    "decoder_output = layers.Conv1D(filters=144, kernel_size=3, activation='linear', padding='same')(decoder)\n",
    "\n",
    "autoencoder = Model(inputs=input_layer, outputs=decoder_output)\n",
    "\n",
    "# Компиляция и обучение модели\n",
    "autoencoder.compile(optimizer=Adam(learning_rate=0.001), loss='mse')\n",
    "autoencoder.fit(train_data, train_data,\n",
    "                epochs=20,\n",
    "                batch_size=128,\n",
    "                shuffle=True,\n",
    "                validation_data=(test_data, test_data))"
   ]
  },
  {
   "cell_type": "code",
   "execution_count": null,
   "metadata": {},
   "outputs": [],
   "source": []
  }
 ],
 "metadata": {
  "kernelspec": {
   "display_name": "base",
   "language": "python",
   "name": "python3"
  },
  "language_info": {
   "codemirror_mode": {
    "name": "ipython",
    "version": 3
   },
   "file_extension": ".py",
   "mimetype": "text/x-python",
   "name": "python",
   "nbconvert_exporter": "python",
   "pygments_lexer": "ipython3",
   "version": "3.10.9"
  },
  "orig_nbformat": 4
 },
 "nbformat": 4,
 "nbformat_minor": 2
}
