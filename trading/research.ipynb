{
 "cells": [
  {
   "cell_type": "code",
   "execution_count": 3,
   "metadata": {},
   "outputs": [],
   "source": [
    "from trainer.data import load_data, load_data_from_list\n",
    "from trainer.policy import get_model\n",
    "from trainer.env import make_env\n",
    "from trainer.preprocessing import make_observation_window\n",
    "import pandas as pd\n",
    "import numpy as np\n",
    "import matplotlib.pyplot as plt\n",
    "from stable_baselines3 import PPO\n",
    "from trade_tester.tester import render_candles\n",
    "import xarray as xr\n",
    "\n",
    "# from sklearn.model_selection import train_test_split\n",
    "# from keras.models import Sequential, Model\n",
    "# from keras import layers\n",
    "# import tensorflow as tf\n",
    "# from keras.optimizers import Adam\n",
    "# # отключим GPU (нужно для платформы Apple M1)\n",
    "# tf.config.set_visible_devices([], 'GPU')"
   ]
  },
  {
   "cell_type": "code",
   "execution_count": 4,
   "metadata": {},
   "outputs": [],
   "source": [
    "dataset = xr.open_dataarray('dataset.nc')\n",
    "load_data_kwargs = dict(\n",
    "    path = 'klines/',\n",
    "    symbol = 'DOGEUSDT',\n",
    "    tf='15m',\n",
    "    preprocessing_kwargs = dict(\n",
    "        bb = dict(period=20, render=True, deviation=1.8),\n",
    "        rsi = dict(period=14, render=True, separately=True, color='blue'),\n",
    "        # ma = dict(period=20, render=True, color='red'),\n",
    "        obv = dict(render=True, color='green', separately=True),\n",
    "    ),\n",
    "    split_validate_percent = 0,\n",
    "    dataset=dataset,\n",
    ")\n",
    "train_klines, val_klines, indicators = load_data(**load_data_kwargs)"
   ]
  },
  {
   "cell_type": "code",
   "execution_count": 5,
   "metadata": {},
   "outputs": [
    {
     "data": {
      "text/html": [
       "<div>\n",
       "<style scoped>\n",
       "    .dataframe tbody tr th:only-of-type {\n",
       "        vertical-align: middle;\n",
       "    }\n",
       "\n",
       "    .dataframe tbody tr th {\n",
       "        vertical-align: top;\n",
       "    }\n",
       "\n",
       "    .dataframe thead th {\n",
       "        text-align: right;\n",
       "    }\n",
       "</style>\n",
       "<table border=\"1\" class=\"dataframe\">\n",
       "  <thead>\n",
       "    <tr style=\"text-align: right;\">\n",
       "      <th></th>\n",
       "      <th>date</th>\n",
       "      <th>open</th>\n",
       "      <th>high</th>\n",
       "      <th>low</th>\n",
       "      <th>close</th>\n",
       "      <th>vol</th>\n",
       "      <th>trades</th>\n",
       "      <th>bb_upper</th>\n",
       "      <th>bb_middle</th>\n",
       "      <th>bb_lower</th>\n",
       "      <th>rsi</th>\n",
       "      <th>obv</th>\n",
       "    </tr>\n",
       "  </thead>\n",
       "  <tbody>\n",
       "    <tr>\n",
       "      <th>19</th>\n",
       "      <td>2020-07-10 13:45:00</td>\n",
       "      <td>0.003750</td>\n",
       "      <td>0.003778</td>\n",
       "      <td>0.003720</td>\n",
       "      <td>0.003733</td>\n",
       "      <td>51765898</td>\n",
       "      <td>1262</td>\n",
       "      <td>0.003850</td>\n",
       "      <td>0.003760</td>\n",
       "      <td>0.003670</td>\n",
       "      <td>51.083591</td>\n",
       "      <td>-423991029</td>\n",
       "    </tr>\n",
       "    <tr>\n",
       "      <th>20</th>\n",
       "      <td>2020-07-10 14:00:00</td>\n",
       "      <td>0.003733</td>\n",
       "      <td>0.003790</td>\n",
       "      <td>0.003733</td>\n",
       "      <td>0.003756</td>\n",
       "      <td>83726229</td>\n",
       "      <td>1788</td>\n",
       "      <td>0.003847</td>\n",
       "      <td>0.003758</td>\n",
       "      <td>0.003669</td>\n",
       "      <td>47.595357</td>\n",
       "      <td>-340264800</td>\n",
       "    </tr>\n",
       "    <tr>\n",
       "      <th>21</th>\n",
       "      <td>2020-07-10 14:15:00</td>\n",
       "      <td>0.003755</td>\n",
       "      <td>0.003785</td>\n",
       "      <td>0.003752</td>\n",
       "      <td>0.003767</td>\n",
       "      <td>32283277</td>\n",
       "      <td>1079</td>\n",
       "      <td>0.003844</td>\n",
       "      <td>0.003756</td>\n",
       "      <td>0.003669</td>\n",
       "      <td>37.795276</td>\n",
       "      <td>-307981523</td>\n",
       "    </tr>\n",
       "    <tr>\n",
       "      <th>22</th>\n",
       "      <td>2020-07-10 14:30:00</td>\n",
       "      <td>0.003767</td>\n",
       "      <td>0.003784</td>\n",
       "      <td>0.003721</td>\n",
       "      <td>0.003765</td>\n",
       "      <td>94467925</td>\n",
       "      <td>3125</td>\n",
       "      <td>0.003845</td>\n",
       "      <td>0.003759</td>\n",
       "      <td>0.003673</td>\n",
       "      <td>44.444444</td>\n",
       "      <td>-402449448</td>\n",
       "    </tr>\n",
       "    <tr>\n",
       "      <th>23</th>\n",
       "      <td>2020-07-10 14:45:00</td>\n",
       "      <td>0.003765</td>\n",
       "      <td>0.003837</td>\n",
       "      <td>0.003759</td>\n",
       "      <td>0.003797</td>\n",
       "      <td>119247923</td>\n",
       "      <td>3226</td>\n",
       "      <td>0.003848</td>\n",
       "      <td>0.003762</td>\n",
       "      <td>0.003675</td>\n",
       "      <td>50.793651</td>\n",
       "      <td>-283201525</td>\n",
       "    </tr>\n",
       "    <tr>\n",
       "      <th>...</th>\n",
       "      <td>...</td>\n",
       "      <td>...</td>\n",
       "      <td>...</td>\n",
       "      <td>...</td>\n",
       "      <td>...</td>\n",
       "      <td>...</td>\n",
       "      <td>...</td>\n",
       "      <td>...</td>\n",
       "      <td>...</td>\n",
       "      <td>...</td>\n",
       "      <td>...</td>\n",
       "      <td>...</td>\n",
       "    </tr>\n",
       "    <tr>\n",
       "      <th>94847</th>\n",
       "      <td>2023-03-25 08:45:00</td>\n",
       "      <td>0.074280</td>\n",
       "      <td>0.074620</td>\n",
       "      <td>0.074140</td>\n",
       "      <td>0.074470</td>\n",
       "      <td>47113791</td>\n",
       "      <td>4188</td>\n",
       "      <td>0.075487</td>\n",
       "      <td>0.074894</td>\n",
       "      <td>0.074301</td>\n",
       "      <td>35.648148</td>\n",
       "      <td>40839938998</td>\n",
       "    </tr>\n",
       "    <tr>\n",
       "      <th>94848</th>\n",
       "      <td>2023-03-25 09:00:00</td>\n",
       "      <td>0.074480</td>\n",
       "      <td>0.074600</td>\n",
       "      <td>0.074130</td>\n",
       "      <td>0.074140</td>\n",
       "      <td>25920007</td>\n",
       "      <td>5600</td>\n",
       "      <td>0.075441</td>\n",
       "      <td>0.074828</td>\n",
       "      <td>0.074214</td>\n",
       "      <td>34.684685</td>\n",
       "      <td>40814018991</td>\n",
       "    </tr>\n",
       "    <tr>\n",
       "      <th>94849</th>\n",
       "      <td>2023-03-25 09:15:00</td>\n",
       "      <td>0.074140</td>\n",
       "      <td>0.074360</td>\n",
       "      <td>0.074100</td>\n",
       "      <td>0.074310</td>\n",
       "      <td>25210174</td>\n",
       "      <td>5119</td>\n",
       "      <td>0.075314</td>\n",
       "      <td>0.074762</td>\n",
       "      <td>0.074211</td>\n",
       "      <td>38.818565</td>\n",
       "      <td>40839229165</td>\n",
       "    </tr>\n",
       "    <tr>\n",
       "      <th>94850</th>\n",
       "      <td>2023-03-25 09:30:00</td>\n",
       "      <td>0.074320</td>\n",
       "      <td>0.074460</td>\n",
       "      <td>0.074220</td>\n",
       "      <td>0.074460</td>\n",
       "      <td>16481142</td>\n",
       "      <td>4707</td>\n",
       "      <td>0.075211</td>\n",
       "      <td>0.074716</td>\n",
       "      <td>0.074221</td>\n",
       "      <td>43.319838</td>\n",
       "      <td>40855710307</td>\n",
       "    </tr>\n",
       "    <tr>\n",
       "      <th>94851</th>\n",
       "      <td>2023-03-25 09:45:00</td>\n",
       "      <td>0.074450</td>\n",
       "      <td>0.074780</td>\n",
       "      <td>0.074420</td>\n",
       "      <td>0.074720</td>\n",
       "      <td>22790139</td>\n",
       "      <td>5262</td>\n",
       "      <td>0.075181</td>\n",
       "      <td>0.074702</td>\n",
       "      <td>0.074222</td>\n",
       "      <td>52.777778</td>\n",
       "      <td>40878500446</td>\n",
       "    </tr>\n",
       "  </tbody>\n",
       "</table>\n",
       "<p>94833 rows × 12 columns</p>\n",
       "</div>"
      ],
      "text/plain": [
       "                     date      open      high       low     close        vol  \\\n",
       "19    2020-07-10 13:45:00  0.003750  0.003778  0.003720  0.003733   51765898   \n",
       "20    2020-07-10 14:00:00  0.003733  0.003790  0.003733  0.003756   83726229   \n",
       "21    2020-07-10 14:15:00  0.003755  0.003785  0.003752  0.003767   32283277   \n",
       "22    2020-07-10 14:30:00  0.003767  0.003784  0.003721  0.003765   94467925   \n",
       "23    2020-07-10 14:45:00  0.003765  0.003837  0.003759  0.003797  119247923   \n",
       "...                   ...       ...       ...       ...       ...        ...   \n",
       "94847 2023-03-25 08:45:00  0.074280  0.074620  0.074140  0.074470   47113791   \n",
       "94848 2023-03-25 09:00:00  0.074480  0.074600  0.074130  0.074140   25920007   \n",
       "94849 2023-03-25 09:15:00  0.074140  0.074360  0.074100  0.074310   25210174   \n",
       "94850 2023-03-25 09:30:00  0.074320  0.074460  0.074220  0.074460   16481142   \n",
       "94851 2023-03-25 09:45:00  0.074450  0.074780  0.074420  0.074720   22790139   \n",
       "\n",
       "       trades  bb_upper  bb_middle  bb_lower        rsi          obv  \n",
       "19       1262  0.003850   0.003760  0.003670  51.083591   -423991029  \n",
       "20       1788  0.003847   0.003758  0.003669  47.595357   -340264800  \n",
       "21       1079  0.003844   0.003756  0.003669  37.795276   -307981523  \n",
       "22       3125  0.003845   0.003759  0.003673  44.444444   -402449448  \n",
       "23       3226  0.003848   0.003762  0.003675  50.793651   -283201525  \n",
       "...       ...       ...        ...       ...        ...          ...  \n",
       "94847    4188  0.075487   0.074894  0.074301  35.648148  40839938998  \n",
       "94848    5600  0.075441   0.074828  0.074214  34.684685  40814018991  \n",
       "94849    5119  0.075314   0.074762  0.074211  38.818565  40839229165  \n",
       "94850    4707  0.075211   0.074716  0.074221  43.319838  40855710307  \n",
       "94851    5262  0.075181   0.074702  0.074222  52.777778  40878500446  \n",
       "\n",
       "[94833 rows x 12 columns]"
      ]
     },
     "execution_count": 5,
     "metadata": {},
     "output_type": "execute_result"
    }
   ],
   "source": [
    "train_klines"
   ]
  },
  {
   "cell_type": "code",
   "execution_count": 6,
   "metadata": {},
   "outputs": [
    {
     "name": "stdout",
     "output_type": "stream",
     "text": [
      "Using cpu device\n"
     ]
    }
   ],
   "source": [
    "env_kwargs = dict(\n",
    "    env_class='TradingEnv2Actions',\n",
    "    tester='BBFutureTester3',\n",
    "    klines=train_klines,\n",
    "    data=dataset,\n",
    "    expand_dims=True,\n",
    "    indicators=indicators,\n",
    "    b_size=1000,\n",
    ")\n",
    "env = make_env(**env_kwargs)\n",
    "model = get_model(env=env)\n",
    "# model = PPO('MlpPolicy', env)"
   ]
  },
  {
   "cell_type": "code",
   "execution_count": null,
   "metadata": {},
   "outputs": [],
   "source": [
    "done=False\n",
    "obs = env.reset()\n",
    "while not done:\n",
    "    action = env.action_space.sample()\n",
    "    obs, reward, done, info = env.step([action])\n",
    "    env.render()"
   ]
  },
  {
   "cell_type": "code",
   "execution_count": 7,
   "metadata": {},
   "outputs": [
    {
     "data": {
      "text/plain": [
       "OrderedDict([('features_extractor',\n",
       "              CustomFeaturesExtractor(\n",
       "                (cnn): CustomCNN2d(\n",
       "                  (cnn): Sequential(\n",
       "                    (0): Conv2d(1, 64, kernel_size=(3, 3), stride=(1, 1), padding=(1, 1))\n",
       "                    (1): ReLU()\n",
       "                    (2): MaxPool2d(kernel_size=2, stride=2, padding=1, dilation=1, ceil_mode=False)\n",
       "                    (3): Dropout2d(p=0.1, inplace=False)\n",
       "                    (4): Conv2d(64, 128, kernel_size=(3, 3), stride=(1, 1), padding=(1, 1))\n",
       "                    (5): ReLU()\n",
       "                    (6): MaxPool2d(kernel_size=2, stride=2, padding=1, dilation=1, ceil_mode=False)\n",
       "                    (7): Dropout2d(p=0.1, inplace=False)\n",
       "                    (8): Flatten(start_dim=1, end_dim=-1)\n",
       "                  )\n",
       "                )\n",
       "              )),\n",
       "             ('pi_features_extractor',\n",
       "              CustomFeaturesExtractor(\n",
       "                (cnn): CustomCNN2d(\n",
       "                  (cnn): Sequential(\n",
       "                    (0): Conv2d(1, 64, kernel_size=(3, 3), stride=(1, 1), padding=(1, 1))\n",
       "                    (1): ReLU()\n",
       "                    (2): MaxPool2d(kernel_size=2, stride=2, padding=1, dilation=1, ceil_mode=False)\n",
       "                    (3): Dropout2d(p=0.1, inplace=False)\n",
       "                    (4): Conv2d(64, 128, kernel_size=(3, 3), stride=(1, 1), padding=(1, 1))\n",
       "                    (5): ReLU()\n",
       "                    (6): MaxPool2d(kernel_size=2, stride=2, padding=1, dilation=1, ceil_mode=False)\n",
       "                    (7): Dropout2d(p=0.1, inplace=False)\n",
       "                    (8): Flatten(start_dim=1, end_dim=-1)\n",
       "                  )\n",
       "                )\n",
       "              )),\n",
       "             ('vf_features_extractor',\n",
       "              CustomFeaturesExtractor(\n",
       "                (cnn): CustomCNN2d(\n",
       "                  (cnn): Sequential(\n",
       "                    (0): Conv2d(1, 64, kernel_size=(3, 3), stride=(1, 1), padding=(1, 1))\n",
       "                    (1): ReLU()\n",
       "                    (2): MaxPool2d(kernel_size=2, stride=2, padding=1, dilation=1, ceil_mode=False)\n",
       "                    (3): Dropout2d(p=0.1, inplace=False)\n",
       "                    (4): Conv2d(64, 128, kernel_size=(3, 3), stride=(1, 1), padding=(1, 1))\n",
       "                    (5): ReLU()\n",
       "                    (6): MaxPool2d(kernel_size=2, stride=2, padding=1, dilation=1, ceil_mode=False)\n",
       "                    (7): Dropout2d(p=0.1, inplace=False)\n",
       "                    (8): Flatten(start_dim=1, end_dim=-1)\n",
       "                  )\n",
       "                )\n",
       "              )),\n",
       "             ('mlp_extractor',\n",
       "              CustomMlpExtractor(\n",
       "                (shared_net): Sequential()\n",
       "                (policy_net): Sequential(\n",
       "                  (0): Linear(in_features=123136, out_features=256, bias=True)\n",
       "                  (1): ReLU()\n",
       "                  (2): Dropout(p=0.1, inplace=False)\n",
       "                  (3): Linear(in_features=256, out_features=64, bias=True)\n",
       "                  (4): ReLU()\n",
       "                  (5): Dropout(p=0.1, inplace=False)\n",
       "                )\n",
       "                (value_net): Sequential(\n",
       "                  (0): Linear(in_features=123136, out_features=256, bias=True)\n",
       "                  (1): ReLU()\n",
       "                  (2): Dropout(p=0.1, inplace=False)\n",
       "                  (3): Linear(in_features=256, out_features=64, bias=True)\n",
       "                  (4): ReLU()\n",
       "                  (5): Dropout(p=0.1, inplace=False)\n",
       "                )\n",
       "              )),\n",
       "             ('action_net', Linear(in_features=64, out_features=2, bias=True)),\n",
       "             ('value_net', Linear(in_features=64, out_features=1, bias=True))])"
      ]
     },
     "execution_count": 7,
     "metadata": {},
     "output_type": "execute_result"
    }
   ],
   "source": [
    "model.policy._modules"
   ]
  },
  {
   "cell_type": "code",
   "execution_count": null,
   "metadata": {},
   "outputs": [],
   "source": [
    "# Извлеките параметры политики\n",
    "policy_parameters = model.policy.state_dict()\n",
    "# Выведите веса каждого слоя\n",
    "for name, weights in policy_parameters.items():\n",
    "    print(f\"{name}: {weights}\")"
   ]
  },
  {
   "cell_type": "code",
   "execution_count": null,
   "metadata": {},
   "outputs": [],
   "source": [
    "# Исследование структуры model.policy\n",
    "def explore_structure(obj, indent=0):\n",
    "    for name in dir(obj):\n",
    "        if not name.startswith(\"__\"):\n",
    "            value = getattr(obj, name)\n",
    "            if not callable(value):\n",
    "                print(\"  \" * indent, f\"{name}: {type(value)}\")\n",
    "                if isinstance(value, torch.nn.Module):\n",
    "                    explore_structure(value, indent + 1)\n",
    "\n",
    "# print(\"Policy structure:\")\n",
    "# explore_structure(model.policy)"
   ]
  },
  {
   "cell_type": "code",
   "execution_count": null,
   "metadata": {},
   "outputs": [],
   "source": [
    "obs = env.reset()\n",
    "obs = th.tensor(obs)\n",
    "obs = obs.transpose(1, 2)[0]\n",
    "for channel in range(obs.shape[0]):\n",
    "    print()"
   ]
  },
  {
   "cell_type": "code",
   "execution_count": null,
   "metadata": {},
   "outputs": [],
   "source": [
    "from trainer.nn import CustomNN\n",
    "\n",
    "nn = CustomNN(np.array([[9, 300], [9, 300]]))"
   ]
  },
  {
   "cell_type": "code",
   "execution_count": null,
   "metadata": {},
   "outputs": [],
   "source": [
    "nn.named_parameters"
   ]
  },
  {
   "cell_type": "code",
   "execution_count": null,
   "metadata": {},
   "outputs": [],
   "source": [
    "for name, param in nn.named_parameters():\n",
    "    num_params = param.numel()\n",
    "    print(num_params)"
   ]
  },
  {
   "cell_type": "code",
   "execution_count": null,
   "metadata": {},
   "outputs": [],
   "source": [
    "kwargs = dict(\n",
    "    symbols = ['DOGEUSDT', 'DOGEBTC', 'BTCUSDT'],\n",
    "    tfs = ['15m', '30m', '1h', '4h'],\n",
    "    preprocessing_kwargs = dict(\n",
    "                    bb = dict(period=20, deviation=2),\n",
    "                    rsi = dict(period=14),\n",
    "                    ma = dict(period=20),\n",
    "                    obv = dict(),\n",
    "                ),\n",
    ")\n",
    "dfs = load_data_from_list(**kwargs)"
   ]
  },
  {
   "cell_type": "code",
   "execution_count": null,
   "metadata": {},
   "outputs": [],
   "source": [
    "# find min and max date over dfs\n",
    "min_dates = []\n",
    "for df in dfs:\n",
    "    min_dates.append(df['date'].min())\n",
    "min_date = max(min_dates)\n",
    "\n",
    "# shrink dataset so that the minimum date is the same\n",
    "dfs2 = []\n",
    "for df in dfs:\n",
    "    dfs2.append(df[df['date'] >= min_date].reset_index(drop=True))\n",
    "dfs = dfs2"
   ]
  },
  {
   "cell_type": "code",
   "execution_count": null,
   "metadata": {},
   "outputs": [],
   "source": [
    "len(dfs[0])"
   ]
  },
  {
   "cell_type": "code",
   "execution_count": null,
   "metadata": {},
   "outputs": [],
   "source": [
    "dataset = []\n",
    "window = 100\n",
    "length = len(dfs[0]) - window\n",
    "for i in range(1600+window+1, window+length):\n",
    "    a = make_observation_window(dfs, date=dfs[0].iloc[i][0], window=window)\n",
    "    dataset.append(a)"
   ]
  },
  {
   "cell_type": "code",
   "execution_count": null,
   "metadata": {},
   "outputs": [],
   "source": [
    "dataset = np.array(dataset)\n",
    "dataset.shape"
   ]
  },
  {
   "cell_type": "code",
   "execution_count": null,
   "metadata": {},
   "outputs": [],
   "source": [
    "# Создаем xarray.DataArray с метками\n",
    "date = dfs[0][:dataset.shape[0]]['date'].values\n",
    "dataset = xr.DataArray(\n",
    "    dataset,\n",
    "    coords={'date': date},\n",
    "    dims=['date', 'n', 'chanel']\n",
    ")\n",
    "dataset.to_netcdf('dataset.nc')"
   ]
  },
  {
   "cell_type": "code",
   "execution_count": 3,
   "metadata": {},
   "outputs": [],
   "source": [
    "dataset = xr.open_dataarray('dataset.nc')"
   ]
  },
  {
   "cell_type": "code",
   "execution_count": 7,
   "metadata": {},
   "outputs": [],
   "source": [
    "dataset = dataset[:1000]"
   ]
  },
  {
   "cell_type": "code",
   "execution_count": 16,
   "metadata": {},
   "outputs": [],
   "source": [
    "# Разделение данных на обучающую и тестовую выборки\n",
    "split_index = int(0.8 * dataset.shape[0])\n",
    "train_data = dataset[:split_index].to_numpy()\n",
    "test_data = dataset[split_index:].to_numpy()"
   ]
  },
  {
   "cell_type": "code",
   "execution_count": 17,
   "metadata": {},
   "outputs": [
    {
     "data": {
      "text/plain": [
       "(800, 100, 144)"
      ]
     },
     "execution_count": 17,
     "metadata": {},
     "output_type": "execute_result"
    }
   ],
   "source": [
    "train_data.shape"
   ]
  },
  {
   "cell_type": "code",
   "execution_count": 26,
   "metadata": {},
   "outputs": [],
   "source": [
    "def create_conv1d_autoencoder(input_shape=(100, 144)):\n",
    "    # Encoder\n",
    "    encoder = Sequential([\n",
    "        layers.InputLayer(input_shape=input_shape),\n",
    "        layers.Conv1D(64, kernel_size=3, activation='relu', padding='same'),\n",
    "        layers.MaxPooling1D(pool_size=2, padding='same'),\n",
    "        layers.Dropout(0.1),\n",
    "        layers.Conv1D(32, kernel_size=3, activation='relu', padding='same')\n",
    "    ])\n",
    "    \n",
    "    # Decoder\n",
    "    decoder = Sequential([\n",
    "        layers.Conv1D(32, kernel_size=3, activation='relu', padding='same'),\n",
    "        layers.UpSampling1D(size=2),\n",
    "        layers.Dropout(0.1),\n",
    "        layers.Conv1D(144, kernel_size=3, activation='sigmoid', padding='same')\n",
    "    ])\n",
    "    \n",
    "    # Autoencoder\n",
    "    autoencoder = Sequential([\n",
    "        encoder,\n",
    "        decoder\n",
    "    ])\n",
    "    \n",
    "    return autoencoder"
   ]
  },
  {
   "cell_type": "code",
   "execution_count": 38,
   "metadata": {},
   "outputs": [],
   "source": [
    "df = pd.DataFrame(decoded[0, :, :4], columns=['open', 'high', 'low', 'close']).reset_index()\n",
    "df = df.rename(columns={'index': 'date'})\n",
    "\n",
    "df2 = pd.DataFrame(test_data[0, :, :4], columns=['open', 'high', 'low', 'close']).reset_index()\n",
    "df2 = df2.rename(columns={'index': 'date'})"
   ]
  },
  {
   "cell_type": "code",
   "execution_count": 39,
   "metadata": {},
   "outputs": [
    {
     "name": "stdout",
     "output_type": "stream",
     "text": [
      "4\n"
     ]
    },
    {
     "data": {
      "application/vnd.plotly.v1+json": {
       "config": {
        "plotlyServerURL": "https://plot.ly"
       },
       "data": [
        {
         "close": [
          0.9090949296951294,
          0.851658046245575,
          0.8299528360366821,
          0.7326112389564514,
          0.6677654385566711,
          0.6104096174240112,
          0.5780028700828552,
          0.5260108113288879,
          0.4993627667427063,
          0.4864369034767151,
          0.49372589588165283,
          0.5142431855201721,
          0.5266811847686768,
          0.5274903774261475,
          0.5397701859474182,
          0.5314093828201294,
          0.5252603888511658,
          0.5069443583488464,
          0.4891318678855896,
          0.4952392578125,
          0.48795682191848755,
          0.48893505334854126,
          0.47945332527160645,
          0.5208088159561157,
          0.5334826111793518,
          0.5356787443161011,
          0.5227097868919373,
          0.5368735790252686,
          0.5315064787864685,
          0.5152677297592163,
          0.4805326461791992,
          0.4711645245552063,
          0.4472772479057312,
          0.4118640422821045,
          0.3668425679206848,
          0.332960307598114,
          0.29907339811325073,
          0.2848187983036041,
          0.26529181003570557,
          0.25849655270576477,
          0.2490832805633545,
          0.2656596601009369,
          0.2730540633201599,
          0.3003131151199341,
          0.3188379406929016,
          0.3320571482181549,
          0.34935012459754944,
          0.36787572503089905,
          0.3854926526546478,
          0.3789505064487457,
          0.3821296989917755,
          0.3846195340156555,
          0.39245063066482544,
          0.40013906359672546,
          0.4073878824710846,
          0.4103006422519684,
          0.41557881236076355,
          0.4148167669773102,
          0.4172305166721344,
          0.3987339437007904,
          0.3959428369998932,
          0.36101609468460083,
          0.34580767154693604,
          0.33084678649902344,
          0.32167983055114746,
          0.2968100905418396,
          0.2740646302700043,
          0.25634071230888367,
          0.23173066973686218,
          0.22057771682739258,
          0.1898844838142395,
          0.16043207049369812,
          0.13872995972633362,
          0.15794819593429565,
          0.15915435552597046,
          0.18554553389549255,
          0.20441779494285583,
          0.23116075992584229,
          0.25613024830818176,
          0.29164960980415344,
          0.3414112329483032,
          0.360124409198761,
          0.39022886753082275,
          0.36670467257499695,
          0.37805184721946716,
          0.37823060154914856,
          0.39497318863868713,
          0.3234126567840576,
          0.2758711874485016,
          0.23145657777786255,
          0.20052608847618103,
          0.13257566094398499,
          0.09589660912752151,
          0.09430523961782455,
          0.08208217471837997,
          0.10906476527452469,
          0.12769123911857605,
          0.19606295228004456,
          0.20932281017303467,
          0.2691608667373657
         ],
         "decreasing": {
          "fillcolor": "gray",
          "line": {
           "color": "gray"
          }
         },
         "high": [
          0.9612867832183838,
          0.9218828082084656,
          0.8998736143112183,
          0.8183067440986633,
          0.7461168766021729,
          0.6903187036514282,
          0.6274659037590027,
          0.5851921439170837,
          0.5462608337402344,
          0.5419028997421265,
          0.5290851593017578,
          0.5399771332740784,
          0.5586946606636047,
          0.5724979639053345,
          0.5773406028747559,
          0.563515305519104,
          0.5728079080581665,
          0.5593044757843018,
          0.536914587020874,
          0.5329936742782593,
          0.5432718396186829,
          0.5292598605155945,
          0.5277590751647949,
          0.5626469850540161,
          0.5781471729278564,
          0.5683311223983765,
          0.5712063312530518,
          0.5872707366943359,
          0.577243447303772,
          0.5611914992332458,
          0.5360352396965027,
          0.5224189162254333,
          0.4981803596019745,
          0.4661323130130768,
          0.4255278706550598,
          0.38316312432289124,
          0.35327133536338806,
          0.3332796096801758,
          0.3116217851638794,
          0.29888302087783813,
          0.2937837243080139,
          0.30539077520370483,
          0.3130044937133789,
          0.3389968276023865,
          0.35731369256973267,
          0.36796921491622925,
          0.38361117243766785,
          0.3999372124671936,
          0.4218422770500183,
          0.41266563534736633,
          0.42012977600097656,
          0.4184381067752838,
          0.431914359331131,
          0.4252066910266876,
          0.44228610396385193,
          0.44701409339904785,
          0.44807887077331543,
          0.44361674785614014,
          0.45013827085494995,
          0.44642937183380127,
          0.4301435947418213,
          0.40478193759918213,
          0.39091774821281433,
          0.3801720142364502,
          0.36454087495803833,
          0.3395805358886719,
          0.3208251893520355,
          0.29793402552604675,
          0.28227925300598145,
          0.2637917995452881,
          0.23769280314445496,
          0.20266631245613098,
          0.17918843030929565,
          0.18876531720161438,
          0.1896536946296692,
          0.21128737926483154,
          0.22095167636871338,
          0.26287680864334106,
          0.2676674723625183,
          0.32561516761779785,
          0.34968140721321106,
          0.3925586938858032,
          0.4075606167316437,
          0.424402117729187,
          0.3960385322570801,
          0.4221656918525696,
          0.4242706894874573,
          0.3992632031440735,
          0.31661006808280945,
          0.3084155321121216,
          0.2535381019115448,
          0.21031373739242554,
          0.1556241661310196,
          0.14742411673069,
          0.1438232809305191,
          0.14145247638225555,
          0.18617500364780426,
          0.21920225024223328,
          0.2692665159702301,
          0.3300883173942566
         ],
         "increasing": {
          "fillcolor": "cyan",
          "line": {
           "color": "cyan"
          }
         },
         "low": [
          0.8587689995765686,
          0.8097208738327026,
          0.7811158895492554,
          0.6978756785392761,
          0.640509307384491,
          0.5683497190475464,
          0.5397660136222839,
          0.476844847202301,
          0.4579424262046814,
          0.43659669160842896,
          0.4497835040092468,
          0.4515332579612732,
          0.47499918937683105,
          0.4798017144203186,
          0.49257582426071167,
          0.48086458444595337,
          0.4834862947463989,
          0.46840405464172363,
          0.4499663710594177,
          0.45071351528167725,
          0.4380703568458557,
          0.44088584184646606,
          0.4304072856903076,
          0.47606778144836426,
          0.47251367568969727,
          0.48578429222106934,
          0.4724823236465454,
          0.49758249521255493,
          0.4841846823692322,
          0.47206568717956543,
          0.4408806562423706,
          0.426658570766449,
          0.40970146656036377,
          0.3656601011753082,
          0.3281833231449127,
          0.2875593602657318,
          0.26479780673980713,
          0.24127057194709778,
          0.22384417057037354,
          0.2172868549823761,
          0.20366504788398743,
          0.21630513668060303,
          0.2198091745376587,
          0.2589288055896759,
          0.25868305563926697,
          0.29061686992645264,
          0.29901745915412903,
          0.32009777426719666,
          0.32815277576446533,
          0.3297915756702423,
          0.33344438672065735,
          0.33541610836982727,
          0.3418308198451996,
          0.34873026609420776,
          0.36329907178878784,
          0.3728755712509155,
          0.37591034173965454,
          0.37758901715278625,
          0.3811345398426056,
          0.3740607798099518,
          0.36158987879753113,
          0.3353933095932007,
          0.3153320252895355,
          0.3023173213005066,
          0.2875553369522095,
          0.2592681348323822,
          0.2401713728904724,
          0.21517324447631836,
          0.20181423425674438,
          0.1792328953742981,
          0.15757137537002563,
          0.12067899852991104,
          0.11295286566019058,
          0.11090388149023056,
          0.12113814800977707,
          0.14951547980308533,
          0.16681340336799622,
          0.2023153305053711,
          0.2219237983226776,
          0.266893208026886,
          0.28945392370224,
          0.3335459530353546,
          0.3492417633533478,
          0.35024532675743103,
          0.3347572386264801,
          0.3413182199001312,
          0.3490769863128662,
          0.29685184359550476,
          0.25226694345474243,
          0.19790565967559814,
          0.16193097829818726,
          0.0847870334982872,
          0.06142915040254593,
          0.03408781439065933,
          0.02566925436258316,
          0.03691888600587845,
          0.06452522426843643,
          0.10902632027864456,
          0.1404457986354828,
          0.18033182621002197
         ],
         "open": [
          0.8814554214477539,
          0.8834561705589294,
          0.8616192936897278,
          0.7958377599716187,
          0.7282610535621643,
          0.6563395261764526,
          0.6084066033363342,
          0.5648788213729858,
          0.5242477059364319,
          0.5091621279716492,
          0.49374791979789734,
          0.5185477137565613,
          0.5168682932853699,
          0.5411514043807983,
          0.5371925234794617,
          0.5399982333183289,
          0.5194293856620789,
          0.531528115272522,
          0.49838218092918396,
          0.5006266236305237,
          0.48157402873039246,
          0.4972326457500458,
          0.48510512709617615,
          0.5144268870353699,
          0.5243162512779236,
          0.5286727547645569,
          0.5343244075775146,
          0.5332836508750916,
          0.5355632305145264,
          0.5185755491256714,
          0.5051954388618469,
          0.47845110297203064,
          0.4654734432697296,
          0.43010786175727844,
          0.40174415707588196,
          0.35006576776504517,
          0.32765525579452515,
          0.2949012517929077,
          0.28458425402641296,
          0.26444026827812195,
          0.2610126733779907,
          0.25686347484588623,
          0.2780170142650604,
          0.28764212131500244,
          0.3106851875782013,
          0.31754761934280396,
          0.33509561419487,
          0.35046321153640747,
          0.3703618049621582,
          0.3653337359428406,
          0.3717443645000458,
          0.37114596366882324,
          0.3804323971271515,
          0.3839091360569,
          0.39063727855682373,
          0.40944352746009827,
          0.4119859039783478,
          0.41107699275016785,
          0.4131201207637787,
          0.4151655435562134,
          0.40260815620422363,
          0.37770262360572815,
          0.3616950809955597,
          0.3469935953617096,
          0.32866668701171875,
          0.3132321536540985,
          0.29211971163749695,
          0.2677074074745178,
          0.2530190348625183,
          0.23689904808998108,
          0.2128012478351593,
          0.17424803972244263,
          0.1549517810344696,
          0.15635588765144348,
          0.16565468907356262,
          0.17433422803878784,
          0.185400128364563,
          0.22964823246002197,
          0.2387419044971466,
          0.2741060256958008,
          0.29158735275268555,
          0.34698954224586487,
          0.3598497807979584,
          0.37574470043182373,
          0.3619271516799927,
          0.36702555418014526,
          0.3834307789802551,
          0.365373432636261,
          0.3163263201713562,
          0.25357338786125183,
          0.22141540050506592,
          0.16547682881355286,
          0.12042025476694107,
          0.0982581302523613,
          0.08104246109724045,
          0.08833064883947372,
          0.11557000130414963,
          0.16605645418167114,
          0.1978515386581421,
          0.24837103486061096
         ],
         "type": "candlestick",
         "x": [
          0,
          1,
          2,
          3,
          4,
          5,
          6,
          7,
          8,
          9,
          10,
          11,
          12,
          13,
          14,
          15,
          16,
          17,
          18,
          19,
          20,
          21,
          22,
          23,
          24,
          25,
          26,
          27,
          28,
          29,
          30,
          31,
          32,
          33,
          34,
          35,
          36,
          37,
          38,
          39,
          40,
          41,
          42,
          43,
          44,
          45,
          46,
          47,
          48,
          49,
          50,
          51,
          52,
          53,
          54,
          55,
          56,
          57,
          58,
          59,
          60,
          61,
          62,
          63,
          64,
          65,
          66,
          67,
          68,
          69,
          70,
          71,
          72,
          73,
          74,
          75,
          76,
          77,
          78,
          79,
          80,
          81,
          82,
          83,
          84,
          85,
          86,
          87,
          88,
          89,
          90,
          91,
          92,
          93,
          94,
          95,
          96,
          97,
          98,
          99
         ],
         "xaxis": "x",
         "yaxis": "y"
        }
       ],
       "layout": {
        "font": {
         "color": "#dedddc"
        },
        "hovermode": "x unified",
        "margin": {
         "b": 20,
         "l": 0,
         "r": 40,
         "t": 0
        },
        "paper_bgcolor": "#151822",
        "plot_bgcolor": "#151822",
        "showlegend": false,
        "template": {
         "data": {
          "bar": [
           {
            "error_x": {
             "color": "#f2f5fa"
            },
            "error_y": {
             "color": "#f2f5fa"
            },
            "marker": {
             "line": {
              "color": "rgb(17,17,17)",
              "width": 0.5
             },
             "pattern": {
              "fillmode": "overlay",
              "size": 10,
              "solidity": 0.2
             }
            },
            "type": "bar"
           }
          ],
          "barpolar": [
           {
            "marker": {
             "line": {
              "color": "rgb(17,17,17)",
              "width": 0.5
             },
             "pattern": {
              "fillmode": "overlay",
              "size": 10,
              "solidity": 0.2
             }
            },
            "type": "barpolar"
           }
          ],
          "carpet": [
           {
            "aaxis": {
             "endlinecolor": "#A2B1C6",
             "gridcolor": "#506784",
             "linecolor": "#506784",
             "minorgridcolor": "#506784",
             "startlinecolor": "#A2B1C6"
            },
            "baxis": {
             "endlinecolor": "#A2B1C6",
             "gridcolor": "#506784",
             "linecolor": "#506784",
             "minorgridcolor": "#506784",
             "startlinecolor": "#A2B1C6"
            },
            "type": "carpet"
           }
          ],
          "choropleth": [
           {
            "colorbar": {
             "outlinewidth": 0,
             "ticks": ""
            },
            "type": "choropleth"
           }
          ],
          "contour": [
           {
            "colorbar": {
             "outlinewidth": 0,
             "ticks": ""
            },
            "colorscale": [
             [
              0,
              "#0d0887"
             ],
             [
              0.1111111111111111,
              "#46039f"
             ],
             [
              0.2222222222222222,
              "#7201a8"
             ],
             [
              0.3333333333333333,
              "#9c179e"
             ],
             [
              0.4444444444444444,
              "#bd3786"
             ],
             [
              0.5555555555555556,
              "#d8576b"
             ],
             [
              0.6666666666666666,
              "#ed7953"
             ],
             [
              0.7777777777777778,
              "#fb9f3a"
             ],
             [
              0.8888888888888888,
              "#fdca26"
             ],
             [
              1,
              "#f0f921"
             ]
            ],
            "type": "contour"
           }
          ],
          "contourcarpet": [
           {
            "colorbar": {
             "outlinewidth": 0,
             "ticks": ""
            },
            "type": "contourcarpet"
           }
          ],
          "heatmap": [
           {
            "colorbar": {
             "outlinewidth": 0,
             "ticks": ""
            },
            "colorscale": [
             [
              0,
              "#0d0887"
             ],
             [
              0.1111111111111111,
              "#46039f"
             ],
             [
              0.2222222222222222,
              "#7201a8"
             ],
             [
              0.3333333333333333,
              "#9c179e"
             ],
             [
              0.4444444444444444,
              "#bd3786"
             ],
             [
              0.5555555555555556,
              "#d8576b"
             ],
             [
              0.6666666666666666,
              "#ed7953"
             ],
             [
              0.7777777777777778,
              "#fb9f3a"
             ],
             [
              0.8888888888888888,
              "#fdca26"
             ],
             [
              1,
              "#f0f921"
             ]
            ],
            "type": "heatmap"
           }
          ],
          "heatmapgl": [
           {
            "colorbar": {
             "outlinewidth": 0,
             "ticks": ""
            },
            "colorscale": [
             [
              0,
              "#0d0887"
             ],
             [
              0.1111111111111111,
              "#46039f"
             ],
             [
              0.2222222222222222,
              "#7201a8"
             ],
             [
              0.3333333333333333,
              "#9c179e"
             ],
             [
              0.4444444444444444,
              "#bd3786"
             ],
             [
              0.5555555555555556,
              "#d8576b"
             ],
             [
              0.6666666666666666,
              "#ed7953"
             ],
             [
              0.7777777777777778,
              "#fb9f3a"
             ],
             [
              0.8888888888888888,
              "#fdca26"
             ],
             [
              1,
              "#f0f921"
             ]
            ],
            "type": "heatmapgl"
           }
          ],
          "histogram": [
           {
            "marker": {
             "pattern": {
              "fillmode": "overlay",
              "size": 10,
              "solidity": 0.2
             }
            },
            "type": "histogram"
           }
          ],
          "histogram2d": [
           {
            "colorbar": {
             "outlinewidth": 0,
             "ticks": ""
            },
            "colorscale": [
             [
              0,
              "#0d0887"
             ],
             [
              0.1111111111111111,
              "#46039f"
             ],
             [
              0.2222222222222222,
              "#7201a8"
             ],
             [
              0.3333333333333333,
              "#9c179e"
             ],
             [
              0.4444444444444444,
              "#bd3786"
             ],
             [
              0.5555555555555556,
              "#d8576b"
             ],
             [
              0.6666666666666666,
              "#ed7953"
             ],
             [
              0.7777777777777778,
              "#fb9f3a"
             ],
             [
              0.8888888888888888,
              "#fdca26"
             ],
             [
              1,
              "#f0f921"
             ]
            ],
            "type": "histogram2d"
           }
          ],
          "histogram2dcontour": [
           {
            "colorbar": {
             "outlinewidth": 0,
             "ticks": ""
            },
            "colorscale": [
             [
              0,
              "#0d0887"
             ],
             [
              0.1111111111111111,
              "#46039f"
             ],
             [
              0.2222222222222222,
              "#7201a8"
             ],
             [
              0.3333333333333333,
              "#9c179e"
             ],
             [
              0.4444444444444444,
              "#bd3786"
             ],
             [
              0.5555555555555556,
              "#d8576b"
             ],
             [
              0.6666666666666666,
              "#ed7953"
             ],
             [
              0.7777777777777778,
              "#fb9f3a"
             ],
             [
              0.8888888888888888,
              "#fdca26"
             ],
             [
              1,
              "#f0f921"
             ]
            ],
            "type": "histogram2dcontour"
           }
          ],
          "mesh3d": [
           {
            "colorbar": {
             "outlinewidth": 0,
             "ticks": ""
            },
            "type": "mesh3d"
           }
          ],
          "parcoords": [
           {
            "line": {
             "colorbar": {
              "outlinewidth": 0,
              "ticks": ""
             }
            },
            "type": "parcoords"
           }
          ],
          "pie": [
           {
            "automargin": true,
            "type": "pie"
           }
          ],
          "scatter": [
           {
            "marker": {
             "line": {
              "color": "#283442"
             }
            },
            "type": "scatter"
           }
          ],
          "scatter3d": [
           {
            "line": {
             "colorbar": {
              "outlinewidth": 0,
              "ticks": ""
             }
            },
            "marker": {
             "colorbar": {
              "outlinewidth": 0,
              "ticks": ""
             }
            },
            "type": "scatter3d"
           }
          ],
          "scattercarpet": [
           {
            "marker": {
             "colorbar": {
              "outlinewidth": 0,
              "ticks": ""
             }
            },
            "type": "scattercarpet"
           }
          ],
          "scattergeo": [
           {
            "marker": {
             "colorbar": {
              "outlinewidth": 0,
              "ticks": ""
             }
            },
            "type": "scattergeo"
           }
          ],
          "scattergl": [
           {
            "marker": {
             "line": {
              "color": "#283442"
             }
            },
            "type": "scattergl"
           }
          ],
          "scattermapbox": [
           {
            "marker": {
             "colorbar": {
              "outlinewidth": 0,
              "ticks": ""
             }
            },
            "type": "scattermapbox"
           }
          ],
          "scatterpolar": [
           {
            "marker": {
             "colorbar": {
              "outlinewidth": 0,
              "ticks": ""
             }
            },
            "type": "scatterpolar"
           }
          ],
          "scatterpolargl": [
           {
            "marker": {
             "colorbar": {
              "outlinewidth": 0,
              "ticks": ""
             }
            },
            "type": "scatterpolargl"
           }
          ],
          "scatterternary": [
           {
            "marker": {
             "colorbar": {
              "outlinewidth": 0,
              "ticks": ""
             }
            },
            "type": "scatterternary"
           }
          ],
          "surface": [
           {
            "colorbar": {
             "outlinewidth": 0,
             "ticks": ""
            },
            "colorscale": [
             [
              0,
              "#0d0887"
             ],
             [
              0.1111111111111111,
              "#46039f"
             ],
             [
              0.2222222222222222,
              "#7201a8"
             ],
             [
              0.3333333333333333,
              "#9c179e"
             ],
             [
              0.4444444444444444,
              "#bd3786"
             ],
             [
              0.5555555555555556,
              "#d8576b"
             ],
             [
              0.6666666666666666,
              "#ed7953"
             ],
             [
              0.7777777777777778,
              "#fb9f3a"
             ],
             [
              0.8888888888888888,
              "#fdca26"
             ],
             [
              1,
              "#f0f921"
             ]
            ],
            "type": "surface"
           }
          ],
          "table": [
           {
            "cells": {
             "fill": {
              "color": "#506784"
             },
             "line": {
              "color": "rgb(17,17,17)"
             }
            },
            "header": {
             "fill": {
              "color": "#2a3f5f"
             },
             "line": {
              "color": "rgb(17,17,17)"
             }
            },
            "type": "table"
           }
          ]
         },
         "layout": {
          "annotationdefaults": {
           "arrowcolor": "#f2f5fa",
           "arrowhead": 0,
           "arrowwidth": 1
          },
          "autotypenumbers": "strict",
          "coloraxis": {
           "colorbar": {
            "outlinewidth": 0,
            "ticks": ""
           }
          },
          "colorscale": {
           "diverging": [
            [
             0,
             "#8e0152"
            ],
            [
             0.1,
             "#c51b7d"
            ],
            [
             0.2,
             "#de77ae"
            ],
            [
             0.3,
             "#f1b6da"
            ],
            [
             0.4,
             "#fde0ef"
            ],
            [
             0.5,
             "#f7f7f7"
            ],
            [
             0.6,
             "#e6f5d0"
            ],
            [
             0.7,
             "#b8e186"
            ],
            [
             0.8,
             "#7fbc41"
            ],
            [
             0.9,
             "#4d9221"
            ],
            [
             1,
             "#276419"
            ]
           ],
           "sequential": [
            [
             0,
             "#0d0887"
            ],
            [
             0.1111111111111111,
             "#46039f"
            ],
            [
             0.2222222222222222,
             "#7201a8"
            ],
            [
             0.3333333333333333,
             "#9c179e"
            ],
            [
             0.4444444444444444,
             "#bd3786"
            ],
            [
             0.5555555555555556,
             "#d8576b"
            ],
            [
             0.6666666666666666,
             "#ed7953"
            ],
            [
             0.7777777777777778,
             "#fb9f3a"
            ],
            [
             0.8888888888888888,
             "#fdca26"
            ],
            [
             1,
             "#f0f921"
            ]
           ],
           "sequentialminus": [
            [
             0,
             "#0d0887"
            ],
            [
             0.1111111111111111,
             "#46039f"
            ],
            [
             0.2222222222222222,
             "#7201a8"
            ],
            [
             0.3333333333333333,
             "#9c179e"
            ],
            [
             0.4444444444444444,
             "#bd3786"
            ],
            [
             0.5555555555555556,
             "#d8576b"
            ],
            [
             0.6666666666666666,
             "#ed7953"
            ],
            [
             0.7777777777777778,
             "#fb9f3a"
            ],
            [
             0.8888888888888888,
             "#fdca26"
            ],
            [
             1,
             "#f0f921"
            ]
           ]
          },
          "colorway": [
           "#636efa",
           "#EF553B",
           "#00cc96",
           "#ab63fa",
           "#FFA15A",
           "#19d3f3",
           "#FF6692",
           "#B6E880",
           "#FF97FF",
           "#FECB52"
          ],
          "font": {
           "color": "#f2f5fa"
          },
          "geo": {
           "bgcolor": "rgb(17,17,17)",
           "lakecolor": "rgb(17,17,17)",
           "landcolor": "rgb(17,17,17)",
           "showlakes": true,
           "showland": true,
           "subunitcolor": "#506784"
          },
          "hoverlabel": {
           "align": "left"
          },
          "hovermode": "closest",
          "mapbox": {
           "style": "dark"
          },
          "paper_bgcolor": "rgb(17,17,17)",
          "plot_bgcolor": "rgb(17,17,17)",
          "polar": {
           "angularaxis": {
            "gridcolor": "#506784",
            "linecolor": "#506784",
            "ticks": ""
           },
           "bgcolor": "rgb(17,17,17)",
           "radialaxis": {
            "gridcolor": "#506784",
            "linecolor": "#506784",
            "ticks": ""
           }
          },
          "scene": {
           "xaxis": {
            "backgroundcolor": "rgb(17,17,17)",
            "gridcolor": "#506784",
            "gridwidth": 2,
            "linecolor": "#506784",
            "showbackground": true,
            "ticks": "",
            "zerolinecolor": "#C8D4E3"
           },
           "yaxis": {
            "backgroundcolor": "rgb(17,17,17)",
            "gridcolor": "#506784",
            "gridwidth": 2,
            "linecolor": "#506784",
            "showbackground": true,
            "ticks": "",
            "zerolinecolor": "#C8D4E3"
           },
           "zaxis": {
            "backgroundcolor": "rgb(17,17,17)",
            "gridcolor": "#506784",
            "gridwidth": 2,
            "linecolor": "#506784",
            "showbackground": true,
            "ticks": "",
            "zerolinecolor": "#C8D4E3"
           }
          },
          "shapedefaults": {
           "line": {
            "color": "#f2f5fa"
           }
          },
          "sliderdefaults": {
           "bgcolor": "#C8D4E3",
           "bordercolor": "rgb(17,17,17)",
           "borderwidth": 1,
           "tickwidth": 0
          },
          "ternary": {
           "aaxis": {
            "gridcolor": "#506784",
            "linecolor": "#506784",
            "ticks": ""
           },
           "baxis": {
            "gridcolor": "#506784",
            "linecolor": "#506784",
            "ticks": ""
           },
           "bgcolor": "rgb(17,17,17)",
           "caxis": {
            "gridcolor": "#506784",
            "linecolor": "#506784",
            "ticks": ""
           }
          },
          "title": {
           "x": 0.05
          },
          "updatemenudefaults": {
           "bgcolor": "#506784",
           "borderwidth": 0
          },
          "xaxis": {
           "automargin": true,
           "gridcolor": "#283442",
           "linecolor": "#506784",
           "ticks": "",
           "title": {
            "standoff": 15
           },
           "zerolinecolor": "#283442",
           "zerolinewidth": 2
          },
          "yaxis": {
           "automargin": true,
           "gridcolor": "#283442",
           "linecolor": "#506784",
           "ticks": "",
           "title": {
            "standoff": 15
           },
           "zerolinecolor": "#283442",
           "zerolinewidth": 2
          }
         }
        },
        "xaxis": {
         "anchor": "y",
         "domain": [
          0,
          1
         ],
         "rangeslider": {
          "visible": false
         }
        },
        "yaxis": {
         "anchor": "x",
         "domain": [
          0,
          1
         ],
         "showgrid": true,
         "showline": true,
         "showspikes": true,
         "showticklabels": true,
         "side": "right",
         "spikedash": "dot",
         "spikemode": "across",
         "spikesnap": "cursor",
         "spikethickness": 1,
         "zeroline": false
        }
       }
      }
     },
     "metadata": {},
     "output_type": "display_data"
    }
   ],
   "source": [
    "render_candles(df)"
   ]
  },
  {
   "cell_type": "code",
   "execution_count": 40,
   "metadata": {},
   "outputs": [
    {
     "name": "stdout",
     "output_type": "stream",
     "text": [
      "4\n"
     ]
    },
    {
     "data": {
      "application/vnd.plotly.v1+json": {
       "config": {
        "plotlyServerURL": "https://plot.ly"
       },
       "data": [
        {
         "close": [
          0.8819277108433725,
          0.927710843373492,
          0.8337349397590338,
          0.7180722891566255,
          0.6385542168674696,
          0.5469879518072274,
          0.47228915662650506,
          0.48915662650602326,
          0.5228915662650597,
          0.49156626506024087,
          0.5180722891566262,
          0.5831325301204815,
          0.549397590361445,
          0.5999999999999996,
          0.6771084337349379,
          0.6313253012048184,
          0.6722891566265043,
          0.5277108433734933,
          0.4795180722891562,
          0.48433734939758977,
          0.48192771084337216,
          0.5734939759036144,
          0.5469879518072274,
          0.5421686746987938,
          0.5060240963855415,
          0.5734939759036144,
          0.5686746987951792,
          0.597590361445782,
          0.5036144578313239,
          0.4939759036144568,
          0.5180722891566262,
          0.47228915662650506,
          0.4602409638554204,
          0.4168674698795169,
          0.41445783132530095,
          0.3614457831325287,
          0.2795180722891552,
          0.2216867469879511,
          0.289156626506024,
          0.3253012048192763,
          0.2963855421686734,
          0.27469879518072166,
          0.3493975903614457,
          0.38313253012048043,
          0.30120481927710696,
          0.34457831325301047,
          0.43132530120481916,
          0.43132530120481916,
          0.35421686746987924,
          0.31807228915662517,
          0.4192771084337345,
          0.3325301204819275,
          0.4481927710843357,
          0.462650602409638,
          0.4650602409638539,
          0.5180722891566262,
          0.48192771084337216,
          0.41445783132530095,
          0.3999999999999987,
          0.44096385542168626,
          0.34457831325301047,
          0.39759036144578275,
          0.4096385542168674,
          0.4530120481927709,
          0.4530120481927709,
          0.3228915662650587,
          0.28674698795180636,
          0.23132530120481817,
          0.262650602409637,
          0.29397590361445747,
          0.12771084337349292,
          0.19759036144578174,
          0.10120481927710763,
          0.028915662650601224,
          0.18554216867469872,
          0.24819277108433638,
          0.26987951807228816,
          0.24819277108433638,
          0.3228915662650587,
          0.3807228915662645,
          0.40240963855421624,
          0.47228915662650506,
          0.42168674698795044,
          0.3662650602409622,
          0.298795180722891,
          0.3204819277108428,
          0.3060240963855422,
          0.3349397590361434,
          0.3060240963855422,
          0.2819277108433728,
          0.19759036144578174,
          0.11325301204819231,
          0.13734939759036,
          0.17349397590361404,
          0.1421686746987952,
          0.2530120481927699,
          0.22891566265060223,
          0.289156626506024,
          0.27710843373493926,
          0.262650602409637
         ],
         "decreasing": {
          "fillcolor": "gray",
          "line": {
           "color": "gray"
          }
         },
         "high": [
          0.9012048192771066,
          1,
          0.927710843373492,
          0.8987951807228907,
          0.7783132530120472,
          0.6457831325301191,
          0.597590361445782,
          0.5445783132530114,
          0.539759036144578,
          0.5421686746987938,
          0.5325301204819268,
          0.597590361445782,
          0.5927710843373485,
          0.636144578313252,
          0.6939759036144562,
          0.6987951807228914,
          0.6795180722891572,
          0.6795180722891572,
          0.5542168674698785,
          0.5228915662650597,
          0.5325301204819268,
          0.5831325301204815,
          0.578313253012048,
          0.5469879518072274,
          0.5421686746987938,
          0.597590361445782,
          0.5831325301204815,
          0.6192771084337338,
          0.5999999999999996,
          0.5084337349397574,
          0.5590361445783121,
          0.5204819277108421,
          0.4795180722891562,
          0.4602409638554204,
          0.42650602409638394,
          0.4361445783132527,
          0.3662650602409622,
          0.3325301204819275,
          0.30361445783132457,
          0.34457831325301047,
          0.3734939759036134,
          0.3349397590361434,
          0.35421686746987924,
          0.38313253012048043,
          0.38313253012048043,
          0.37108433734939744,
          0.48192771084337216,
          0.49879518072289036,
          0.462650602409638,
          0.3734939759036134,
          0.45783132530120446,
          0.42168674698795044,
          0.4530120481927709,
          0.47228915662650506,
          0.4674698795180715,
          0.5180722891566262,
          0.5180722891566262,
          0.48433734939758977,
          0.42891566265060155,
          0.48192771084337216,
          0.4481927710843357,
          0.40240963855421624,
          0.424096385542168,
          0.47469879518072267,
          0.4698795180722891,
          0.45542168674698685,
          0.3493975903614457,
          0.3301204819277099,
          0.31807228915662517,
          0.3253012048192763,
          0.3108433734939757,
          0.20481927710843287,
          0.23132530120481817,
          0.13012048192771053,
          0.20240963855421526,
          0.2795180722891552,
          0.28433734939758876,
          0.2819277108433728,
          0.3349397590361434,
          0.38795180722891565,
          0.41445783132530095,
          0.48915662650602326,
          0.47469879518072267,
          0.4361445783132527,
          0.3807228915662645,
          0.3903614457831316,
          0.3493975903614457,
          0.3493975903614457,
          0.3397590361445769,
          0.3060240963855422,
          0.3108433734939757,
          0.2192771084337335,
          0.1397590361445776,
          0.19036144578313224,
          0.1783132530120476,
          0.26024096385542106,
          0.26024096385542106,
          0.3156626506024092,
          0.3108433734939757,
          0.3301204819277099
         ],
         "increasing": {
          "fillcolor": "cyan",
          "line": {
           "color": "cyan"
          }
         },
         "low": [
          0.773493975903612,
          0.8602409638554224,
          0.8072289156626484,
          0.7132530120481904,
          0.5542168674698785,
          0.45783132530120446,
          0.4481927710843357,
          0.43855421686746865,
          0.48192771084337216,
          0.47228915662650506,
          0.48433734939758977,
          0.49879518072289036,
          0.539759036144578,
          0.5469879518072274,
          0.5951807228915661,
          0.5927710843373485,
          0.6144578313253003,
          0.49156626506024087,
          0.337349397590361,
          0.45783132530120446,
          0.4481927710843357,
          0.4771084337349386,
          0.5277108433734933,
          0.510843373493975,
          0.48192771084337216,
          0.48674698795180565,
          0.5542168674698785,
          0.549397590361445,
          0.49879518072289036,
          0.4674698795180715,
          0.4771084337349386,
          0.40240963855421624,
          0.44096385542168626,
          0.3927710843373492,
          0.4048192771084322,
          0.35903614457831273,
          0.1807228915662635,
          0.18795180722891466,
          0.07228915662650473,
          0.26024096385542106,
          0.28674698795180636,
          0.2650602409638546,
          0.2554216867469875,
          0.34216867469879453,
          0.25783132530120345,
          0.2795180722891552,
          0.27469879518072166,
          0.4096385542168674,
          0.35421686746987924,
          0.29397590361445747,
          0.23373493975903575,
          0.3108433734939757,
          0.31325301204819167,
          0.424096385542168,
          0.4361445783132527,
          0.4506024096385533,
          0.4795180722891562,
          0.4096385542168674,
          0.375903614457831,
          0.39518072289156514,
          0.337349397590361,
          0.3397590361445769,
          0.38313253012048043,
          0.4048192771084322,
          0.44578313253011975,
          0.3156626506024092,
          0.2530120481927699,
          0.22650602409638462,
          0.20240963855421526,
          0.2554216867469875,
          0.10843373493975877,
          0.08192771084337348,
          0.0963855421686741,
          0,
          0.028915662650601224,
          0.16385542168674697,
          0.23132530120481817,
          0.2216867469879511,
          0.21686746987951755,
          0.2915662650602399,
          0.36867469879517983,
          0.40240963855421624,
          0.39759036144578275,
          0.3566265060240952,
          0.24096385542168525,
          0.2554216867469875,
          0.26987951807228816,
          0.2963855421686734,
          0.289156626506024,
          0.23373493975903575,
          0.16385542168674697,
          0.0963855421686741,
          0.07228915662650473,
          0.11325301204819231,
          0.11325301204819231,
          0.12771084337349292,
          0.18554216867469872,
          0.22650602409638462,
          0.22650602409638462,
          0.2530120481927699
         ],
         "open": [
          0.8650602409638543,
          0.8795180722891566,
          0.927710843373492,
          0.8361445783132531,
          0.7204819277108414,
          0.6385542168674696,
          0.549397590361445,
          0.47469879518072267,
          0.48915662650602326,
          0.5228915662650597,
          0.4939759036144568,
          0.5156626506024086,
          0.5855421686746973,
          0.5469879518072274,
          0.5999999999999996,
          0.674698795180722,
          0.633734939759036,
          0.6698795180722885,
          0.5277108433734933,
          0.4771084337349386,
          0.48674698795180565,
          0.48192771084337216,
          0.5734939759036144,
          0.5469879518072274,
          0.539759036144578,
          0.5060240963855415,
          0.5734939759036144,
          0.5662650602409632,
          0.5999999999999996,
          0.5036144578313239,
          0.4939759036144568,
          0.5180722891566262,
          0.47228915662650506,
          0.4602409638554204,
          0.41445783132530095,
          0.41204819277108334,
          0.3614457831325287,
          0.2795180722891552,
          0.2216867469879511,
          0.2915662650602399,
          0.3253012048192763,
          0.2963855421686734,
          0.27469879518072166,
          0.3493975903614457,
          0.38313253012048043,
          0.30120481927710696,
          0.34216867469879453,
          0.43132530120481916,
          0.42891566265060155,
          0.3566265060240952,
          0.3156626506024092,
          0.4192771084337345,
          0.337349397590361,
          0.4481927710843357,
          0.4650602409638539,
          0.462650602409638,
          0.5180722891566262,
          0.48192771084337216,
          0.41204819277108334,
          0.3999999999999987,
          0.44096385542168626,
          0.34457831325301047,
          0.3999999999999987,
          0.4072289156626498,
          0.45542168674698685,
          0.45542168674698685,
          0.3204819277108428,
          0.28433734939758876,
          0.23132530120481817,
          0.2674698795180722,
          0.2915662650602399,
          0.12771084337349292,
          0.19759036144578174,
          0.10120481927710763,
          0.03132530120481883,
          0.18554216867469872,
          0.25060240963855396,
          0.2722891566265057,
          0.24819277108433638,
          0.3204819277108428,
          0.3807228915662645,
          0.4048192771084322,
          0.47228915662650506,
          0.42168674698795044,
          0.3662650602409622,
          0.30120481927710696,
          0.31807228915662517,
          0.3060240963855422,
          0.3349397590361434,
          0.3060240963855422,
          0.2819277108433728,
          0.19999999999999934,
          0.11325301204819231,
          0.13734939759036,
          0.17108433734939643,
          0.1421686746987952,
          0.2554216867469875,
          0.22891566265060223,
          0.289156626506024,
          0.27710843373493926
         ],
         "type": "candlestick",
         "x": [
          0,
          1,
          2,
          3,
          4,
          5,
          6,
          7,
          8,
          9,
          10,
          11,
          12,
          13,
          14,
          15,
          16,
          17,
          18,
          19,
          20,
          21,
          22,
          23,
          24,
          25,
          26,
          27,
          28,
          29,
          30,
          31,
          32,
          33,
          34,
          35,
          36,
          37,
          38,
          39,
          40,
          41,
          42,
          43,
          44,
          45,
          46,
          47,
          48,
          49,
          50,
          51,
          52,
          53,
          54,
          55,
          56,
          57,
          58,
          59,
          60,
          61,
          62,
          63,
          64,
          65,
          66,
          67,
          68,
          69,
          70,
          71,
          72,
          73,
          74,
          75,
          76,
          77,
          78,
          79,
          80,
          81,
          82,
          83,
          84,
          85,
          86,
          87,
          88,
          89,
          90,
          91,
          92,
          93,
          94,
          95,
          96,
          97,
          98,
          99
         ],
         "xaxis": "x",
         "yaxis": "y"
        }
       ],
       "layout": {
        "font": {
         "color": "#dedddc"
        },
        "hovermode": "x unified",
        "margin": {
         "b": 20,
         "l": 0,
         "r": 40,
         "t": 0
        },
        "paper_bgcolor": "#151822",
        "plot_bgcolor": "#151822",
        "showlegend": false,
        "template": {
         "data": {
          "bar": [
           {
            "error_x": {
             "color": "#f2f5fa"
            },
            "error_y": {
             "color": "#f2f5fa"
            },
            "marker": {
             "line": {
              "color": "rgb(17,17,17)",
              "width": 0.5
             },
             "pattern": {
              "fillmode": "overlay",
              "size": 10,
              "solidity": 0.2
             }
            },
            "type": "bar"
           }
          ],
          "barpolar": [
           {
            "marker": {
             "line": {
              "color": "rgb(17,17,17)",
              "width": 0.5
             },
             "pattern": {
              "fillmode": "overlay",
              "size": 10,
              "solidity": 0.2
             }
            },
            "type": "barpolar"
           }
          ],
          "carpet": [
           {
            "aaxis": {
             "endlinecolor": "#A2B1C6",
             "gridcolor": "#506784",
             "linecolor": "#506784",
             "minorgridcolor": "#506784",
             "startlinecolor": "#A2B1C6"
            },
            "baxis": {
             "endlinecolor": "#A2B1C6",
             "gridcolor": "#506784",
             "linecolor": "#506784",
             "minorgridcolor": "#506784",
             "startlinecolor": "#A2B1C6"
            },
            "type": "carpet"
           }
          ],
          "choropleth": [
           {
            "colorbar": {
             "outlinewidth": 0,
             "ticks": ""
            },
            "type": "choropleth"
           }
          ],
          "contour": [
           {
            "colorbar": {
             "outlinewidth": 0,
             "ticks": ""
            },
            "colorscale": [
             [
              0,
              "#0d0887"
             ],
             [
              0.1111111111111111,
              "#46039f"
             ],
             [
              0.2222222222222222,
              "#7201a8"
             ],
             [
              0.3333333333333333,
              "#9c179e"
             ],
             [
              0.4444444444444444,
              "#bd3786"
             ],
             [
              0.5555555555555556,
              "#d8576b"
             ],
             [
              0.6666666666666666,
              "#ed7953"
             ],
             [
              0.7777777777777778,
              "#fb9f3a"
             ],
             [
              0.8888888888888888,
              "#fdca26"
             ],
             [
              1,
              "#f0f921"
             ]
            ],
            "type": "contour"
           }
          ],
          "contourcarpet": [
           {
            "colorbar": {
             "outlinewidth": 0,
             "ticks": ""
            },
            "type": "contourcarpet"
           }
          ],
          "heatmap": [
           {
            "colorbar": {
             "outlinewidth": 0,
             "ticks": ""
            },
            "colorscale": [
             [
              0,
              "#0d0887"
             ],
             [
              0.1111111111111111,
              "#46039f"
             ],
             [
              0.2222222222222222,
              "#7201a8"
             ],
             [
              0.3333333333333333,
              "#9c179e"
             ],
             [
              0.4444444444444444,
              "#bd3786"
             ],
             [
              0.5555555555555556,
              "#d8576b"
             ],
             [
              0.6666666666666666,
              "#ed7953"
             ],
             [
              0.7777777777777778,
              "#fb9f3a"
             ],
             [
              0.8888888888888888,
              "#fdca26"
             ],
             [
              1,
              "#f0f921"
             ]
            ],
            "type": "heatmap"
           }
          ],
          "heatmapgl": [
           {
            "colorbar": {
             "outlinewidth": 0,
             "ticks": ""
            },
            "colorscale": [
             [
              0,
              "#0d0887"
             ],
             [
              0.1111111111111111,
              "#46039f"
             ],
             [
              0.2222222222222222,
              "#7201a8"
             ],
             [
              0.3333333333333333,
              "#9c179e"
             ],
             [
              0.4444444444444444,
              "#bd3786"
             ],
             [
              0.5555555555555556,
              "#d8576b"
             ],
             [
              0.6666666666666666,
              "#ed7953"
             ],
             [
              0.7777777777777778,
              "#fb9f3a"
             ],
             [
              0.8888888888888888,
              "#fdca26"
             ],
             [
              1,
              "#f0f921"
             ]
            ],
            "type": "heatmapgl"
           }
          ],
          "histogram": [
           {
            "marker": {
             "pattern": {
              "fillmode": "overlay",
              "size": 10,
              "solidity": 0.2
             }
            },
            "type": "histogram"
           }
          ],
          "histogram2d": [
           {
            "colorbar": {
             "outlinewidth": 0,
             "ticks": ""
            },
            "colorscale": [
             [
              0,
              "#0d0887"
             ],
             [
              0.1111111111111111,
              "#46039f"
             ],
             [
              0.2222222222222222,
              "#7201a8"
             ],
             [
              0.3333333333333333,
              "#9c179e"
             ],
             [
              0.4444444444444444,
              "#bd3786"
             ],
             [
              0.5555555555555556,
              "#d8576b"
             ],
             [
              0.6666666666666666,
              "#ed7953"
             ],
             [
              0.7777777777777778,
              "#fb9f3a"
             ],
             [
              0.8888888888888888,
              "#fdca26"
             ],
             [
              1,
              "#f0f921"
             ]
            ],
            "type": "histogram2d"
           }
          ],
          "histogram2dcontour": [
           {
            "colorbar": {
             "outlinewidth": 0,
             "ticks": ""
            },
            "colorscale": [
             [
              0,
              "#0d0887"
             ],
             [
              0.1111111111111111,
              "#46039f"
             ],
             [
              0.2222222222222222,
              "#7201a8"
             ],
             [
              0.3333333333333333,
              "#9c179e"
             ],
             [
              0.4444444444444444,
              "#bd3786"
             ],
             [
              0.5555555555555556,
              "#d8576b"
             ],
             [
              0.6666666666666666,
              "#ed7953"
             ],
             [
              0.7777777777777778,
              "#fb9f3a"
             ],
             [
              0.8888888888888888,
              "#fdca26"
             ],
             [
              1,
              "#f0f921"
             ]
            ],
            "type": "histogram2dcontour"
           }
          ],
          "mesh3d": [
           {
            "colorbar": {
             "outlinewidth": 0,
             "ticks": ""
            },
            "type": "mesh3d"
           }
          ],
          "parcoords": [
           {
            "line": {
             "colorbar": {
              "outlinewidth": 0,
              "ticks": ""
             }
            },
            "type": "parcoords"
           }
          ],
          "pie": [
           {
            "automargin": true,
            "type": "pie"
           }
          ],
          "scatter": [
           {
            "marker": {
             "line": {
              "color": "#283442"
             }
            },
            "type": "scatter"
           }
          ],
          "scatter3d": [
           {
            "line": {
             "colorbar": {
              "outlinewidth": 0,
              "ticks": ""
             }
            },
            "marker": {
             "colorbar": {
              "outlinewidth": 0,
              "ticks": ""
             }
            },
            "type": "scatter3d"
           }
          ],
          "scattercarpet": [
           {
            "marker": {
             "colorbar": {
              "outlinewidth": 0,
              "ticks": ""
             }
            },
            "type": "scattercarpet"
           }
          ],
          "scattergeo": [
           {
            "marker": {
             "colorbar": {
              "outlinewidth": 0,
              "ticks": ""
             }
            },
            "type": "scattergeo"
           }
          ],
          "scattergl": [
           {
            "marker": {
             "line": {
              "color": "#283442"
             }
            },
            "type": "scattergl"
           }
          ],
          "scattermapbox": [
           {
            "marker": {
             "colorbar": {
              "outlinewidth": 0,
              "ticks": ""
             }
            },
            "type": "scattermapbox"
           }
          ],
          "scatterpolar": [
           {
            "marker": {
             "colorbar": {
              "outlinewidth": 0,
              "ticks": ""
             }
            },
            "type": "scatterpolar"
           }
          ],
          "scatterpolargl": [
           {
            "marker": {
             "colorbar": {
              "outlinewidth": 0,
              "ticks": ""
             }
            },
            "type": "scatterpolargl"
           }
          ],
          "scatterternary": [
           {
            "marker": {
             "colorbar": {
              "outlinewidth": 0,
              "ticks": ""
             }
            },
            "type": "scatterternary"
           }
          ],
          "surface": [
           {
            "colorbar": {
             "outlinewidth": 0,
             "ticks": ""
            },
            "colorscale": [
             [
              0,
              "#0d0887"
             ],
             [
              0.1111111111111111,
              "#46039f"
             ],
             [
              0.2222222222222222,
              "#7201a8"
             ],
             [
              0.3333333333333333,
              "#9c179e"
             ],
             [
              0.4444444444444444,
              "#bd3786"
             ],
             [
              0.5555555555555556,
              "#d8576b"
             ],
             [
              0.6666666666666666,
              "#ed7953"
             ],
             [
              0.7777777777777778,
              "#fb9f3a"
             ],
             [
              0.8888888888888888,
              "#fdca26"
             ],
             [
              1,
              "#f0f921"
             ]
            ],
            "type": "surface"
           }
          ],
          "table": [
           {
            "cells": {
             "fill": {
              "color": "#506784"
             },
             "line": {
              "color": "rgb(17,17,17)"
             }
            },
            "header": {
             "fill": {
              "color": "#2a3f5f"
             },
             "line": {
              "color": "rgb(17,17,17)"
             }
            },
            "type": "table"
           }
          ]
         },
         "layout": {
          "annotationdefaults": {
           "arrowcolor": "#f2f5fa",
           "arrowhead": 0,
           "arrowwidth": 1
          },
          "autotypenumbers": "strict",
          "coloraxis": {
           "colorbar": {
            "outlinewidth": 0,
            "ticks": ""
           }
          },
          "colorscale": {
           "diverging": [
            [
             0,
             "#8e0152"
            ],
            [
             0.1,
             "#c51b7d"
            ],
            [
             0.2,
             "#de77ae"
            ],
            [
             0.3,
             "#f1b6da"
            ],
            [
             0.4,
             "#fde0ef"
            ],
            [
             0.5,
             "#f7f7f7"
            ],
            [
             0.6,
             "#e6f5d0"
            ],
            [
             0.7,
             "#b8e186"
            ],
            [
             0.8,
             "#7fbc41"
            ],
            [
             0.9,
             "#4d9221"
            ],
            [
             1,
             "#276419"
            ]
           ],
           "sequential": [
            [
             0,
             "#0d0887"
            ],
            [
             0.1111111111111111,
             "#46039f"
            ],
            [
             0.2222222222222222,
             "#7201a8"
            ],
            [
             0.3333333333333333,
             "#9c179e"
            ],
            [
             0.4444444444444444,
             "#bd3786"
            ],
            [
             0.5555555555555556,
             "#d8576b"
            ],
            [
             0.6666666666666666,
             "#ed7953"
            ],
            [
             0.7777777777777778,
             "#fb9f3a"
            ],
            [
             0.8888888888888888,
             "#fdca26"
            ],
            [
             1,
             "#f0f921"
            ]
           ],
           "sequentialminus": [
            [
             0,
             "#0d0887"
            ],
            [
             0.1111111111111111,
             "#46039f"
            ],
            [
             0.2222222222222222,
             "#7201a8"
            ],
            [
             0.3333333333333333,
             "#9c179e"
            ],
            [
             0.4444444444444444,
             "#bd3786"
            ],
            [
             0.5555555555555556,
             "#d8576b"
            ],
            [
             0.6666666666666666,
             "#ed7953"
            ],
            [
             0.7777777777777778,
             "#fb9f3a"
            ],
            [
             0.8888888888888888,
             "#fdca26"
            ],
            [
             1,
             "#f0f921"
            ]
           ]
          },
          "colorway": [
           "#636efa",
           "#EF553B",
           "#00cc96",
           "#ab63fa",
           "#FFA15A",
           "#19d3f3",
           "#FF6692",
           "#B6E880",
           "#FF97FF",
           "#FECB52"
          ],
          "font": {
           "color": "#f2f5fa"
          },
          "geo": {
           "bgcolor": "rgb(17,17,17)",
           "lakecolor": "rgb(17,17,17)",
           "landcolor": "rgb(17,17,17)",
           "showlakes": true,
           "showland": true,
           "subunitcolor": "#506784"
          },
          "hoverlabel": {
           "align": "left"
          },
          "hovermode": "closest",
          "mapbox": {
           "style": "dark"
          },
          "paper_bgcolor": "rgb(17,17,17)",
          "plot_bgcolor": "rgb(17,17,17)",
          "polar": {
           "angularaxis": {
            "gridcolor": "#506784",
            "linecolor": "#506784",
            "ticks": ""
           },
           "bgcolor": "rgb(17,17,17)",
           "radialaxis": {
            "gridcolor": "#506784",
            "linecolor": "#506784",
            "ticks": ""
           }
          },
          "scene": {
           "xaxis": {
            "backgroundcolor": "rgb(17,17,17)",
            "gridcolor": "#506784",
            "gridwidth": 2,
            "linecolor": "#506784",
            "showbackground": true,
            "ticks": "",
            "zerolinecolor": "#C8D4E3"
           },
           "yaxis": {
            "backgroundcolor": "rgb(17,17,17)",
            "gridcolor": "#506784",
            "gridwidth": 2,
            "linecolor": "#506784",
            "showbackground": true,
            "ticks": "",
            "zerolinecolor": "#C8D4E3"
           },
           "zaxis": {
            "backgroundcolor": "rgb(17,17,17)",
            "gridcolor": "#506784",
            "gridwidth": 2,
            "linecolor": "#506784",
            "showbackground": true,
            "ticks": "",
            "zerolinecolor": "#C8D4E3"
           }
          },
          "shapedefaults": {
           "line": {
            "color": "#f2f5fa"
           }
          },
          "sliderdefaults": {
           "bgcolor": "#C8D4E3",
           "bordercolor": "rgb(17,17,17)",
           "borderwidth": 1,
           "tickwidth": 0
          },
          "ternary": {
           "aaxis": {
            "gridcolor": "#506784",
            "linecolor": "#506784",
            "ticks": ""
           },
           "baxis": {
            "gridcolor": "#506784",
            "linecolor": "#506784",
            "ticks": ""
           },
           "bgcolor": "rgb(17,17,17)",
           "caxis": {
            "gridcolor": "#506784",
            "linecolor": "#506784",
            "ticks": ""
           }
          },
          "title": {
           "x": 0.05
          },
          "updatemenudefaults": {
           "bgcolor": "#506784",
           "borderwidth": 0
          },
          "xaxis": {
           "automargin": true,
           "gridcolor": "#283442",
           "linecolor": "#506784",
           "ticks": "",
           "title": {
            "standoff": 15
           },
           "zerolinecolor": "#283442",
           "zerolinewidth": 2
          },
          "yaxis": {
           "automargin": true,
           "gridcolor": "#283442",
           "linecolor": "#506784",
           "ticks": "",
           "title": {
            "standoff": 15
           },
           "zerolinecolor": "#283442",
           "zerolinewidth": 2
          }
         }
        },
        "xaxis": {
         "anchor": "y",
         "domain": [
          0,
          1
         ],
         "rangeslider": {
          "visible": false
         }
        },
        "yaxis": {
         "anchor": "x",
         "domain": [
          0,
          1
         ],
         "showgrid": true,
         "showline": true,
         "showspikes": true,
         "showticklabels": true,
         "side": "right",
         "spikedash": "dot",
         "spikemode": "across",
         "spikesnap": "cursor",
         "spikethickness": 1,
         "zeroline": false
        }
       }
      }
     },
     "metadata": {},
     "output_type": "display_data"
    }
   ],
   "source": [
    "render_candles(df2)"
   ]
  },
  {
   "cell_type": "code",
   "execution_count": 15,
   "metadata": {},
   "outputs": [
    {
     "data": {
      "text/plain": [
       "<matplotlib.image.AxesImage at 0x520249de0>"
      ]
     },
     "execution_count": 15,
     "metadata": {},
     "output_type": "execute_result"
    },
    {
     "data": {
      "image/png": "[encoded data removed]",
      "text/plain": [
       "<Figure size 1000x1000 with 1 Axes>"
      ]
     },
     "metadata": {},
     "output_type": "display_data"
    }
   ],
   "source": [
    "plt.figure(figsize=(10, 10))\n",
    "plt.imshow(decoded[0].transpose(), cmap='gray')"
   ]
  },
  {
   "cell_type": "code",
   "execution_count": 14,
   "metadata": {},
   "outputs": [
    {
     "data": {
      "text/plain": [
       "<matplotlib.image.AxesImage at 0x51ff48880>"
      ]
     },
     "execution_count": 14,
     "metadata": {},
     "output_type": "execute_result"
    },
    {
     "data": {
      "image/png": "[encoded data removed]",
      "text/plain": [
       "<Figure size 1000x1000 with 1 Axes>"
      ]
     },
     "metadata": {},
     "output_type": "display_data"
    }
   ],
   "source": [
    "plt.figure(figsize=(10, 10))\n",
    "plt.imshow(test_data[0].transpose(), cmap='gray')"
   ]
  }
 ],
 "metadata": {
  "kernelspec": {
   "display_name": "base",
   "language": "python",
   "name": "python3"
  },
  "language_info": {
   "codemirror_mode": {
    "name": "ipython",
    "version": 3
   },
   "file_extension": ".py",
   "mimetype": "text/x-python",
   "name": "python",
   "nbconvert_exporter": "python",
   "pygments_lexer": "ipython3",
   "version": "3.10.9"
  },
  "orig_nbformat": 4
 },
 "nbformat": 4,
 "nbformat_minor": 2
}
