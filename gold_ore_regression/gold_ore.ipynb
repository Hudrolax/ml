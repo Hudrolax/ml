{
 "cells": [
  {
   "cell_type": "code",
   "execution_count": null,
   "metadata": {},
   "outputs": [],
   "source": [
    "import pandas as pd\n",
    "import numpy as np\n",
    "import matplotlib.pyplot as plt\n",
    "from sklearn.impute import KNNImputer\n",
    "from sklearn.model_selection import train_test_split\n",
    "from sklearn.preprocessing import StandardScaler\n",
    "from tensorflow.keras.models import Sequential\n",
    "from tensorflow.keras.layers import Dense, Dropout\n",
    "from tensorflow.keras.optimizers import Adam\n",
    "import tensorflow as tf\n",
    "tf.config.set_visible_devices([], 'GPU')"
   ]
  },
  {
   "cell_type": "code",
   "execution_count": null,
   "metadata": {},
   "outputs": [],
   "source": [
    "# загрузим данные\n",
    "full_df = pd.read_csv('gold_recovery_full_new.csv').drop('date', axis=1)\n",
    "train_df = pd.read_csv('gold_recovery_train_new.csv').drop('date', axis=1)\n",
    "test_df = pd.read_csv('gold_recovery_test_new.csv').drop('date', axis=1)"
   ]
  },
  {
   "cell_type": "code",
   "execution_count": null,
   "metadata": {},
   "outputs": [],
   "source": [
    "# Заполним пропуски\n",
    "def knn_impute_missing_values(dfs, n_neighbors=3):\n",
    "    for df in dfs:\n",
    "        # Выбираем только числовые колонки\n",
    "        numeric_df = df.select_dtypes(include=[np.number])\n",
    "\n",
    "        # Создаем экземпляр KNNImputer с заданным числом соседей\n",
    "        imputer = KNNImputer(n_neighbors=n_neighbors)\n",
    "\n",
    "        # Заполняем пропуски в числовых колонках\n",
    "        imputed_data = imputer.fit_transform(numeric_df)\n",
    "\n",
    "        # Обновляем исходный датафрейм с заполненными пропусками\n",
    "        df[numeric_df.columns] = imputed_data\n",
    "\n",
    "knn_impute_missing_values([full_df, train_df, test_df])\n",
    "\n",
    "# Проверим, что пропусков нет\n",
    "def check_missing_values(dfs):\n",
    "    for df in dfs:\n",
    "        assert df.isna().sum().sum() == 0\n",
    "\n",
    "check_missing_values([full_df, train_df, test_df])"
   ]
  },
  {
   "cell_type": "code",
   "execution_count": null,
   "metadata": {},
   "outputs": [],
   "source": [
    "# Объявим функции для чистки колонок\n",
    "def drop_missing_columns(df1, df2):\n",
    "    checklist = [*df2.columns, 'rougher.output.recovery', 'final.output.recovery']\n",
    "    missing_columns = [col for col in df1.columns if col not in checklist]\n",
    "    df1.drop(missing_columns, axis=1, inplace=True)\n",
    "\n",
    "def get_missing_columns(df1, df2):\n",
    "    missing_columns = [col for col in df1.columns if col not in df2.columns]\n",
    "    return missing_columns"
   ]
  },
  {
   "cell_type": "code",
   "execution_count": null,
   "metadata": {},
   "outputs": [],
   "source": [
    "# Удалим лишние колоник\n",
    "drop_missing_columns(full_df, test_df)"
   ]
  },
  {
   "cell_type": "code",
   "execution_count": null,
   "metadata": {},
   "outputs": [],
   "source": [
    "# Проверим, что в лишних колонках только целевые\n",
    "get_missing_columns(full_df, test_df)"
   ]
  },
  {
   "cell_type": "code",
   "execution_count": null,
   "metadata": {},
   "outputs": [],
   "source": [
    "\"\"\"\n",
    "    В full_df остались только колоники для обучения + 2 целевые колонки.\n",
    "    Делаем 2 набора данных. Один для rougher, второй для финальной фичи.\n",
    "\"\"\"\n",
    "X1 = full_df.drop(['final.output.recovery', 'rougher.output.recovery'], axis=1)\n",
    "y1 = full_df['rougher.output.recovery']\n",
    "X_train1, X_test1, y_train1, y_test1 = train_test_split(X1, y1, test_size=0.2, random_state=42)\n",
    "\n",
    "X2 = full_df.drop('final.output.recovery', axis=1)\n",
    "y2 = full_df['final.output.recovery']\n",
    "X_train2, X_test2, y_train2, y_test2 = train_test_split(X2, y2, test_size=0.2, random_state=42)"
   ]
  },
  {
   "cell_type": "code",
   "execution_count": null,
   "metadata": {},
   "outputs": [],
   "source": [
    "# Implement metrics\n",
    "\n",
    "# Сделаем функцию для расчета метрики (взял твою для чистоты эксперимента)\n",
    "def smape(target, predictions):\n",
    "    result = abs(target - predictions) / ((abs(target) + abs(predictions)) / 2) * 100\n",
    "    # result = result.fillna(value=0)\n",
    "\n",
    "    result = tf.reduce_mean(result)\n",
    "    return result\n",
    "\n",
    "# Сделаем функцию для расчета итоговой метрики\n",
    "def total_smape(smape_rougher, smape_final):\n",
    "    return (0.25 * smape_rougher + 0.75 * smape_final)\n"
   ]
  },
  {
   "cell_type": "code",
   "execution_count": null,
   "metadata": {},
   "outputs": [],
   "source": [
    "# Define the trainer class\n",
    "class TrainClass:\n",
    "    def __init__(self, X_train, y_train, X_test, y_test) -> None:\n",
    "        self.X_train = X_train\n",
    "        self.y_train = y_train\n",
    "        self.X_test = X_test\n",
    "        self.y_test = y_test\n",
    "\n",
    "        # Создание полносвязной нейронной сети\n",
    "        self.model = Sequential([\n",
    "            Dense(128, activation='tanh', input_shape=(X_train.shape[1],)),\n",
    "            Dropout(0.2),\n",
    "            Dense(64, activation='tanh'),\n",
    "            Dropout(0.2),\n",
    "            Dense(64, activation='tanh'),\n",
    "            Dropout(0.2),\n",
    "            Dense(64, activation='tanh'),\n",
    "            Dropout(0.2),\n",
    "            Dense(1) \n",
    "        ])\n",
    "\n",
    "        # Компиляция модели\n",
    "        self.model.compile(optimizer=Adam(), loss='mse', metrics=[smape])  # Используем функцию потерь 'mse' и метрику sMAPE\n",
    "\n",
    "        # Scale data\n",
    "        self.scale()\n",
    "    \n",
    "    def scale(self):\n",
    "        # Масштабирование данных\n",
    "        scaler = StandardScaler()\n",
    "        self.X_train = scaler.fit_transform(self.X_train)\n",
    "        self.X_test = scaler.transform(self.X_test)\n",
    "    \n",
    "    def validate(self, validate_set=True):\n",
    "        # Валидация модели на тестовой выборке\n",
    "        if validate_set:\n",
    "            test_loss, test_metric = self.model.evaluate(self.X_test, self.y_test)\n",
    "        else:\n",
    "            test_loss, test_metric = self.model.evaluate(self.X_train, self.y_train)\n",
    "        print(\"Test loss:\", test_loss)\n",
    "        print(\"Test metric (smape):\", test_metric)\n",
    "        return test_loss, test_metric\n",
    "\n",
    "\n",
    "    def train(self, epochs=int(1e3), batch_size=32, verbose=1):\n",
    "        # Обучение модели\n",
    "        self.history = self.model.fit(\n",
    "            self.X_train,\n",
    "            self.y_train,\n",
    "            validation_data=(self.X_test, self.y_test),\n",
    "            epochs=epochs,\n",
    "            batch_size=batch_size,\n",
    "            )"
   ]
  },
  {
   "cell_type": "code",
   "execution_count": null,
   "metadata": {},
   "outputs": [],
   "source": [
    "# Implement history render funtion\n",
    "def plot_history(history1, history2, title1, title2, metric):\n",
    "    fig, (ax1, ax2) = plt.subplots(1, 2, figsize=(12, 4))\n",
    "\n",
    "    # Первый график (график обучения и валидации метрики для первой модели)\n",
    "    ax1.plot(history1.history[metric], label='Training Metric')\n",
    "    ax1.plot(history1.history[f'val_{metric}'], label='Validation Metric')\n",
    "    ax1.set_title(title1)\n",
    "    ax1.set_xlabel('Epoch')\n",
    "    ax1.set_ylabel('sMAPE')\n",
    "    ax1.legend()\n",
    "\n",
    "    # Второй график (график обучения и валидации метрики для второй модели)\n",
    "    ax2.plot(history2.history[metric], label='Training Metric')\n",
    "    ax2.plot(history2.history[f'val_{metric}'], label='Validation Metric')\n",
    "    ax2.set_title(title2)\n",
    "    ax2.set_xlabel('Epoch')\n",
    "    ax2.set_ylabel('sMAPE')\n",
    "    ax2.legend()\n",
    "\n",
    "    plt.show()"
   ]
  },
  {
   "cell_type": "code",
   "execution_count": null,
   "metadata": {},
   "outputs": [],
   "source": [
    "# Make trainer objects\n",
    "rougher_model = TrainClass(X_train1, y_train1, X_test1, y_test1)\n",
    "final_model = TrainClass(X_train2, y_train2, X_test2, y_test2)"
   ]
  },
  {
   "cell_type": "code",
   "execution_count": null,
   "metadata": {},
   "outputs": [],
   "source": [
    "# Train models\n",
    "rougher_model.train()\n",
    "final_model.train()"
   ]
  },
  {
   "cell_type": "code",
   "execution_count": null,
   "metadata": {},
   "outputs": [],
   "source": [
    "# Plot train history graphs\n",
    "plot_history(rougher_model.history, final_model.history, 'Rougher', 'Final', 'smape')"
   ]
  },
  {
   "cell_type": "code",
   "execution_count": null,
   "metadata": {},
   "outputs": [],
   "source": [
    "# Print total results\n",
    "\n",
    "_, smape_rougher = rougher_model.validate(validate_set=True)\n",
    "_, smape_final = final_model.validate(validate_set=True)\n",
    "totalSmape = total_smape(smape_rougher, smape_final)\n",
    "print()\n",
    "print(f'Total sMAPE: {totalSmape}')"
   ]
  },
  {
   "cell_type": "code",
   "execution_count": null,
   "metadata": {},
   "outputs": [],
   "source": []
  }
 ],
 "metadata": {
  "kernelspec": {
   "display_name": "base",
   "language": "python",
   "name": "python3"
  },
  "language_info": {
   "codemirror_mode": {
    "name": "ipython",
    "version": 3
   },
   "file_extension": ".py",
   "mimetype": "text/x-python",
   "name": "python",
   "nbconvert_exporter": "python",
   "pygments_lexer": "ipython3",
   "version": "3.10.9"
  },
  "orig_nbformat": 4
 },
 "nbformat": 4,
 "nbformat_minor": 2
}
