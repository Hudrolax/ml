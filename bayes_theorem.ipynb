{
 "cells": [
  {
   "cell_type": "code",
   "execution_count": 1,
   "metadata": {},
   "outputs": [],
   "source": [
    "import numpy as np"
   ]
  },
  {
   "attachments": {},
   "cell_type": "markdown",
   "metadata": {},
   "source": [
    "Вероятность вытащить туза, если взять 7 карт"
   ]
  },
  {
   "cell_type": "code",
   "execution_count": 50,
   "metadata": {},
   "outputs": [],
   "source": [
    "class Deck:\n",
    "    _deck = ['6', '7', '8', '9', '10', 'V', 'D', 'K', 'T']\n",
    "    # _deck = ['2', '3', '4', '5', '6', '7', '8', '9', '10', 'V', 'D', 'K', 'T']\n",
    "    def __init__(self) -> None:\n",
    "        self.deck = []\n",
    "        for i in range(0, 4):\n",
    "            self.deck.extend(self._deck)\n",
    "    \n",
    "    def pop(self, n) -> str:\n",
    "        return self.deck.pop(n)"
   ]
  },
  {
   "cell_type": "code",
   "execution_count": 22,
   "metadata": {},
   "outputs": [
    {
     "name": "stdout",
     "output_type": "stream",
     "text": [
      "0.59625\n"
     ]
    }
   ],
   "source": [
    "yea = 0\n",
    "n = 100000\n",
    "for i in range(0, n): \n",
    "    deck = Deck()\n",
    "    cards = []\n",
    "    for card in range(0, 7):\n",
    "        cards.append(deck.pop(np.random.randint(0, len(deck.deck))))\n",
    "    if 'T' in cards:\n",
    "        yea += 1\n",
    "\n",
    "print(yea / n)"
   ]
  },
  {
   "cell_type": "code",
   "execution_count": 21,
   "metadata": {},
   "outputs": [
    {
     "data": {
      "text/plain": [
       "0.5967914438502675"
      ]
     },
     "execution_count": 21,
     "metadata": {},
     "output_type": "execute_result"
    }
   ],
   "source": [
    "1 - 32/36 * 31/35 * 30/34 * 29/33 * 28/32 * 27/31 * 26/30"
   ]
  },
  {
   "cell_type": "code",
   "execution_count": 56,
   "metadata": {},
   "outputs": [
    {
     "name": "stdout",
     "output_type": "stream",
     "text": [
      "0.97045\n"
     ]
    }
   ],
   "source": [
    "yea = 0\n",
    "n = 100000\n",
    "for i in range(0, n):\n",
    "    deck = Deck()\n",
    "    cards = []\n",
    "    for card in range(0, 4):\n",
    "        cards.append(deck.pop(np.random.randint(0, len(deck.deck))))\n",
    "    for m in cards:\n",
    "        mc = 0\n",
    "        for m2 in cards:\n",
    "            if m == m2:\n",
    "                mc += 1\n",
    "        if mc > 1:\n",
    "            yea += 1\n",
    "            # print(cards)\n",
    "print(yea / n)"
   ]
  },
  {
   "cell_type": "code",
   "execution_count": 30,
   "metadata": {},
   "outputs": [
    {
     "data": {
      "text/plain": [
       "0.08571428571428572"
      ]
     },
     "execution_count": 30,
     "metadata": {},
     "output_type": "execute_result"
    }
   ],
   "source": [
    "3/35"
   ]
  }
 ],
 "metadata": {
  "kernelspec": {
   "display_name": "base",
   "language": "python",
   "name": "python3"
  },
  "language_info": {
   "codemirror_mode": {
    "name": "ipython",
    "version": 3
   },
   "file_extension": ".py",
   "mimetype": "text/x-python",
   "name": "python",
   "nbconvert_exporter": "python",
   "pygments_lexer": "ipython3",
   "version": "3.10.9"
  },
  "orig_nbformat": 4,
  "vscode": {
   "interpreter": {
    "hash": "c12e766478fe8fd4b834a4af4e3658c58665008413b3bc7d36c7712ca6609ebe"
   }
  }
 },
 "nbformat": 4,
 "nbformat_minor": 2
}
