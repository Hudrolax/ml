{
 "cells": [
  {
   "cell_type": "markdown",
   "id": "dd0bbc50",
   "metadata": {},
   "source": [
    "<div style=\"border:solid Chocolate 2px; padding: 40px\">\n",
    "\n",
    "<b>Станислав, привет!👋</b>\n",
    "\n",
    "Меня зовут Кирилл Васильев, я буду ревьюером твоего проекта. Я предлагаю общаться на «ты», но если привычнее на «вы», просто скажи об этом! \n",
    "    \n",
    "Я оставил комментарии в твоем проекте. Пожалуйста, не удаляй их до технического принятия проекта.\n",
    "\n",
    "Ты можешь реагировать на комментарии как просто написав их в Markdown-ячейках, так и выделив их цветом. Например, <font color='blue'>синим</font>. Второй способ, на мой взгляд, удобнее.\n",
    "\n",
    "Свои комментарии я буду обозначать <font color='green'>зеленым</font>, <font color='gold'>желтым</font> и <font color='red'>красным </font> цветами, например:\n",
    "\n",
    "<br/>\n",
    "\n",
    "<div class=\"alert alert-success\">\n",
    "<h2> Комментарий ревьюера <a class=\"tocSkip\"> </h2>\n",
    "\n",
    "<b>Все отлично!👍:</b> В случае, если решение на отдельном шаге является полностью правильным.\n",
    "</div>\n",
    "\n",
    "<br/>\n",
    "\n",
    "<div class=\"alert alert-warning\">\n",
    "    <h2> Комментарий ревьюера <a class=\"tocSkip\"> </h2>\n",
    "    \n",
    "<b>Некоторые замечания и рекомендации💡:</b> В случае, когда решение на отдельном шаге станет еще лучше, если внести небольшие коррективы.\n",
    "</div>\n",
    "\n",
    "\n",
    "<br/>\n",
    "<div class=\"alert alert-block alert-danger\">\n",
    "<h2> Комментарий ревьюера <a class=\"tocSkip\"></h2>\n",
    "\n",
    "    \n",
    "<b>На доработку🤔:</b>\n",
    " В случае, когда решение на отдельном шаге требует существенной переработки и внесения правок. Напоминаю, что проект не может быть принят с первого раза, если ревью содержит комментарии, рекомендующие доработать шаги.\n",
    "</div>\n",
    "\n",
    "P.S. На всякий случай, я оставлю пустой шаблон для твоих комментариев ниже. Кликни два раза на мой комментарий, скопируй последние четыре строчки кода и вставляй их в пустую ячейку там, где ты хочешь оставить комментарий. Не забудь только перед этим сменить тип ячейки на Markdown. Быстро это можно сделать так: кликнуть на ячейку - нажать ESC - нажать M. \n",
    "    \n",
    "    \n",
    "<div class=\"alert alert-info\">\n",
    "<b>Комментарий студента:</b>\n",
    "<br>Место для твоего комментария\n",
    "</div>\n",
    "        \n",
    "Предлагаю тебе задавать вопросы по первым двум шагам и авторскому решению, если они возникнут. По проверке сразу переходим к третьему шагу и собственно аналитике проекта.\n",
    "    \n"
   ]
  },
  {
   "cell_type": "markdown",
   "id": "37f70ec5",
   "metadata": {
    "deletable": false,
    "editable": false,
    "id": "c81daeeb"
   },
   "source": [
    "# Исследование надежности заемщиков\n"
   ]
  },
  {
   "cell_type": "markdown",
   "id": "c1ef7b0b",
   "metadata": {
    "deletable": false,
    "editable": false,
    "id": "827c20bf"
   },
   "source": [
    "Во второй части проекта вы выполните шаги 3 и 4. Их вручную проверит ревьюер.\n",
    "Чтобы вам не пришлось писать код заново для шагов 1 и 2, мы добавили авторские решения в ячейки с кодом. \n",
    "\n"
   ]
  },
  {
   "cell_type": "markdown",
   "id": "7962065a",
   "metadata": {
    "deletable": false,
    "editable": false,
    "id": "744d7639"
   },
   "source": [
    "## Откройте таблицу и изучите общую информацию о данных"
   ]
  },
  {
   "cell_type": "markdown",
   "id": "11af8551",
   "metadata": {
    "deletable": false,
    "editable": false,
    "id": "e7a14c31"
   },
   "source": [
    "**Задание 1. Импортируйте библиотеку pandas. Считайте данные из csv-файла в датафрейм и сохраните в переменную `data`. Путь к файлу:**\n",
    "\n",
    "`/datasets/data.csv`"
   ]
  },
  {
   "cell_type": "code",
   "execution_count": 1,
   "id": "c73d55f4",
   "metadata": {
    "deletable": false,
    "id": "7bcf75c9"
   },
   "outputs": [],
   "source": [
    "import pandas as pd\n",
    "\n",
    "try:\n",
    "    data = pd.read_csv('/datasets/data.csv')\n",
    "except:\n",
    "    data = pd.read_csv('https://code.s3.yandex.net/datasets/data.csv')"
   ]
  },
  {
   "cell_type": "markdown",
   "id": "1607f049",
   "metadata": {
    "deletable": false,
    "editable": false,
    "id": "b8038fe3"
   },
   "source": [
    "**Задание 2. Выведите первые 20 строчек датафрейма `data` на экран.**"
   ]
  },
  {
   "cell_type": "code",
   "execution_count": 2,
   "id": "2fc6ba25",
   "metadata": {
    "deletable": false,
    "id": "2a7cab99",
    "outputId": "1a8f3ef2-d323-4ec2-ddf7-89670b5944c4"
   },
   "outputs": [
    {
     "data": {
      "text/html": [
       "<div>\n",
       "<style scoped>\n",
       "    .dataframe tbody tr th:only-of-type {\n",
       "        vertical-align: middle;\n",
       "    }\n",
       "\n",
       "    .dataframe tbody tr th {\n",
       "        vertical-align: top;\n",
       "    }\n",
       "\n",
       "    .dataframe thead th {\n",
       "        text-align: right;\n",
       "    }\n",
       "</style>\n",
       "<table border=\"1\" class=\"dataframe\">\n",
       "  <thead>\n",
       "    <tr style=\"text-align: right;\">\n",
       "      <th></th>\n",
       "      <th>children</th>\n",
       "      <th>days_employed</th>\n",
       "      <th>dob_years</th>\n",
       "      <th>education</th>\n",
       "      <th>education_id</th>\n",
       "      <th>family_status</th>\n",
       "      <th>family_status_id</th>\n",
       "      <th>gender</th>\n",
       "      <th>income_type</th>\n",
       "      <th>debt</th>\n",
       "      <th>total_income</th>\n",
       "      <th>purpose</th>\n",
       "    </tr>\n",
       "  </thead>\n",
       "  <tbody>\n",
       "    <tr>\n",
       "      <th>0</th>\n",
       "      <td>1</td>\n",
       "      <td>-8437.673028</td>\n",
       "      <td>42</td>\n",
       "      <td>высшее</td>\n",
       "      <td>0</td>\n",
       "      <td>женат / замужем</td>\n",
       "      <td>0</td>\n",
       "      <td>F</td>\n",
       "      <td>сотрудник</td>\n",
       "      <td>0</td>\n",
       "      <td>253875.639453</td>\n",
       "      <td>покупка жилья</td>\n",
       "    </tr>\n",
       "    <tr>\n",
       "      <th>1</th>\n",
       "      <td>1</td>\n",
       "      <td>-4024.803754</td>\n",
       "      <td>36</td>\n",
       "      <td>среднее</td>\n",
       "      <td>1</td>\n",
       "      <td>женат / замужем</td>\n",
       "      <td>0</td>\n",
       "      <td>F</td>\n",
       "      <td>сотрудник</td>\n",
       "      <td>0</td>\n",
       "      <td>112080.014102</td>\n",
       "      <td>приобретение автомобиля</td>\n",
       "    </tr>\n",
       "    <tr>\n",
       "      <th>2</th>\n",
       "      <td>0</td>\n",
       "      <td>-5623.422610</td>\n",
       "      <td>33</td>\n",
       "      <td>Среднее</td>\n",
       "      <td>1</td>\n",
       "      <td>женат / замужем</td>\n",
       "      <td>0</td>\n",
       "      <td>M</td>\n",
       "      <td>сотрудник</td>\n",
       "      <td>0</td>\n",
       "      <td>145885.952297</td>\n",
       "      <td>покупка жилья</td>\n",
       "    </tr>\n",
       "    <tr>\n",
       "      <th>3</th>\n",
       "      <td>3</td>\n",
       "      <td>-4124.747207</td>\n",
       "      <td>32</td>\n",
       "      <td>среднее</td>\n",
       "      <td>1</td>\n",
       "      <td>женат / замужем</td>\n",
       "      <td>0</td>\n",
       "      <td>M</td>\n",
       "      <td>сотрудник</td>\n",
       "      <td>0</td>\n",
       "      <td>267628.550329</td>\n",
       "      <td>дополнительное образование</td>\n",
       "    </tr>\n",
       "    <tr>\n",
       "      <th>4</th>\n",
       "      <td>0</td>\n",
       "      <td>340266.072047</td>\n",
       "      <td>53</td>\n",
       "      <td>среднее</td>\n",
       "      <td>1</td>\n",
       "      <td>гражданский брак</td>\n",
       "      <td>1</td>\n",
       "      <td>F</td>\n",
       "      <td>пенсионер</td>\n",
       "      <td>0</td>\n",
       "      <td>158616.077870</td>\n",
       "      <td>сыграть свадьбу</td>\n",
       "    </tr>\n",
       "    <tr>\n",
       "      <th>5</th>\n",
       "      <td>0</td>\n",
       "      <td>-926.185831</td>\n",
       "      <td>27</td>\n",
       "      <td>высшее</td>\n",
       "      <td>0</td>\n",
       "      <td>гражданский брак</td>\n",
       "      <td>1</td>\n",
       "      <td>M</td>\n",
       "      <td>компаньон</td>\n",
       "      <td>0</td>\n",
       "      <td>255763.565419</td>\n",
       "      <td>покупка жилья</td>\n",
       "    </tr>\n",
       "    <tr>\n",
       "      <th>6</th>\n",
       "      <td>0</td>\n",
       "      <td>-2879.202052</td>\n",
       "      <td>43</td>\n",
       "      <td>высшее</td>\n",
       "      <td>0</td>\n",
       "      <td>женат / замужем</td>\n",
       "      <td>0</td>\n",
       "      <td>F</td>\n",
       "      <td>компаньон</td>\n",
       "      <td>0</td>\n",
       "      <td>240525.971920</td>\n",
       "      <td>операции с жильем</td>\n",
       "    </tr>\n",
       "    <tr>\n",
       "      <th>7</th>\n",
       "      <td>0</td>\n",
       "      <td>-152.779569</td>\n",
       "      <td>50</td>\n",
       "      <td>СРЕДНЕЕ</td>\n",
       "      <td>1</td>\n",
       "      <td>женат / замужем</td>\n",
       "      <td>0</td>\n",
       "      <td>M</td>\n",
       "      <td>сотрудник</td>\n",
       "      <td>0</td>\n",
       "      <td>135823.934197</td>\n",
       "      <td>образование</td>\n",
       "    </tr>\n",
       "    <tr>\n",
       "      <th>8</th>\n",
       "      <td>2</td>\n",
       "      <td>-6929.865299</td>\n",
       "      <td>35</td>\n",
       "      <td>ВЫСШЕЕ</td>\n",
       "      <td>0</td>\n",
       "      <td>гражданский брак</td>\n",
       "      <td>1</td>\n",
       "      <td>F</td>\n",
       "      <td>сотрудник</td>\n",
       "      <td>0</td>\n",
       "      <td>95856.832424</td>\n",
       "      <td>на проведение свадьбы</td>\n",
       "    </tr>\n",
       "    <tr>\n",
       "      <th>9</th>\n",
       "      <td>0</td>\n",
       "      <td>-2188.756445</td>\n",
       "      <td>41</td>\n",
       "      <td>среднее</td>\n",
       "      <td>1</td>\n",
       "      <td>женат / замужем</td>\n",
       "      <td>0</td>\n",
       "      <td>M</td>\n",
       "      <td>сотрудник</td>\n",
       "      <td>0</td>\n",
       "      <td>144425.938277</td>\n",
       "      <td>покупка жилья для семьи</td>\n",
       "    </tr>\n",
       "    <tr>\n",
       "      <th>10</th>\n",
       "      <td>2</td>\n",
       "      <td>-4171.483647</td>\n",
       "      <td>36</td>\n",
       "      <td>высшее</td>\n",
       "      <td>0</td>\n",
       "      <td>женат / замужем</td>\n",
       "      <td>0</td>\n",
       "      <td>M</td>\n",
       "      <td>компаньон</td>\n",
       "      <td>0</td>\n",
       "      <td>113943.491460</td>\n",
       "      <td>покупка недвижимости</td>\n",
       "    </tr>\n",
       "    <tr>\n",
       "      <th>11</th>\n",
       "      <td>0</td>\n",
       "      <td>-792.701887</td>\n",
       "      <td>40</td>\n",
       "      <td>среднее</td>\n",
       "      <td>1</td>\n",
       "      <td>женат / замужем</td>\n",
       "      <td>0</td>\n",
       "      <td>F</td>\n",
       "      <td>сотрудник</td>\n",
       "      <td>0</td>\n",
       "      <td>77069.234271</td>\n",
       "      <td>покупка коммерческой недвижимости</td>\n",
       "    </tr>\n",
       "    <tr>\n",
       "      <th>12</th>\n",
       "      <td>0</td>\n",
       "      <td>NaN</td>\n",
       "      <td>65</td>\n",
       "      <td>среднее</td>\n",
       "      <td>1</td>\n",
       "      <td>гражданский брак</td>\n",
       "      <td>1</td>\n",
       "      <td>M</td>\n",
       "      <td>пенсионер</td>\n",
       "      <td>0</td>\n",
       "      <td>NaN</td>\n",
       "      <td>сыграть свадьбу</td>\n",
       "    </tr>\n",
       "    <tr>\n",
       "      <th>13</th>\n",
       "      <td>0</td>\n",
       "      <td>-1846.641941</td>\n",
       "      <td>54</td>\n",
       "      <td>неоконченное высшее</td>\n",
       "      <td>2</td>\n",
       "      <td>женат / замужем</td>\n",
       "      <td>0</td>\n",
       "      <td>F</td>\n",
       "      <td>сотрудник</td>\n",
       "      <td>0</td>\n",
       "      <td>130458.228857</td>\n",
       "      <td>приобретение автомобиля</td>\n",
       "    </tr>\n",
       "    <tr>\n",
       "      <th>14</th>\n",
       "      <td>0</td>\n",
       "      <td>-1844.956182</td>\n",
       "      <td>56</td>\n",
       "      <td>высшее</td>\n",
       "      <td>0</td>\n",
       "      <td>гражданский брак</td>\n",
       "      <td>1</td>\n",
       "      <td>F</td>\n",
       "      <td>компаньон</td>\n",
       "      <td>1</td>\n",
       "      <td>165127.911772</td>\n",
       "      <td>покупка жилой недвижимости</td>\n",
       "    </tr>\n",
       "    <tr>\n",
       "      <th>15</th>\n",
       "      <td>1</td>\n",
       "      <td>-972.364419</td>\n",
       "      <td>26</td>\n",
       "      <td>среднее</td>\n",
       "      <td>1</td>\n",
       "      <td>женат / замужем</td>\n",
       "      <td>0</td>\n",
       "      <td>F</td>\n",
       "      <td>сотрудник</td>\n",
       "      <td>0</td>\n",
       "      <td>116820.904450</td>\n",
       "      <td>строительство собственной недвижимости</td>\n",
       "    </tr>\n",
       "    <tr>\n",
       "      <th>16</th>\n",
       "      <td>0</td>\n",
       "      <td>-1719.934226</td>\n",
       "      <td>35</td>\n",
       "      <td>среднее</td>\n",
       "      <td>1</td>\n",
       "      <td>женат / замужем</td>\n",
       "      <td>0</td>\n",
       "      <td>F</td>\n",
       "      <td>сотрудник</td>\n",
       "      <td>0</td>\n",
       "      <td>289202.704229</td>\n",
       "      <td>недвижимость</td>\n",
       "    </tr>\n",
       "    <tr>\n",
       "      <th>17</th>\n",
       "      <td>0</td>\n",
       "      <td>-2369.999720</td>\n",
       "      <td>33</td>\n",
       "      <td>высшее</td>\n",
       "      <td>0</td>\n",
       "      <td>гражданский брак</td>\n",
       "      <td>1</td>\n",
       "      <td>M</td>\n",
       "      <td>сотрудник</td>\n",
       "      <td>0</td>\n",
       "      <td>90410.586745</td>\n",
       "      <td>строительство недвижимости</td>\n",
       "    </tr>\n",
       "    <tr>\n",
       "      <th>18</th>\n",
       "      <td>0</td>\n",
       "      <td>400281.136913</td>\n",
       "      <td>53</td>\n",
       "      <td>среднее</td>\n",
       "      <td>1</td>\n",
       "      <td>вдовец / вдова</td>\n",
       "      <td>2</td>\n",
       "      <td>F</td>\n",
       "      <td>пенсионер</td>\n",
       "      <td>0</td>\n",
       "      <td>56823.777243</td>\n",
       "      <td>на покупку подержанного автомобиля</td>\n",
       "    </tr>\n",
       "    <tr>\n",
       "      <th>19</th>\n",
       "      <td>0</td>\n",
       "      <td>-10038.818549</td>\n",
       "      <td>48</td>\n",
       "      <td>СРЕДНЕЕ</td>\n",
       "      <td>1</td>\n",
       "      <td>в разводе</td>\n",
       "      <td>3</td>\n",
       "      <td>F</td>\n",
       "      <td>сотрудник</td>\n",
       "      <td>0</td>\n",
       "      <td>242831.107982</td>\n",
       "      <td>на покупку своего автомобиля</td>\n",
       "    </tr>\n",
       "  </tbody>\n",
       "</table>\n",
       "</div>"
      ],
      "text/plain": [
       "    children  days_employed  dob_years            education  education_id  \\\n",
       "0          1   -8437.673028         42               высшее             0   \n",
       "1          1   -4024.803754         36              среднее             1   \n",
       "2          0   -5623.422610         33              Среднее             1   \n",
       "3          3   -4124.747207         32              среднее             1   \n",
       "4          0  340266.072047         53              среднее             1   \n",
       "5          0    -926.185831         27               высшее             0   \n",
       "6          0   -2879.202052         43               высшее             0   \n",
       "7          0    -152.779569         50              СРЕДНЕЕ             1   \n",
       "8          2   -6929.865299         35               ВЫСШЕЕ             0   \n",
       "9          0   -2188.756445         41              среднее             1   \n",
       "10         2   -4171.483647         36               высшее             0   \n",
       "11         0    -792.701887         40              среднее             1   \n",
       "12         0            NaN         65              среднее             1   \n",
       "13         0   -1846.641941         54  неоконченное высшее             2   \n",
       "14         0   -1844.956182         56               высшее             0   \n",
       "15         1    -972.364419         26              среднее             1   \n",
       "16         0   -1719.934226         35              среднее             1   \n",
       "17         0   -2369.999720         33               высшее             0   \n",
       "18         0  400281.136913         53              среднее             1   \n",
       "19         0  -10038.818549         48              СРЕДНЕЕ             1   \n",
       "\n",
       "       family_status  family_status_id gender income_type  debt  \\\n",
       "0    женат / замужем                 0      F   сотрудник     0   \n",
       "1    женат / замужем                 0      F   сотрудник     0   \n",
       "2    женат / замужем                 0      M   сотрудник     0   \n",
       "3    женат / замужем                 0      M   сотрудник     0   \n",
       "4   гражданский брак                 1      F   пенсионер     0   \n",
       "5   гражданский брак                 1      M   компаньон     0   \n",
       "6    женат / замужем                 0      F   компаньон     0   \n",
       "7    женат / замужем                 0      M   сотрудник     0   \n",
       "8   гражданский брак                 1      F   сотрудник     0   \n",
       "9    женат / замужем                 0      M   сотрудник     0   \n",
       "10   женат / замужем                 0      M   компаньон     0   \n",
       "11   женат / замужем                 0      F   сотрудник     0   \n",
       "12  гражданский брак                 1      M   пенсионер     0   \n",
       "13   женат / замужем                 0      F   сотрудник     0   \n",
       "14  гражданский брак                 1      F   компаньон     1   \n",
       "15   женат / замужем                 0      F   сотрудник     0   \n",
       "16   женат / замужем                 0      F   сотрудник     0   \n",
       "17  гражданский брак                 1      M   сотрудник     0   \n",
       "18    вдовец / вдова                 2      F   пенсионер     0   \n",
       "19         в разводе                 3      F   сотрудник     0   \n",
       "\n",
       "     total_income                                 purpose  \n",
       "0   253875.639453                           покупка жилья  \n",
       "1   112080.014102                 приобретение автомобиля  \n",
       "2   145885.952297                           покупка жилья  \n",
       "3   267628.550329              дополнительное образование  \n",
       "4   158616.077870                         сыграть свадьбу  \n",
       "5   255763.565419                           покупка жилья  \n",
       "6   240525.971920                       операции с жильем  \n",
       "7   135823.934197                             образование  \n",
       "8    95856.832424                   на проведение свадьбы  \n",
       "9   144425.938277                 покупка жилья для семьи  \n",
       "10  113943.491460                    покупка недвижимости  \n",
       "11   77069.234271       покупка коммерческой недвижимости  \n",
       "12            NaN                         сыграть свадьбу  \n",
       "13  130458.228857                 приобретение автомобиля  \n",
       "14  165127.911772              покупка жилой недвижимости  \n",
       "15  116820.904450  строительство собственной недвижимости  \n",
       "16  289202.704229                            недвижимость  \n",
       "17   90410.586745              строительство недвижимости  \n",
       "18   56823.777243      на покупку подержанного автомобиля  \n",
       "19  242831.107982            на покупку своего автомобиля  "
      ]
     },
     "execution_count": 2,
     "metadata": {},
     "output_type": "execute_result"
    }
   ],
   "source": [
    "data.head(20)"
   ]
  },
  {
   "cell_type": "markdown",
   "id": "f5b07864",
   "metadata": {
    "deletable": false,
    "editable": false,
    "id": "1c12e233"
   },
   "source": [
    "**Задание 3. Выведите основную информацию о датафрейме с помощью метода `info()`.**"
   ]
  },
  {
   "cell_type": "code",
   "execution_count": 3,
   "id": "4f342c8c",
   "metadata": {
    "deletable": false,
    "id": "2b757bca",
    "outputId": "15376089-8dad-46c9-b520-c05248d43158"
   },
   "outputs": [
    {
     "name": "stdout",
     "output_type": "stream",
     "text": [
      "<class 'pandas.core.frame.DataFrame'>\n",
      "RangeIndex: 21525 entries, 0 to 21524\n",
      "Data columns (total 12 columns):\n",
      " #   Column            Non-Null Count  Dtype  \n",
      "---  ------            --------------  -----  \n",
      " 0   children          21525 non-null  int64  \n",
      " 1   days_employed     19351 non-null  float64\n",
      " 2   dob_years         21525 non-null  int64  \n",
      " 3   education         21525 non-null  object \n",
      " 4   education_id      21525 non-null  int64  \n",
      " 5   family_status     21525 non-null  object \n",
      " 6   family_status_id  21525 non-null  int64  \n",
      " 7   gender            21525 non-null  object \n",
      " 8   income_type       21525 non-null  object \n",
      " 9   debt              21525 non-null  int64  \n",
      " 10  total_income      19351 non-null  float64\n",
      " 11  purpose           21525 non-null  object \n",
      "dtypes: float64(2), int64(5), object(5)\n",
      "memory usage: 2.0+ MB\n"
     ]
    }
   ],
   "source": [
    "data.info()"
   ]
  },
  {
   "cell_type": "markdown",
   "id": "195bdd68",
   "metadata": {
    "deletable": false,
    "editable": false,
    "id": "333ec665"
   },
   "source": [
    "## Предобработка данных"
   ]
  },
  {
   "cell_type": "markdown",
   "id": "7977d00f",
   "metadata": {
    "deletable": false,
    "editable": false,
    "id": "02d92d53"
   },
   "source": [
    "### Удаление пропусков"
   ]
  },
  {
   "cell_type": "markdown",
   "id": "3c998e20",
   "metadata": {
    "deletable": false,
    "editable": false,
    "id": "cd84967c"
   },
   "source": [
    "**Задание 4. Выведите количество пропущенных значений для каждого столбца. Используйте комбинацию двух методов.**"
   ]
  },
  {
   "cell_type": "code",
   "execution_count": 4,
   "id": "5cab5d5e",
   "metadata": {
    "deletable": false,
    "id": "7f9b2309",
    "outputId": "81f4d817-781c-465c-ed15-91ce4446810d"
   },
   "outputs": [
    {
     "data": {
      "text/plain": [
       "children               0\n",
       "days_employed       2174\n",
       "dob_years              0\n",
       "education              0\n",
       "education_id           0\n",
       "family_status          0\n",
       "family_status_id       0\n",
       "gender                 0\n",
       "income_type            0\n",
       "debt                   0\n",
       "total_income        2174\n",
       "purpose                0\n",
       "dtype: int64"
      ]
     },
     "execution_count": 4,
     "metadata": {},
     "output_type": "execute_result"
    }
   ],
   "source": [
    "data.isna().sum()"
   ]
  },
  {
   "cell_type": "markdown",
   "id": "0461924d",
   "metadata": {
    "deletable": false,
    "editable": false,
    "id": "db86e27b"
   },
   "source": [
    "**Задание 5. В двух столбцах есть пропущенные значения. Один из них — `days_employed`. Пропуски в этом столбце вы обработаете на следующем этапе. Другой столбец с пропущенными значениями — `total_income` — хранит данные о доходах. На сумму дохода сильнее всего влияет тип занятости, поэтому заполнить пропуски в этом столбце нужно медианным значением по каждому типу из столбца `income_type`. Например, у человека с типом занятости `сотрудник` пропуск в столбце `total_income` должен быть заполнен медианным доходом среди всех записей с тем же типом.**"
   ]
  },
  {
   "cell_type": "code",
   "execution_count": 5,
   "id": "58fc8394",
   "metadata": {
    "deletable": false,
    "id": "42006a93"
   },
   "outputs": [],
   "source": [
    "for t in data['income_type'].unique():\n",
    "    data.loc[(data['income_type'] == t) & (data['total_income'].isna()), 'total_income'] = \\\n",
    "    data.loc[(data['income_type'] == t), 'total_income'].median()"
   ]
  },
  {
   "cell_type": "markdown",
   "id": "89ac8d52",
   "metadata": {
    "deletable": false,
    "editable": false,
    "id": "89da5ece"
   },
   "source": [
    "### Обработка аномальных значений"
   ]
  },
  {
   "cell_type": "markdown",
   "id": "8488dadf",
   "metadata": {
    "deletable": false,
    "editable": false,
    "id": "57964554"
   },
   "source": [
    "**Задание 6. В данных могут встречаться артефакты (аномалии) — значения, которые не отражают действительность и появились по какой-то ошибке. таким артефактом будет отрицательное количество дней трудового стажа в столбце `days_employed`. Для реальных данных это нормально. Обработайте значения в этом столбце: замените все отрицательные значения положительными с помощью метода `abs()`.**"
   ]
  },
  {
   "cell_type": "code",
   "execution_count": 6,
   "id": "1bb7b159",
   "metadata": {
    "deletable": false,
    "id": "f6f055bf"
   },
   "outputs": [],
   "source": [
    "data['days_employed'] = data['days_employed'].abs()"
   ]
  },
  {
   "cell_type": "markdown",
   "id": "65e0e293",
   "metadata": {
    "deletable": false,
    "editable": false,
    "id": "6107dd2f"
   },
   "source": [
    "**Задание 7. Для каждого типа занятости выведите медианное значение трудового стажа `days_employed` в днях.**"
   ]
  },
  {
   "cell_type": "code",
   "execution_count": 7,
   "id": "6eb08cc1",
   "metadata": {
    "deletable": false,
    "id": "85a5faf6",
    "outputId": "801ef80e-522b-4668-f34e-565af7432bcf"
   },
   "outputs": [
    {
     "data": {
      "text/plain": [
       "income_type\n",
       "безработный        366413.652744\n",
       "в декрете            3296.759962\n",
       "госслужащий          2689.368353\n",
       "компаньон            1547.382223\n",
       "пенсионер          365213.306266\n",
       "предприниматель       520.848083\n",
       "сотрудник            1574.202821\n",
       "студент               578.751554\n",
       "Name: days_employed, dtype: float64"
      ]
     },
     "execution_count": 7,
     "metadata": {},
     "output_type": "execute_result"
    }
   ],
   "source": [
    "data.groupby('income_type')['days_employed'].agg('median')"
   ]
  },
  {
   "cell_type": "markdown",
   "id": "fcb8bc17",
   "metadata": {
    "deletable": false,
    "editable": false,
    "id": "38d1a030"
   },
   "source": [
    "У двух типов (безработные и пенсионеры) получатся аномально большие значения. Исправить такие значения сложно, поэтому оставьте их как есть. Тем более этот столбец не понадобится вам для исследования."
   ]
  },
  {
   "cell_type": "markdown",
   "id": "9ea7e171",
   "metadata": {
    "deletable": false,
    "editable": false,
    "id": "d8a9f147"
   },
   "source": [
    "**Задание 8. Выведите перечень уникальных значений столбца `children`.**"
   ]
  },
  {
   "cell_type": "code",
   "execution_count": 8,
   "id": "9ce37453",
   "metadata": {
    "deletable": false,
    "id": "ef5056eb",
    "outputId": "6975b15c-7f95-4697-d16d-a0c79b657b03"
   },
   "outputs": [
    {
     "data": {
      "text/plain": [
       "array([ 1,  0,  3,  2, -1,  4, 20,  5])"
      ]
     },
     "execution_count": 8,
     "metadata": {},
     "output_type": "execute_result"
    }
   ],
   "source": [
    "data['children'].unique()"
   ]
  },
  {
   "cell_type": "markdown",
   "id": "e7fdec1f",
   "metadata": {
    "deletable": false,
    "editable": false,
    "id": "40b9ebf2"
   },
   "source": [
    "**Задание 9. В столбце `children` есть два аномальных значения. Удалите строки, в которых встречаются такие аномальные значения из датафрейма `data`.**"
   ]
  },
  {
   "cell_type": "code",
   "execution_count": 9,
   "id": "57b70813",
   "metadata": {
    "deletable": false,
    "id": "3ff9801d"
   },
   "outputs": [],
   "source": [
    "data = data[(data['children'] != -1) & (data['children'] != 20)]"
   ]
  },
  {
   "cell_type": "markdown",
   "id": "c8f7fa61",
   "metadata": {
    "deletable": false,
    "editable": false,
    "id": "bbc4d0ce"
   },
   "source": [
    "**Задание 10. Ещё раз выведите перечень уникальных значений столбца `children`, чтобы убедиться, что артефакты удалены.**"
   ]
  },
  {
   "cell_type": "code",
   "execution_count": 10,
   "id": "7c42e96b",
   "metadata": {
    "deletable": false,
    "id": "ad4fa8b7",
    "outputId": "b2097101-d49d-44d9-901b-32a65c9463d1"
   },
   "outputs": [
    {
     "data": {
      "text/plain": [
       "array([1, 0, 3, 2, 4, 5])"
      ]
     },
     "execution_count": 10,
     "metadata": {},
     "output_type": "execute_result"
    }
   ],
   "source": [
    "data['children'].unique()"
   ]
  },
  {
   "cell_type": "markdown",
   "id": "05e5d1ea",
   "metadata": {
    "deletable": false,
    "editable": false,
    "id": "75440b63"
   },
   "source": [
    "### Удаление пропусков (продолжение)"
   ]
  },
  {
   "cell_type": "markdown",
   "id": "2f705827",
   "metadata": {
    "deletable": false,
    "editable": false,
    "id": "f4ea573f"
   },
   "source": [
    "**Задание 11. Заполните пропуски в столбце `days_employed` медианными значениями по каждого типа занятости `income_type`.**"
   ]
  },
  {
   "cell_type": "code",
   "execution_count": 11,
   "id": "a35a03ab",
   "metadata": {
    "deletable": false,
    "id": "af6b1a7e"
   },
   "outputs": [],
   "source": [
    "for t in data['income_type'].unique():\n",
    "    data.loc[(data['income_type'] == t) & (data['days_employed'].isna()), 'days_employed'] = \\\n",
    "    data.loc[(data['income_type'] == t), 'days_employed'].median()"
   ]
  },
  {
   "cell_type": "markdown",
   "id": "b6599f4e",
   "metadata": {
    "deletable": false,
    "editable": false,
    "id": "2753f40d"
   },
   "source": [
    "**Задание 12. Убедитесь, что все пропуски заполнены. Проверьте себя и ещё раз выведите количество пропущенных значений для каждого столбца с помощью двух методов.**"
   ]
  },
  {
   "cell_type": "code",
   "execution_count": 12,
   "id": "a1c6f333",
   "metadata": {
    "deletable": false,
    "id": "55f78bc2",
    "outputId": "8da1e4e1-358e-4e87-98c9-f261bce0a7b2"
   },
   "outputs": [
    {
     "data": {
      "text/plain": [
       "children            0\n",
       "days_employed       0\n",
       "dob_years           0\n",
       "education           0\n",
       "education_id        0\n",
       "family_status       0\n",
       "family_status_id    0\n",
       "gender              0\n",
       "income_type         0\n",
       "debt                0\n",
       "total_income        0\n",
       "purpose             0\n",
       "dtype: int64"
      ]
     },
     "execution_count": 12,
     "metadata": {},
     "output_type": "execute_result"
    }
   ],
   "source": [
    "data.isna().sum()"
   ]
  },
  {
   "cell_type": "markdown",
   "id": "16a0b181",
   "metadata": {
    "deletable": false,
    "editable": false,
    "id": "ddc81e43"
   },
   "source": [
    "### Изменение типов данных"
   ]
  },
  {
   "cell_type": "markdown",
   "id": "21a43799",
   "metadata": {
    "deletable": false,
    "editable": false,
    "id": "42d19d24"
   },
   "source": [
    "**Задание 13. Замените вещественный тип данных в столбце `total_income` на целочисленный с помощью метода `astype()`.**"
   ]
  },
  {
   "cell_type": "code",
   "execution_count": 13,
   "id": "184077da",
   "metadata": {
    "deletable": false,
    "id": "920b65ad"
   },
   "outputs": [],
   "source": [
    "data['total_income'] = data['total_income'].astype(int)"
   ]
  },
  {
   "cell_type": "markdown",
   "id": "3bb45b77",
   "metadata": {
    "deletable": false,
    "editable": false,
    "id": "80c420ba"
   },
   "source": [
    "### Обработка дубликатов"
   ]
  },
  {
   "cell_type": "markdown",
   "id": "76f0a2c3",
   "metadata": {
    "deletable": false,
    "editable": false
   },
   "source": [
    "**Задание 14. Обработайте неявные дубликаты в столбце `education`. В этом столбце есть одни и те же значения, но записанные по-разному: с использованием заглавных и строчных букв. Приведите их к нижнему регистру. Проверьте остальные столбцы.**"
   ]
  },
  {
   "cell_type": "code",
   "execution_count": 14,
   "id": "8b12287c",
   "metadata": {
    "deletable": false
   },
   "outputs": [],
   "source": [
    "data['education'] = data['education'].str.lower()"
   ]
  },
  {
   "cell_type": "markdown",
   "id": "6eeba8d7",
   "metadata": {
    "deletable": false,
    "editable": false,
    "id": "dc587695"
   },
   "source": [
    "**Задание 15. Выведите на экран количество строк-дубликатов в данных. Если такие строки присутствуют, удалите их.**"
   ]
  },
  {
   "cell_type": "code",
   "execution_count": 15,
   "id": "0cc5d2e1",
   "metadata": {
    "deletable": false,
    "id": "3ee445e4",
    "outputId": "9684deba-1934-42d1-99e1-cda61740f822"
   },
   "outputs": [
    {
     "data": {
      "text/plain": [
       "71"
      ]
     },
     "execution_count": 15,
     "metadata": {},
     "output_type": "execute_result"
    }
   ],
   "source": [
    "data.duplicated().sum()"
   ]
  },
  {
   "cell_type": "code",
   "execution_count": 16,
   "id": "bcd621eb",
   "metadata": {
    "deletable": false,
    "id": "8575fe05"
   },
   "outputs": [],
   "source": [
    "data = data.drop_duplicates()"
   ]
  },
  {
   "cell_type": "markdown",
   "id": "4ea6b103",
   "metadata": {
    "deletable": false,
    "editable": false,
    "id": "9904cf55"
   },
   "source": [
    "### Категоризация данных"
   ]
  },
  {
   "cell_type": "markdown",
   "id": "62e18ac0",
   "metadata": {
    "deletable": false,
    "editable": false,
    "id": "72fcc8a2"
   },
   "source": [
    "**Задание 16. На основании диапазонов, указанных ниже, создайте в датафрейме `data` столбец `total_income_category` с категориями:**\n",
    "\n",
    "- 0–30000 — `'E'`;\n",
    "- 30001–50000 — `'D'`;\n",
    "- 50001–200000 — `'C'`;\n",
    "- 200001–1000000 — `'B'`;\n",
    "- 1000001 и выше — `'A'`.\n",
    "\n",
    "\n",
    "**Например, кредитополучателю с доходом 25000 нужно назначить категорию `'E'`, а клиенту, получающему 235000, — `'B'`. Используйте собственную функцию с именем `categorize_income()` и метод `apply()`.**"
   ]
  },
  {
   "cell_type": "code",
   "execution_count": 17,
   "id": "a4460f58",
   "metadata": {
    "deletable": false,
    "id": "e1771346"
   },
   "outputs": [],
   "source": [
    "def categorize_income(income):\n",
    "    assert type(income) == float or type(income) == int\n",
    "    if 0 <= income <= 30000:\n",
    "        return 'E'\n",
    "    elif 30001 <= income <= 50000:\n",
    "        return 'D'\n",
    "    elif 50001 <= income <= 200000:\n",
    "        return 'C'\n",
    "    elif 200001 <= income <= 1000000:\n",
    "        return 'B'\n",
    "    elif income >= 1000001:\n",
    "        return 'A'"
   ]
  },
  {
   "cell_type": "code",
   "execution_count": 18,
   "id": "f0570532",
   "metadata": {
    "deletable": false,
    "id": "d5f3586d"
   },
   "outputs": [],
   "source": [
    "data['total_income_category'] = data['total_income'].apply(categorize_income)"
   ]
  },
  {
   "cell_type": "markdown",
   "id": "0d97fd83",
   "metadata": {
    "deletable": false,
    "editable": false,
    "id": "dde49b5c"
   },
   "source": [
    "**Задание 17. Выведите на экран перечень уникальных целей взятия кредита из столбца `purpose`.**"
   ]
  },
  {
   "cell_type": "code",
   "execution_count": 19,
   "id": "baa93257",
   "metadata": {
    "deletable": false,
    "id": "f67ce9b3",
    "outputId": "673c12d9-7d7e-4ae0-9812-c622c89dd244"
   },
   "outputs": [
    {
     "data": {
      "text/plain": [
       "array(['покупка жилья', 'приобретение автомобиля',\n",
       "       'дополнительное образование', 'сыграть свадьбу',\n",
       "       'операции с жильем', 'образование', 'на проведение свадьбы',\n",
       "       'покупка жилья для семьи', 'покупка недвижимости',\n",
       "       'покупка коммерческой недвижимости', 'покупка жилой недвижимости',\n",
       "       'строительство собственной недвижимости', 'недвижимость',\n",
       "       'строительство недвижимости', 'на покупку подержанного автомобиля',\n",
       "       'на покупку своего автомобиля',\n",
       "       'операции с коммерческой недвижимостью',\n",
       "       'строительство жилой недвижимости', 'жилье',\n",
       "       'операции со своей недвижимостью', 'автомобили',\n",
       "       'заняться образованием', 'сделка с подержанным автомобилем',\n",
       "       'получение образования', 'автомобиль', 'свадьба',\n",
       "       'получение дополнительного образования', 'покупка своего жилья',\n",
       "       'операции с недвижимостью', 'получение высшего образования',\n",
       "       'свой автомобиль', 'сделка с автомобилем',\n",
       "       'профильное образование', 'высшее образование',\n",
       "       'покупка жилья для сдачи', 'на покупку автомобиля', 'ремонт жилью',\n",
       "       'заняться высшим образованием'], dtype=object)"
      ]
     },
     "execution_count": 19,
     "metadata": {},
     "output_type": "execute_result"
    }
   ],
   "source": [
    "data['purpose'].unique()"
   ]
  },
  {
   "cell_type": "markdown",
   "id": "50d634dd",
   "metadata": {
    "deletable": false,
    "editable": false,
    "id": "85d0aef0"
   },
   "source": [
    "**Задание 18. Создайте функцию, которая на основании данных из столбца `purpose` сформирует новый столбец `purpose_category`, в который войдут следующие категории:**\n",
    "\n",
    "- `'операции с автомобилем'`,\n",
    "- `'операции с недвижимостью'`,\n",
    "- `'проведение свадьбы'`,\n",
    "- `'получение образования'`.\n",
    "\n",
    "**Например, если в столбце `purpose` находится подстрока `'на покупку автомобиля'`, то в столбце `purpose_category` должна появиться строка `'операции с автомобилем'`.**\n",
    "\n",
    "**Используйте собственную функцию с именем `categorize_purpose()` и метод `apply()`. Изучите данные в столбце `purpose` и определите, какие подстроки помогут вам правильно определить категорию.**"
   ]
  },
  {
   "cell_type": "code",
   "execution_count": 20,
   "id": "e96b4a60",
   "metadata": {
    "deletable": false,
    "id": "e149fab4"
   },
   "outputs": [],
   "source": [
    "def categorize_purpose(row) -> str:\n",
    "    try:\n",
    "        if 'автом' in row:\n",
    "            return 'операции с автомобилем'\n",
    "        elif 'жил' in row or 'недвиж' in row:\n",
    "            return 'операции с недвижимостью'\n",
    "        elif 'свад' in row:\n",
    "            return 'проведение свадьбы'\n",
    "        elif 'образов' in row:\n",
    "            return 'получение образования'\n",
    "    except:\n",
    "        return 'нет категории'"
   ]
  },
  {
   "cell_type": "code",
   "execution_count": 21,
   "id": "d22f8eb1",
   "metadata": {
    "deletable": false,
    "id": "bf36e69b"
   },
   "outputs": [],
   "source": [
    "data['purpose_category'] = data['purpose'].apply(categorize_purpose)"
   ]
  },
  {
   "cell_type": "markdown",
   "id": "2c1cf0e5",
   "metadata": {
    "deletable": false,
    "editable": false,
    "id": "09b242bf"
   },
   "source": [
    "### Шаг 3. Исследуйте данные и ответьте на вопросы"
   ]
  },
  {
   "cell_type": "markdown",
   "id": "af545ac8",
   "metadata": {
    "deletable": false,
    "editable": false,
    "id": "c5d66278"
   },
   "source": [
    "#### 3.1 Есть ли зависимость между количеством детей и возвратом кредита в срок?"
   ]
  },
  {
   "cell_type": "code",
   "execution_count": 22,
   "id": "c946269d",
   "metadata": {
    "deletable": false,
    "id": "2cacfc4a"
   },
   "outputs": [
    {
     "name": "stdout",
     "output_type": "stream",
     "text": [
      "                  Просрочка, %  Количество заёмщиков  Количество должников\n",
      "Количество детей                                                          \n",
      "0                     7.543822                 14091                  1063\n",
      "1                     9.234609                  4808                   444\n",
      "2                     9.454191                  2052                   194\n",
      "3                     8.181818                   330                    27\n",
      "4                     9.756098                    41                     4\n",
      "5                     0.000000                     9                     0\n"
     ]
    }
   ],
   "source": [
    "\"\"\"\n",
    "#Посчитаем и выведем средний процент просрочек по возврату кредита\n",
    "total = data['debt'].mean() \n",
    "print(f'Средний процент просрочек: {total:.3%}')\n",
    "#Для каждого количества детей у клиента выведем процент просрочек и общее количесвто таких клиентов\n",
    "#Также, посчитаем средний процент просрочек для клиентов с любым количеством детей\n",
    "parent_count = 0\n",
    "parent_debt = 0\n",
    "for elem in sorted(data['children'].unique()):\n",
    "    delay_count = data.loc[data['children'] == elem]['debt'].sum()\n",
    "    clients_count = len(data.loc[data['children'] == elem])\n",
    "    print(f'Детей: {elem}, процент просрочек: {delay_count / clients_count:.3%}, всего клиентов: {clients_count}')\n",
    "    if elem != 0:\n",
    "        parent_count += clients_count\n",
    "        parent_debt += delay_count\n",
    "print(f'Процент просрочек среди родителей: {parent_debt / parent_count:.3%}, всего клиентов: {parent_count}')\n",
    "\"\"\"\n",
    "# Создание и вывод сводной таблицы с данными о просрочке и количестве заёмщиков по количеству детей\n",
    "grouped_data = data.pivot_table(index = ['children'], values = ['debt'], aggfunc=['mean','count','sum'])\n",
    "grouped_data.columns = ['Просрочка, %', 'Количество заёмщиков', 'Количество должников']\n",
    "grouped_data.index.rename('Количество детей', inplace=True)\n",
    "grouped_data['Просрочка, %'] *= 100\n",
    "print(grouped_data)"
   ]
  },
  {
   "cell_type": "markdown",
   "id": "d5b633c4",
   "metadata": {},
   "source": [
    "<div class=\"alert alert-block alert-danger\">\n",
    "<h2><s> Комментарий ревьюера <a class=\"tocSkip\"></h2>\n",
    "  \n",
    "<b>На доработку🤔:</b>\n",
    "\n",
    "Результат по доле просрочки верный, отлично, что выводишь на экран количество данных по каждой категории. Так мы видим, что у нас не во всех категориях достаточно данных для анализа.\n",
    "    \n",
    "Удобнее смотреть на все расчеты, упаковав их в одну таблицу. На самом деле, сделать это достаточно просто. Проще, чем писать код для каждого из вычислений отдельно.\n",
    "\n",
    "Можно вывести в таблицу следующие по смыслу колонки: количество детей (это будет индекс в получившейся таблице), количество заемщиков, количество должников и долю невозврата. Сделать это можно как группировкой, так и (на мой взгляд, удобнее) с помощью сводных таблиц `pivot_table()`.\n",
    "    \n",
    "По сводным есть история с тем, что аргументы называются неочевидно.\n",
    "    \n",
    "* Index - то, что мы хотим увидеть в строках таблицы (у тебя верно − «children»).\n",
    "* Values - то, что мы хотим увидеть в наших ячейках, в агрегированном виде. Это наш долг, «debt».\n",
    "* Columns - то, как мы хотим дополнительно разбить values (здесь нам этот параметр не нужен).\n",
    "* aggfunc - какую агрегирующую функцию хотим применить (среднее, минимум, максимум, сумму итд). \n",
    "    \n",
    "\n",
    "Подробнее про сводные таблицы здесь: https://pythobyte.com/pandas-pivot-tables-259210c6/ \n",
    "    \n",
    "По коду предлагаю такой план:\n",
    "    \n",
    "1) В aggfunc сводной таблицы можно передавать список функций. Например, так: `aggfunc=['median', 'min', 'max']` У нас, соответственно, будут другие функции :)\n",
    "    \n",
    "2) Долю должников можно вычислить не только делением одного столбца на другой, но и с помощью `aggfunc='mean'`, так как этот показатель − среднее между нулями и единицами (среднее = сумма элементов, деленная на их количество).\n",
    "    \n",
    "3) Для наглядности, колонки можно переназвать. `grouped_by_children.columns = ['первое название', 'второе название', '...']`\n",
    "\n",
    "___\n",
    "    \n",
    "Можно сделать и группировкой: здесь будет примерно также, только вместо одной функции в конце строки мы подадим список:\n",
    "    \n",
    "`...['debt'].agg(['f1','f2','f3'])`\n",
    "\n",
    "        \n",
    "В дальнейших расчетах можно будет переиспользовать код.\n",
    "\n",
    "</div>"
   ]
  },
  {
   "cell_type": "markdown",
   "id": "cc261f92",
   "metadata": {},
   "source": [
    "<div class=\"alert alert-info\">\n",
    "<b>Комментарий студента:</b>\n",
    "<br>Доброго дня!\n",
    "    Всегда боялся самого названия сводных таблиц, но, по всей видимости, пришло время с ними подружиться )\n",
    "    Сделал результаты в сводной таблице, старый код закомментировал.\n",
    "</div>"
   ]
  },
  {
   "cell_type": "markdown",
   "id": "a2b79999",
   "metadata": {},
   "source": [
    "<div class=\"alert alert-success\">\n",
    "<h2> Комментарий ревьюера #2 <a class=\"tocSkip\"> </h2>\n",
    "\n",
    "👍 Здесь все отлично. Начало дружбы положено.\n",
    "    \n",
    "Сводные таблицы концептуално не отличаются от обычной группировки. Только мы можем группировать как по строкам, так и по колонкам. Вот и все отличие :)\n",
    "</div>"
   ]
  },
  {
   "cell_type": "markdown",
   "id": "101e96b0",
   "metadata": {
    "deletable": false,
    "id": "3a6b99ec"
   },
   "source": [
    "**Вывод:** проведенный анализ данных показывает, что процент просрочек по погашению кредитов у клиентов без детей составляет 7,544%. В свою очередь, процент просрочек среди клиентов с детьми(вне зависимости от их количества) составляет 9,24%.\n",
    "Из анализа следует, что клиенты с детьми существенно чаще допускают просрочки при исполнении обязательств перед банком.\n",
    "\n",
    "Следующая часть исследования показывает процент просрочек в зависимости от количества детей у клиента. \n",
    "\n",
    "Самый низкий показатель просрочек у клиентов с пятью детьми, составляет 0%. Однако, количество таких клиентов - 9 - ничтожно мало в масштабах общего количества клиентов, соответственно, сделать вывод, что клиенты с пятью детьми никогда не допускают просрочек - невозможно.\n",
    "\n",
    "Также, у клиентов с тремя детьми показатель в 8,182% существенно ниже среднего (9,24%), но и количество клиентов в этой группе существенно ниже, чем клиентов с 1 или 2 детьми. \n",
    "\n",
    "При этом у клиентов с 4 детьми показатель просрочек 9,756%, что уже выше среднего показателя.\n",
    "\n",
    "На основании вышесказанного нет никакой заметной тенденции изменения процента просрочек в зависимости от количества детей клиента.\n",
    "\n",
    "Таким образом, можно сделать вывод о том, что наличие детей существенно повышает риски просрочки платежей, но при этом количество детей не оказывает влияния на данный показатель."
   ]
  },
  {
   "cell_type": "markdown",
   "id": "5ec9445e",
   "metadata": {},
   "source": [
    "<div class=\"alert alert-success\">\n",
    "<h2> Комментарий ревьюера <a class=\"tocSkip\"> </h2>\n",
    "\n",
    "👍 Отлично. Действительно, бездетные несут меньше рисков по невозврату кредита, серьезны различий между группами с разным количеством детей нет, а данных по клиентам с пятью детьми недостаточно для анализа.\n",
    "</div>\n",
    "\n"
   ]
  },
  {
   "cell_type": "markdown",
   "id": "b131c2e0",
   "metadata": {
    "deletable": false,
    "editable": false,
    "id": "97be82ca"
   },
   "source": [
    "#### 3.2 Есть ли зависимость между семейным положением и возвратом кредита в срок?"
   ]
  },
  {
   "cell_type": "code",
   "execution_count": 23,
   "id": "3ba22126",
   "metadata": {
    "deletable": false,
    "id": "dc3f7ee8"
   },
   "outputs": [
    {
     "name": "stdout",
     "output_type": "stream",
     "text": [
      "                       Просрочка, %  Количество заёмщиков  \\\n",
      "Семейное положение                                          \n",
      "Не женат / не замужем      9.763948                  2796   \n",
      "в разводе                  7.064760                  1189   \n",
      "вдовец / вдова             6.624606                   951   \n",
      "гражданский брак           9.313014                  4134   \n",
      "женат / замужем            7.560558                 12261   \n",
      "\n",
      "                       Количество должников  \n",
      "Семейное положение                           \n",
      "Не женат / не замужем                   273  \n",
      "в разводе                                84  \n",
      "вдовец / вдова                           63  \n",
      "гражданский брак                        385  \n",
      "женат / замужем                         927  \n"
     ]
    }
   ],
   "source": [
    "\"\"\"\n",
    "#Вывод среднего значения просрочек и количества клиентов по семейному статусу\n",
    "for status in data['family_status'].unique():\n",
    "    status_count = len(data.loc[data['family_status'] == status])\n",
    "    debt_percent = data.loc[data['family_status'] == status]['debt'].mean()\n",
    "    print(f'Для статуса {status.upper()} процент просрочек составляет: {debt_percent:.2%}, клиентов: {status_count}')\n",
    "#Вывод средней просрочки по всем клиентам\n",
    "total = data['debt'].mean() \n",
    "print(f'Средний процент просрочек: {total:.3%}')\n",
    "\"\"\"\n",
    "# Создание и вывод сводной таблицы с данными о просрочке и количестве заёмщиков по семейному статусу\n",
    "grouped_data = data.pivot_table(index = ['family_status'], values = ['debt'], aggfunc=['mean','count','sum'])\n",
    "grouped_data.columns = ['Просрочка, %', 'Количество заёмщиков', 'Количество должников']\n",
    "grouped_data.index.rename('Семейное положение', inplace=True)\n",
    "grouped_data['Просрочка, %'] *= 100\n",
    "print(grouped_data)"
   ]
  },
  {
   "cell_type": "markdown",
   "id": "b6b233d1",
   "metadata": {},
   "source": [
    "<div class=\"alert alert-warning\">\n",
    "<h2> Комментарий ревьюера <a class=\"tocSkip\"> </h2>\n",
    "    \n",
    "<b>Некоторые замечания и рекомендации💡:</b> \n",
    " \n",
    "Здесь и в аналогичных ситуациях предлагаю вывести таблицу с тремя столбцами: количество заемщиков, число и доля должников.\n",
    "</div>\n"
   ]
  },
  {
   "cell_type": "markdown",
   "id": "5a3aca30",
   "metadata": {},
   "source": [
    "<div class=\"alert alert-info\">\n",
    "<b>Комментарий студента:</b>\n",
    "<br>\n",
    "    Сделал результаты в сводной таблице, старый код закомментировал.\n",
    "</div>"
   ]
  },
  {
   "cell_type": "markdown",
   "id": "babb6088",
   "metadata": {
    "deletable": false,
    "id": "1cef7837"
   },
   "source": [
    "**Вывод:** анализ данных показывает, что группы клиентов, никогда не бывшие в браке (ГРАЖДАНСКИЙ БРАК, НЕ ЖЕНАТ / НЕ ЗАМУЖЕМ) значительно чаще допускают просрочки. Клиенты, которые состоят в браке, либо были в нём ранее (ЖЕНАТ / ЗАМУЖЕМ, В РАЗВОДЕ, ВДОВЕЦ / ВДОВА) напротив, допускают просрочки намного реже среднего показателя.\n",
    "\n",
    "Из данного вывода можно сделать гипотезу, что на шанс просрочки больше влияет возраст клиента, так как можно выстроить цепочку возраста от младшего к старшему по исследуемым группам клиентов:\n",
    "1. НЕ ЖЕНАТ / НЕ ЗАМУЖЕМ\n",
    "2. ГРАЖДАНСКИЙ БРАК\n",
    "3. ЖЕНАТ / ЗАМУЖЕМ\n",
    "4. В РАЗВОДЕ\n",
    "5. ВДОВЕЦ / ВДОВА\n",
    "\n",
    "Проверим данную гипотезу далее."
   ]
  },
  {
   "cell_type": "code",
   "execution_count": 24,
   "id": "5fa6dd40",
   "metadata": {},
   "outputs": [
    {
     "name": "stdout",
     "output_type": "stream",
     "text": [
      "                       Просрочка, %  Средний возраст\n",
      "Семейное положение                                  \n",
      "Не женат / не замужем      9.763948        38.368026\n",
      "гражданский брак           9.313014        42.067731\n",
      "женат / замужем            7.560558        43.558519\n",
      "в разводе                  7.064760        45.561817\n",
      "вдовец / вдова             6.624606        56.501577\n"
     ]
    }
   ],
   "source": [
    "\"\"\"\n",
    "#Создать список статусов, отсортированный по возрасту\n",
    "family_status = ['Не женат / не замужем', 'гражданский брак', 'женат / замужем', 'в разводе', 'вдовец / вдова']\n",
    "#Вевести средний возраст и процент просрочек\n",
    "for status in family_status:\n",
    "    age_mean = data.loc[data['family_status'] == status]['dob_years'].mean()\n",
    "    debt_mean = data.loc[data['family_status'] == status]['debt'].mean()\n",
    "    print(f'Для статуса {status.upper()} средний возраст: {age_mean:.0f} лет, средняя просрочка {debt_mean:.2%}')\n",
    "\"\"\"\n",
    "# Создание и вывод сводной таблицы с данными о просрочке и среднем возрасте по семейному статусу\n",
    "grouped_data = data.pivot_table(index = ['family_status'], values = ['debt','dob_years'], aggfunc=['mean'])\n",
    "grouped_data.columns = ['Просрочка, %', 'Средний возраст']\n",
    "grouped_data.index.rename('Семейное положение', inplace=True)\n",
    "grouped_data['Просрочка, %'] *= 100\n",
    "print(grouped_data.sort_values(by='Средний возраст'))"
   ]
  },
  {
   "cell_type": "markdown",
   "id": "d066194e",
   "metadata": {},
   "source": [
    "**Вывод:** Данный анализ показывает достоверность предыдущего вывода о том, что категории заёмщиков по семейном положению свидетельствуют о возрасте клиента. \n",
    "На основании этого можно сделать вывод, что возраст и нахождение в браке(даже в прошлом) свидетельствуют о более сознательном отношении к обязательствам и вероятность просрочек у таких клиентов снижается.\n",
    "Заёмщики, относящиеся к категориям \"Не женат / не замужем\" и \"гражданский брак\" в среднем значительно чаще допускают просрочки по исполнению своих обязательств."
   ]
  },
  {
   "cell_type": "markdown",
   "id": "0c0718f1",
   "metadata": {},
   "source": [
    "<div class=\"alert alert-warning\">\n",
    "<h2> Комментарий ревьюера <a class=\"tocSkip\"> </h2>\n",
    "    \n",
    "<b>Некоторые замечания и рекомендации💡:</b> \n",
    "\n",
    "Всё верно. Есть и зависимость по группам, и важный фактор в виде возраста. Я бы здесь также в явном виде обозначил категории риска для заказчика. Их будет две.\n",
    "</div>\n"
   ]
  },
  {
   "cell_type": "markdown",
   "id": "89e6dc69",
   "metadata": {},
   "source": [
    "<div class=\"alert alert-info\">\n",
    "<b>Комментарий студента:</b>\n",
    "<br>\n",
    "    Готово :).\n",
    "</div>"
   ]
  },
  {
   "cell_type": "markdown",
   "id": "b3094b4e",
   "metadata": {},
   "source": [
    "<div class=\"alert alert-success\">\n",
    "<h2> Комментарий ревьюера #2 <a class=\"tocSkip\"> </h2>\n",
    "\n",
    "👍 Здесь все отлично.\n",
    "</div>"
   ]
  },
  {
   "cell_type": "markdown",
   "id": "35637974",
   "metadata": {
    "deletable": false,
    "editable": false,
    "id": "1e8b2fca"
   },
   "source": [
    "#### 3.3 Есть ли зависимость между уровнем дохода и возвратом кредита в срок?"
   ]
  },
  {
   "cell_type": "code",
   "execution_count": 25,
   "id": "a3d2a564",
   "metadata": {
    "deletable": false,
    "id": "cd7e3720"
   },
   "outputs": [
    {
     "name": "stdout",
     "output_type": "stream",
     "text": [
      "                Просрочка, %  Количество заёмщиков  Количество должников\n",
      "Группа доходов                                                          \n",
      "A                   8.000000                    25                     2\n",
      "B                   7.060231                  5014                   354\n",
      "C                   8.498210                 15921                  1353\n",
      "D                   6.017192                   349                    21\n",
      "E                   9.090909                    22                     2\n",
      "Средний процент просрочек: 8.120%\n"
     ]
    }
   ],
   "source": [
    "\"\"\"\n",
    "# Вывод процента просрочек и количества клиентов для каждой группы дохода\n",
    "for cat in sorted(data['total_income_category'].unique()):\n",
    "    debt_percent = data.loc[data['total_income_category'] == cat]['debt'].mean()\n",
    "    cat_clients = len(data.loc[data['total_income_category'] == cat])\n",
    "    print(f'Для категории {cat} процент просрочек составляет: {debt_percent:.2%}, клиентов: {cat_clients}')\n",
    "\"\"\"\n",
    "# Создание и вывод сводной таблицы с данными о просрочке и количестве заёмщиков по группе доходов\n",
    "grouped_data = data.pivot_table(index = ['total_income_category'], values = ['debt'], aggfunc=['mean','count','sum'])\n",
    "grouped_data.columns = ['Просрочка, %', 'Количество заёмщиков', 'Количество должников']\n",
    "grouped_data.index.rename('Группа доходов', inplace=True)\n",
    "grouped_data['Просрочка, %'] *= 100\n",
    "print(grouped_data)\n",
    "# Вывод средней просрочки по всем клиентам\n",
    "total = data['debt'].mean() \n",
    "print(f'Средний процент просрочек: {total:.3%}')"
   ]
  },
  {
   "cell_type": "markdown",
   "id": "479d08fd",
   "metadata": {
    "deletable": false,
    "id": "e8593def"
   },
   "source": [
    "**Вывод:** на основании созданных ранее категорий заёмщиков по уровню их дохода (от A до E) можно сказать, что категории A,D,E не являются достаточно крупными, чтобы принимать их в расчёт при анализе данных. Таким образом, имеем две категории, B и C.\n",
    "По данным категориям можно увидеть, что с увеличением доходов шанс просрочки снижается.\n",
    "Однако, для более достоверных выводов рекомендуется пересмотреть систему категоризации, увеличив количество категорий.\n",
    "Сделаем это далее."
   ]
  },
  {
   "cell_type": "markdown",
   "id": "323bf23a",
   "metadata": {},
   "source": [
    "<div class=\"alert alert-success\">\n",
    "<h2> Комментарий ревьюера <a class=\"tocSkip\"> </h2>\n",
    "\n",
    "👍 Всё верно по выводам на этом этапе. Предлагаю вынести это и в общий вывод. Смотрим дальше.\n",
    "</div>"
   ]
  },
  {
   "cell_type": "code",
   "execution_count": 26,
   "id": "22ce5a77",
   "metadata": {},
   "outputs": [],
   "source": [
    "#Новая фунция для большего числа категорий уровня доходов\n",
    "def categorize_income_more(income):\n",
    "    try:\n",
    "        if 0 <= income <= 30000:\n",
    "            return 'K'\n",
    "        elif 30001 <= income <= 50000:\n",
    "            return 'H'\n",
    "        elif 50001 <= income <= 80000:\n",
    "            return 'G'\n",
    "        elif 80001 <= income <= 120000:\n",
    "            return 'F'\n",
    "        elif 120001 <= income <= 150000:\n",
    "            return 'E'\n",
    "        elif 150001 <= income <= 180000:\n",
    "            return 'D'\n",
    "        elif 180001 <= income <= 250000:\n",
    "            return 'C'\n",
    "        elif 250001 <= income <= 500000:\n",
    "            return 'B'\n",
    "        elif income >= 500001:\n",
    "            return 'A'\n",
    "    except:\n",
    "        pass"
   ]
  },
  {
   "cell_type": "code",
   "execution_count": 27,
   "id": "23bb3790",
   "metadata": {},
   "outputs": [],
   "source": [
    "#Применение новой функции\n",
    "data['ext_income_category'] = data['total_income'].apply(categorize_income_more)"
   ]
  },
  {
   "cell_type": "code",
   "execution_count": 28,
   "id": "16355f51",
   "metadata": {},
   "outputs": [
    {
     "name": "stdout",
     "output_type": "stream",
     "text": [
      "                Просрочка, %  Количество заёмщиков  Количество должников\n",
      "Группа доходов                                                          \n",
      "A                   6.306306                   222                    14\n",
      "B                   6.990291                  2575                   180\n",
      "C                   7.850780                  3592                   282\n",
      "D                   8.353011                  3388                   283\n",
      "E                   8.903167                  4358                   388\n",
      "F                   8.335023                  4931                   411\n",
      "G                   7.972545                  1894                   151\n",
      "H                   6.017192                   349                    21\n",
      "K                   9.090909                    22                     2\n",
      "Средний процент просрочек: 8.120%\n"
     ]
    }
   ],
   "source": [
    "\"\"\"# Вывод процента просрочек и количества клиентов для каждой группы дохода\n",
    "for cat in sorted(data['ext_income_category'].unique()):\n",
    "    debt_percent = data.loc[data['ext_income_category'] == cat]['debt'].mean()\n",
    "    cat_clients = len(data.loc[data['ext_income_category'] == cat])\n",
    "    print(f'Для категории {cat} процент просрочек составляет: {debt_percent:.2%}, клиентов: {cat_clients}')\n",
    "\"\"\"    \n",
    "# Создание и вывод сводной таблицы с данными о просрочке и количестве заёмщиков по расширенной группе доходов\n",
    "grouped_data = data.pivot_table(index = ['ext_income_category'], values = ['debt'], aggfunc=['mean','count','sum'])\n",
    "grouped_data.columns = ['Просрочка, %', 'Количество заёмщиков', 'Количество должников']\n",
    "grouped_data.index.rename('Группа доходов', inplace=True)\n",
    "grouped_data['Просрочка, %'] *= 100\n",
    "print(grouped_data)\n",
    "# Вывод средней просрочки по всем клиентам\n",
    "total = data['debt'].mean() \n",
    "print(f'Средний процент просрочек: {total:.3%}')"
   ]
  },
  {
   "cell_type": "markdown",
   "id": "3837f68c",
   "metadata": {},
   "source": [
    "**Вывод:** Расширенный список категорий подтверждает, что в среднем наиболее состоятельные клиенты допускают меньше просрочек.\n",
    "Также можно увидеть, что максимально часто просрочки допускают при среднем уровне доходов.\n",
    "Самые большие просрочки - среди категории самого малого дохода (K) и средней категории (E)."
   ]
  },
  {
   "cell_type": "markdown",
   "id": "6d7d7223",
   "metadata": {},
   "source": [
    "<div class=\"alert alert-success\">\n",
    "<h2> Комментарий ревьюера <a class=\"tocSkip\"> </h2>\n",
    "\n",
    "👍 Неплохое дополнение.\n",
    "</div>"
   ]
  },
  {
   "cell_type": "markdown",
   "id": "f26197c5",
   "metadata": {
    "deletable": false,
    "editable": false,
    "id": "99ecbd1f"
   },
   "source": [
    "#### 3.4 Как разные цели кредита влияют на его возврат в срок?"
   ]
  },
  {
   "cell_type": "code",
   "execution_count": 29,
   "id": "bd49b8c3",
   "metadata": {
    "deletable": false,
    "id": "2b687290"
   },
   "outputs": [
    {
     "name": "stdout",
     "output_type": "stream",
     "text": [
      "                          Просрочка, %  Количество заёмщиков  \\\n",
      "Цель кредитования                                              \n",
      "операции с автомобилем        9.347978                  4279   \n",
      "операции с недвижимостью      7.255139                 10751   \n",
      "получение образования         9.252758                  3988   \n",
      "проведение свадьбы            7.911803                  2313   \n",
      "\n",
      "                          Количество должников  \n",
      "Цель кредитования                               \n",
      "операции с автомобилем                     400  \n",
      "операции с недвижимостью                   780  \n",
      "получение образования                      369  \n",
      "проведение свадьбы                         183  \n",
      "Средний процент просрочек: 8.120%\n"
     ]
    }
   ],
   "source": [
    "\"\"\"\n",
    "# Вывод процента просрочек и количества клиентов для каждой цели кредитования\n",
    "for cat in data['purpose_category'].unique():\n",
    "    debt_percent = data.loc[data['purpose_category'] == cat]['debt'].mean()\n",
    "    cat_clients = len(data.loc[data['purpose_category'] == cat])\n",
    "    print(f'Для категории {cat} процент просрочек составляет: {debt_percent:.2%}, клиентов: {cat_clients}')\n",
    "\"\"\" \n",
    "# Создание и вывод сводной таблицы с данными о просрочке и количестве заёмщиков по целям кредитования\n",
    "grouped_data = data.pivot_table(index = ['purpose_category'], values = ['debt'], aggfunc=['mean','count','sum'])\n",
    "grouped_data.columns = ['Просрочка, %', 'Количество заёмщиков', 'Количество должников']\n",
    "grouped_data.index.rename('Цель кредитования', inplace=True)\n",
    "grouped_data['Просрочка, %'] *= 100\n",
    "print(grouped_data)\n",
    "# Вывод средней просрочки по всем клиентам\n",
    "total = data['debt'].mean() \n",
    "print(f'Средний процент просрочек: {total:.3%}')"
   ]
  },
  {
   "cell_type": "markdown",
   "id": "dc19f5fa",
   "metadata": {
    "deletable": false,
    "id": "b4bb2ce6"
   },
   "source": [
    "**Вывод:** данные анализа показывают, что выдача кредитов на операции с автомобилем и на получение образования связаны с повышенным риском несвоевременных платежей. \n",
    "Кредиты на проведение свадьбы несут риски, сопостовимые со средним значением среди всех клиентов.\n",
    "Кредиты на операции с недвижимостью, в свою очередь, имеют наименьшие риски несвоевременных платежей."
   ]
  },
  {
   "cell_type": "markdown",
   "id": "16906524",
   "metadata": {},
   "source": [
    "<div class=\"alert alert-success\">\n",
    "<h2> Комментарий ревьюера <a class=\"tocSkip\"> </h2>\n",
    "\n",
    "👍 Согласен.\n",
    "</div>"
   ]
  },
  {
   "cell_type": "markdown",
   "id": "dfb1071d",
   "metadata": {
    "deletable": false,
    "editable": false,
    "id": "09c3ac4c"
   },
   "source": [
    "#### 3.5 Приведите возможные причины появления пропусков в исходных данных."
   ]
  },
  {
   "cell_type": "code",
   "execution_count": 37,
   "id": "e0331de7",
   "metadata": {},
   "outputs": [
    {
     "name": "stdout",
     "output_type": "stream",
     "text": [
      "Всего пропусков: 2174\n",
      "Пропусков среди пенсионеров: 413\n",
      "Пропусков среди студентов: 0\n"
     ]
    }
   ],
   "source": [
    "try:\n",
    "    data_temp = pd.read_csv('/datasets/data.csv')\n",
    "except:\n",
    "    data_temp = pd.read_csv('https://code.s3.yandex.net/datasets/data.csv')\n",
    "isna = data_temp['total_income'].isna().sum()\n",
    "print(f'Всего пропусков: {isna}')\n",
    "isna = data_temp.loc[data_temp['income_type'] == 'пенсионер']['total_income'].isna().sum()\n",
    "print(f'Пропусков среди пенсионеров: {isna}')\n",
    "isna = data_temp.loc[data_temp['income_type'] == 'студент']['total_income'].isna().sum()\n",
    "print(f'Пропусков среди студентов: {isna}')"
   ]
  },
  {
   "cell_type": "markdown",
   "id": "f89fd1dd",
   "metadata": {
    "deletable": false,
    "id": "9da2ceda"
   },
   "source": [
    "*Ответ:* возможной причиной пропусков в столбцах 'days_employed' и 'total_income' является тот факт, что есть две категории заёмщиков, которые не имеют места работы - студенты и пенсионеры. Соответственно, для них могут быть пропущены значения трудового стажа и уровня доходов. Выше проверена данная гипотеза, по результатам проверки видно, что гипотеза неверна.\n",
    "Другими причинами пропусков в исходных данных могут быть:\n",
    "1. Технические - при манипуляциях с данными мог возникнуть сбой, который привёл к потере части данных.\n",
    "2. Человеческий фактор - на стороне заказчика - менеджеры могли ошибочно не внести данные в таблицу.\n",
    "3. Человеческий фактор - на стороне заёмщиков - заёмщики могли не указать эти данные, либо у них не было подтверждения информации о стаже и уровне дохода."
   ]
  },
  {
   "cell_type": "markdown",
   "id": "be942ebf",
   "metadata": {},
   "source": [
    "<div class=\"alert alert-warning\">\n",
    "<h2> Комментарий ревьюера <a class=\"tocSkip\"> </h2>\n",
    "    \n",
    "<b>Некоторые замечания и рекомендации💡:</b> \n",
    "\n",
    "Отлично, что подчеркиваем синхронность пропусков в стаже и доходе. По гипотезе − ее можно проверить. Насколько помню, совпадений по студентам и пенсионерам не будет.\n",
    "    \n",
    "Здесь можно также упомянуть две группы причин: технические и человеческий фактор. Я думаю, еще есть вариант, что заемщики не захотели или не смогли документально подтвердить информацию о доходе и стаже.\n",
    "</div>\n",
    "\n"
   ]
  },
  {
   "cell_type": "markdown",
   "id": "0c371a97",
   "metadata": {},
   "source": [
    "<div class=\"alert alert-info\">\n",
    "<b>Комментарий студента:</b>\n",
    "<br>\n",
    "    Гипотезу проверил, ошибочна. Ответ дополнил.\n",
    "</div>"
   ]
  },
  {
   "cell_type": "markdown",
   "id": "51bec719",
   "metadata": {},
   "source": [
    "<div class=\"alert alert-success\">\n",
    "<h2> Комментарий ревьюера #2 <a class=\"tocSkip\"> </h2>\n",
    "\n",
    "👍 Супер. Даже ошибочные гипотезы бывают хорошими.\n",
    "</div>"
   ]
  },
  {
   "cell_type": "markdown",
   "id": "bd8c2697",
   "metadata": {
    "deletable": false,
    "editable": false,
    "id": "7b0487d6"
   },
   "source": [
    "#### 3.6 Объясните, почему заполнить пропуски медианным значением — лучшее решение для количественных переменных."
   ]
  },
  {
   "cell_type": "markdown",
   "id": "055bb633",
   "metadata": {
    "deletable": false,
    "id": "7ecf2b8e"
   },
   "source": [
    "*Ответ:* Заполнение пропусков средним значением или медианным - один из самых популярных способов для количественных переменных. Выбор в пользу медианного значения продиктован устойчивостью к шумам и выбросами в данных. Если бы использовалось среднее значение, то любые выбросы(слишком большие или маленькие единичные значения) могли привести к искажению данных."
   ]
  },
  {
   "cell_type": "markdown",
   "id": "b9237383",
   "metadata": {},
   "source": [
    "<div class=\"alert alert-block alert-danger\">\n",
    "<h2><s> Комментарий ревьюера <a class=\"tocSkip\"></h2>\n",
    "  \n",
    "<b>На доработку🤔:</b>\n",
    " \n",
    "Предлагаю переформулировать ответ так, как ты бы объяснил человеку, который не знаком со статистикой.\n",
    "    \n",
    "К каким данным медиана устойчива, а среднее − нет? В каких случаях в выборке среднее и медиана различаются и почему медиана оказывается ближе к нашему ожидаемому значению в пропуске?\n",
    "\n",
    "\n",
    "</div>\n"
   ]
  },
  {
   "cell_type": "markdown",
   "id": "32e541b5",
   "metadata": {},
   "source": [
    "<div class=\"alert alert-info\">\n",
    "<b>Комментарий студента:</b>\n",
    "<br>\n",
    "    Исправил ответ :)\n",
    "</div>"
   ]
  },
  {
   "cell_type": "markdown",
   "id": "e8e55306",
   "metadata": {},
   "source": [
    "<div class=\"alert alert-success\">\n",
    "<h2> Комментарий ревьюера #2 <a class=\"tocSkip\"> </h2>\n",
    "\n",
    "👍 Да, дело в выбросах. Медиана  не чувствительна к выбросам, которые смещают среднее относительно медианы. Медиана же продолжает показывать область наибольшей плотности значений. Именно значения медианы будут вероятнее всего ближе к ожидаемым значениям в пропусках.\n",
    "</div>"
   ]
  },
  {
   "cell_type": "markdown",
   "id": "87378d83",
   "metadata": {
    "deletable": false,
    "editable": false,
    "id": "6db5255a"
   },
   "source": [
    "### Шаг 4: общий вывод."
   ]
  },
  {
   "cell_type": "markdown",
   "id": "91019d4c",
   "metadata": {
    "deletable": false,
    "id": "bad65432"
   },
   "source": [
    "Проведенный анализ данных позволяет ответить на поставленный вопрос о влиянии семейного положения и количества детей у заёмщика на факт погашения задолженности в срок следующим образом:\n",
    "1. Сам факт наличия детей существенно повышает риски просрочки платежей, но при этом количество детей не оказывает влияния на данный показатель.\n",
    "2. Категории заёмщиков по семейном положению свидетельствуют о возрасте клиента. На основании этого можно сделать вывод, что возраст и нахождение в браке(даже в прошлом) свидетельствуют о более сознательном отношении к обязательствам и вероятность просрочек у таких клиентов снижается.\n",
    "\n",
    "В ходе анализа были обнаружены следующие наблюдения:\n",
    "1. Выдача кредитов на операции с автомобилем и на получение образования связаны с повышенным риском несвоевременных платежей. Кредиты на проведение свадьбы несут риски, сопостовимые со средним значением среди всех клиентов. Кредиты на операции с недвижимостью, в свою очередь, имеют наименьшие риски несвоевременных платежей.\n",
    "2. Расширенный список категорий уровня доходов подтверждает, что в среднем наиболее состоятельные клиенты допускают меньше просрочек. Также можно увидеть, что максимально часто просрочки допускают при среднем уровне доходов. Самые большие просрочки - среди категории самого малого дохода (K) и средней категории (E)."
   ]
  },
  {
   "cell_type": "markdown",
   "id": "dea55554",
   "metadata": {},
   "source": [
    "<div class=\"alert alert-warning\">\n",
    "<h2> Комментарий ревьюера <a class=\"tocSkip\"> </h2>\n",
    "    \n",
    "<b>Некоторые замечания и рекомендации💡:</b> \n",
    "\n",
    "По структуре все верно. Отлично, что делаем упор на риски − это то, что в первую очередь интересует заказчика. Здесь забыли добавить по пункту о доходах.\n",
    "       \n",
    "</div>\n"
   ]
  },
  {
   "cell_type": "markdown",
   "id": "29f5255e",
   "metadata": {},
   "source": [
    "<div style=\"border:solid Chocolate 2px; padding: 40px\">\n",
    "\n",
    "**Общий вывод по проверке**\n",
    "\n",
    "У тебя получился хороший проект. Верные вычисления, отличная аналитика и правильные ответы на вопросы.\n",
    "    \n",
    "Необходимо вывести в одной таблице всю интересующую нас информацию. Таблицы стоит сделать либо с помощью группировки, либо с помощью метода сводных таблиц. Так будет проще, правильнее, нагляднее и оптимальнее.\n",
    "    \n",
    "Также нужно будет переформулировать более конкретно ответ на вопрос о заполнении пропусков медианой.\n",
    "\n",
    "**Желаю удачи и жду твой проект на повторное ревью!**😉\n",
    "\n",
    "</div>"
   ]
  },
  {
   "cell_type": "markdown",
   "id": "16ea28cc",
   "metadata": {},
   "source": [
    "<div class=\"alert alert-info\">\n",
    "<b>Комментарий студента:</b>\n",
    "<br>\n",
    "    Спасибо, что указали на сводные таблицы, пришло, наконец, время разобраться с ними :)\n",
    "    По всем пунктам внес исправления, спасибо за комментарии, очень хорошо помогли ;)\n",
    "</div>"
   ]
  },
  {
   "cell_type": "markdown",
   "id": "021c0cd5",
   "metadata": {},
   "source": [
    "<div style=\"border:solid Chocolate 2px; padding: 40px\">\n",
    "\n",
    "**Комментарий ко второй проверке**\n",
    "\n",
    "Спасибо за доработку. Критичных комментариев нет. Круто, что разобрались со сводными, они очень удобны.\n",
    "\n",
    "Желаю удачи в дальнейшей учебе!\n",
    "\n",
    "</div>"
   ]
  }
 ],
 "metadata": {
  "ExecuteTimeLog": [
   {
    "duration": 447,
    "start_time": "2022-12-18T19:17:05.303Z"
   },
   {
    "duration": 23,
    "start_time": "2022-12-18T19:17:11.085Z"
   },
   {
    "duration": 14,
    "start_time": "2022-12-18T19:17:14.395Z"
   },
   {
    "duration": 10,
    "start_time": "2022-12-18T19:17:17.334Z"
   },
   {
    "duration": 31,
    "start_time": "2022-12-18T19:19:42.354Z"
   },
   {
    "duration": 4,
    "start_time": "2022-12-18T19:19:45.566Z"
   },
   {
    "duration": 7,
    "start_time": "2022-12-18T19:20:16.244Z"
   },
   {
    "duration": 5,
    "start_time": "2022-12-18T19:20:19.015Z"
   },
   {
    "duration": 6,
    "start_time": "2022-12-18T19:20:45.857Z"
   },
   {
    "duration": 5,
    "start_time": "2022-12-18T19:20:46.953Z"
   },
   {
    "duration": 34,
    "start_time": "2022-12-18T19:21:07.194Z"
   },
   {
    "duration": 9,
    "start_time": "2022-12-18T19:21:17.823Z"
   },
   {
    "duration": 4,
    "start_time": "2022-12-18T19:21:24.755Z"
   },
   {
    "duration": 10,
    "start_time": "2022-12-18T19:21:36.065Z"
   },
   {
    "duration": 18,
    "start_time": "2022-12-18T19:21:42.144Z"
   },
   {
    "duration": 17,
    "start_time": "2022-12-18T19:21:43.640Z"
   },
   {
    "duration": 4,
    "start_time": "2022-12-18T19:22:14.363Z"
   },
   {
    "duration": 9,
    "start_time": "2022-12-18T19:22:15.174Z"
   },
   {
    "duration": 6,
    "start_time": "2022-12-18T19:22:22.496Z"
   },
   {
    "duration": 3,
    "start_time": "2022-12-18T19:22:25.317Z"
   },
   {
    "duration": 9,
    "start_time": "2022-12-18T19:22:32.495Z"
   },
   {
    "duration": 5,
    "start_time": "2022-12-18T19:24:12.206Z"
   },
   {
    "duration": 13,
    "start_time": "2022-12-18T19:25:22.946Z"
   },
   {
    "duration": 1142,
    "start_time": "2022-12-18T19:26:00.115Z"
   },
   {
    "duration": 777,
    "start_time": "2022-12-18T19:26:25.917Z"
   },
   {
    "duration": 629,
    "start_time": "2022-12-18T19:26:59.698Z"
   },
   {
    "duration": 7,
    "start_time": "2022-12-18T19:27:27.735Z"
   },
   {
    "duration": 16,
    "start_time": "2022-12-18T19:33:27.150Z"
   },
   {
    "duration": 19,
    "start_time": "2022-12-18T19:34:54.385Z"
   },
   {
    "duration": 18,
    "start_time": "2022-12-18T19:35:32.175Z"
   },
   {
    "duration": 11,
    "start_time": "2022-12-18T19:36:14.232Z"
   },
   {
    "duration": 22,
    "start_time": "2022-12-18T19:36:33.006Z"
   },
   {
    "duration": 21,
    "start_time": "2022-12-18T19:36:45.343Z"
   },
   {
    "duration": 18,
    "start_time": "2022-12-18T19:36:52.670Z"
   },
   {
    "duration": 9,
    "start_time": "2022-12-18T19:37:18.277Z"
   },
   {
    "duration": 19,
    "start_time": "2022-12-18T19:37:35.109Z"
   },
   {
    "duration": 24,
    "start_time": "2022-12-18T19:37:44.006Z"
   },
   {
    "duration": 74,
    "start_time": "2022-12-18T19:40:33.857Z"
   },
   {
    "duration": 10,
    "start_time": "2022-12-18T19:41:18.729Z"
   },
   {
    "duration": 19,
    "start_time": "2022-12-18T19:41:29.456Z"
   },
   {
    "duration": 76,
    "start_time": "2022-12-18T19:41:38.659Z"
   },
   {
    "duration": 26,
    "start_time": "2022-12-18T19:42:34.618Z"
   },
   {
    "duration": 19,
    "start_time": "2022-12-18T19:44:09.386Z"
   },
   {
    "duration": 24,
    "start_time": "2022-12-18T19:44:13.877Z"
   },
   {
    "duration": 21,
    "start_time": "2022-12-18T19:44:28.187Z"
   },
   {
    "duration": 20,
    "start_time": "2022-12-18T19:48:58.495Z"
   },
   {
    "duration": 20,
    "start_time": "2022-12-18T19:54:43.725Z"
   },
   {
    "duration": 20,
    "start_time": "2022-12-18T19:55:13.345Z"
   },
   {
    "duration": 58,
    "start_time": "2022-12-19T11:40:25.047Z"
   },
   {
    "duration": 687,
    "start_time": "2022-12-19T11:40:40.211Z"
   },
   {
    "duration": 25,
    "start_time": "2022-12-19T11:40:40.900Z"
   },
   {
    "duration": 19,
    "start_time": "2022-12-19T11:40:40.927Z"
   },
   {
    "duration": 12,
    "start_time": "2022-12-19T11:40:40.948Z"
   },
   {
    "duration": 57,
    "start_time": "2022-12-19T11:40:40.962Z"
   },
   {
    "duration": 5,
    "start_time": "2022-12-19T11:40:41.021Z"
   },
   {
    "duration": 10,
    "start_time": "2022-12-19T11:40:41.028Z"
   },
   {
    "duration": 5,
    "start_time": "2022-12-19T11:40:41.040Z"
   },
   {
    "duration": 32,
    "start_time": "2022-12-19T11:40:41.046Z"
   },
   {
    "duration": 5,
    "start_time": "2022-12-19T11:40:41.080Z"
   },
   {
    "duration": 91,
    "start_time": "2022-12-19T11:40:41.087Z"
   },
   {
    "duration": 40,
    "start_time": "2022-12-19T11:40:41.180Z"
   },
   {
    "duration": 9,
    "start_time": "2022-12-19T11:40:41.222Z"
   },
   {
    "duration": 16,
    "start_time": "2022-12-19T11:40:41.234Z"
   },
   {
    "duration": 40,
    "start_time": "2022-12-19T11:40:41.252Z"
   },
   {
    "duration": 19,
    "start_time": "2022-12-19T11:40:41.294Z"
   },
   {
    "duration": 6,
    "start_time": "2022-12-19T11:40:41.315Z"
   },
   {
    "duration": 16,
    "start_time": "2022-12-19T11:40:41.323Z"
   },
   {
    "duration": 17,
    "start_time": "2022-12-19T11:40:41.341Z"
   },
   {
    "duration": 6,
    "start_time": "2022-12-19T11:40:41.360Z"
   },
   {
    "duration": 21,
    "start_time": "2022-12-19T11:40:41.368Z"
   },
   {
    "duration": 35,
    "start_time": "2022-12-19T11:40:41.391Z"
   },
   {
    "duration": 3,
    "start_time": "2022-12-19T11:40:41.428Z"
   },
   {
    "duration": 9,
    "start_time": "2022-12-19T11:40:41.432Z"
   },
   {
    "duration": 9,
    "start_time": "2022-12-19T11:40:41.443Z"
   },
   {
    "duration": 23,
    "start_time": "2022-12-19T11:40:58.022Z"
   },
   {
    "duration": 21,
    "start_time": "2022-12-19T11:42:47.195Z"
   },
   {
    "duration": 17,
    "start_time": "2022-12-19T11:45:04.487Z"
   },
   {
    "duration": 6,
    "start_time": "2022-12-19T11:45:47.487Z"
   },
   {
    "duration": 7,
    "start_time": "2022-12-19T11:46:15.825Z"
   },
   {
    "duration": 6,
    "start_time": "2022-12-19T11:46:22.246Z"
   },
   {
    "duration": 32,
    "start_time": "2022-12-19T11:50:18.366Z"
   },
   {
    "duration": 29,
    "start_time": "2022-12-19T11:50:31.577Z"
   },
   {
    "duration": 58,
    "start_time": "2022-12-19T11:54:41.735Z"
   },
   {
    "duration": 29,
    "start_time": "2022-12-19T11:54:50.726Z"
   },
   {
    "duration": 29,
    "start_time": "2022-12-19T11:58:39.987Z"
   },
   {
    "duration": 31,
    "start_time": "2022-12-19T12:00:02.655Z"
   },
   {
    "duration": 49,
    "start_time": "2022-12-19T14:00:53.755Z"
   },
   {
    "duration": 494,
    "start_time": "2022-12-19T14:01:03.235Z"
   },
   {
    "duration": 22,
    "start_time": "2022-12-19T14:01:03.731Z"
   },
   {
    "duration": 15,
    "start_time": "2022-12-19T14:01:03.754Z"
   },
   {
    "duration": 10,
    "start_time": "2022-12-19T14:01:03.770Z"
   },
   {
    "duration": 41,
    "start_time": "2022-12-19T14:01:03.782Z"
   },
   {
    "duration": 3,
    "start_time": "2022-12-19T14:01:03.825Z"
   },
   {
    "duration": 17,
    "start_time": "2022-12-19T14:01:03.829Z"
   },
   {
    "duration": 5,
    "start_time": "2022-12-19T14:01:03.847Z"
   },
   {
    "duration": 11,
    "start_time": "2022-12-19T14:01:03.853Z"
   },
   {
    "duration": 4,
    "start_time": "2022-12-19T14:01:03.865Z"
   },
   {
    "duration": 57,
    "start_time": "2022-12-19T14:01:03.871Z"
   },
   {
    "duration": 9,
    "start_time": "2022-12-19T14:01:03.930Z"
   },
   {
    "duration": 6,
    "start_time": "2022-12-19T14:01:03.941Z"
   },
   {
    "duration": 13,
    "start_time": "2022-12-19T14:01:03.949Z"
   },
   {
    "duration": 24,
    "start_time": "2022-12-19T14:01:03.964Z"
   },
   {
    "duration": 29,
    "start_time": "2022-12-19T14:01:03.990Z"
   },
   {
    "duration": 3,
    "start_time": "2022-12-19T14:01:04.021Z"
   },
   {
    "duration": 13,
    "start_time": "2022-12-19T14:01:04.028Z"
   },
   {
    "duration": 7,
    "start_time": "2022-12-19T14:01:04.042Z"
   },
   {
    "duration": 11,
    "start_time": "2022-12-19T14:01:04.050Z"
   },
   {
    "duration": 16,
    "start_time": "2022-12-19T14:01:04.063Z"
   },
   {
    "duration": 40,
    "start_time": "2022-12-19T14:01:04.081Z"
   },
   {
    "duration": 32,
    "start_time": "2022-12-19T14:01:04.122Z"
   },
   {
    "duration": 19,
    "start_time": "2022-12-19T14:01:04.156Z"
   },
   {
    "duration": 7,
    "start_time": "2022-12-19T14:01:04.177Z"
   },
   {
    "duration": 3,
    "start_time": "2022-12-19T14:01:04.205Z"
   },
   {
    "duration": 18,
    "start_time": "2022-12-19T14:02:14.915Z"
   },
   {
    "duration": 19,
    "start_time": "2022-12-19T14:07:51.297Z"
   },
   {
    "duration": 20,
    "start_time": "2022-12-19T14:08:00.487Z"
   },
   {
    "duration": 18,
    "start_time": "2022-12-19T14:08:59.237Z"
   },
   {
    "duration": 29,
    "start_time": "2022-12-19T14:10:27.887Z"
   },
   {
    "duration": 70,
    "start_time": "2022-12-19T14:10:31.973Z"
   },
   {
    "duration": 13,
    "start_time": "2022-12-19T14:10:39.483Z"
   },
   {
    "duration": 29,
    "start_time": "2022-12-19T14:10:43.914Z"
   },
   {
    "duration": 12,
    "start_time": "2022-12-19T14:10:55.236Z"
   },
   {
    "duration": 14,
    "start_time": "2022-12-19T14:13:49.860Z"
   },
   {
    "duration": 27,
    "start_time": "2022-12-19T14:16:06.730Z"
   },
   {
    "duration": 17,
    "start_time": "2022-12-19T14:16:33.904Z"
   },
   {
    "duration": 26,
    "start_time": "2022-12-19T14:16:47.770Z"
   },
   {
    "duration": 27,
    "start_time": "2022-12-19T14:19:44.726Z"
   },
   {
    "duration": 28,
    "start_time": "2022-12-19T14:21:35.178Z"
   },
   {
    "duration": 26,
    "start_time": "2022-12-19T14:21:48.729Z"
   },
   {
    "duration": 15,
    "start_time": "2022-12-19T14:25:19.537Z"
   },
   {
    "duration": 12,
    "start_time": "2022-12-19T14:25:24.947Z"
   },
   {
    "duration": 5,
    "start_time": "2022-12-19T14:26:16.368Z"
   },
   {
    "duration": 6,
    "start_time": "2022-12-19T14:26:26.128Z"
   },
   {
    "duration": 25,
    "start_time": "2022-12-19T14:28:22.055Z"
   },
   {
    "duration": 28,
    "start_time": "2022-12-19T14:28:51.735Z"
   },
   {
    "duration": 4,
    "start_time": "2022-12-19T14:40:34.230Z"
   },
   {
    "duration": 15,
    "start_time": "2022-12-19T14:41:32.843Z"
   },
   {
    "duration": 14,
    "start_time": "2022-12-19T14:42:07.621Z"
   },
   {
    "duration": 31,
    "start_time": "2022-12-19T14:42:55.739Z"
   },
   {
    "duration": 50,
    "start_time": "2022-12-19T14:43:28.393Z"
   },
   {
    "duration": 13,
    "start_time": "2022-12-19T14:55:00.798Z"
   },
   {
    "duration": 23,
    "start_time": "2022-12-19T14:55:38.070Z"
   },
   {
    "duration": 645,
    "start_time": "2022-12-23T07:45:59.134Z"
   },
   {
    "duration": 22,
    "start_time": "2022-12-23T07:45:59.781Z"
   },
   {
    "duration": 19,
    "start_time": "2022-12-23T07:45:59.805Z"
   },
   {
    "duration": 20,
    "start_time": "2022-12-23T07:45:59.826Z"
   },
   {
    "duration": 47,
    "start_time": "2022-12-23T07:45:59.847Z"
   },
   {
    "duration": 4,
    "start_time": "2022-12-23T07:45:59.897Z"
   },
   {
    "duration": 20,
    "start_time": "2022-12-23T07:45:59.902Z"
   },
   {
    "duration": 21,
    "start_time": "2022-12-23T07:45:59.924Z"
   },
   {
    "duration": 16,
    "start_time": "2022-12-23T07:45:59.947Z"
   },
   {
    "duration": 19,
    "start_time": "2022-12-23T07:45:59.967Z"
   },
   {
    "duration": 52,
    "start_time": "2022-12-23T07:45:59.988Z"
   },
   {
    "duration": 9,
    "start_time": "2022-12-23T07:46:00.042Z"
   },
   {
    "duration": 17,
    "start_time": "2022-12-23T07:46:00.053Z"
   },
   {
    "duration": 29,
    "start_time": "2022-12-23T07:46:00.072Z"
   },
   {
    "duration": 41,
    "start_time": "2022-12-23T07:46:00.103Z"
   },
   {
    "duration": 26,
    "start_time": "2022-12-23T07:46:00.145Z"
   },
   {
    "duration": 15,
    "start_time": "2022-12-23T07:46:00.172Z"
   },
   {
    "duration": 32,
    "start_time": "2022-12-23T07:46:00.189Z"
   },
   {
    "duration": 23,
    "start_time": "2022-12-23T07:46:00.223Z"
   },
   {
    "duration": 20,
    "start_time": "2022-12-23T07:46:00.247Z"
   },
   {
    "duration": 35,
    "start_time": "2022-12-23T07:46:00.269Z"
   },
   {
    "duration": 116,
    "start_time": "2022-12-23T07:46:00.306Z"
   },
   {
    "duration": 0,
    "start_time": "2022-12-23T07:46:00.424Z"
   },
   {
    "duration": 0,
    "start_time": "2022-12-23T07:46:00.426Z"
   },
   {
    "duration": 0,
    "start_time": "2022-12-23T07:46:00.427Z"
   },
   {
    "duration": 0,
    "start_time": "2022-12-23T07:46:00.428Z"
   },
   {
    "duration": 0,
    "start_time": "2022-12-23T07:46:00.429Z"
   },
   {
    "duration": 0,
    "start_time": "2022-12-23T07:46:00.431Z"
   },
   {
    "duration": 0,
    "start_time": "2022-12-23T07:46:00.433Z"
   },
   {
    "duration": 33,
    "start_time": "2022-12-23T07:47:39.242Z"
   },
   {
    "duration": 35,
    "start_time": "2022-12-23T07:49:16.548Z"
   },
   {
    "duration": 24,
    "start_time": "2022-12-23T07:55:47.813Z"
   },
   {
    "duration": 31,
    "start_time": "2022-12-23T07:55:59.041Z"
   },
   {
    "duration": 39,
    "start_time": "2022-12-23T07:56:19.766Z"
   },
   {
    "duration": 31,
    "start_time": "2022-12-23T07:57:33.669Z"
   },
   {
    "duration": 36,
    "start_time": "2022-12-23T07:57:54.902Z"
   },
   {
    "duration": 42,
    "start_time": "2022-12-23T07:58:03.813Z"
   },
   {
    "duration": 35,
    "start_time": "2022-12-23T07:59:10.873Z"
   },
   {
    "duration": 35,
    "start_time": "2022-12-23T07:59:18.536Z"
   },
   {
    "duration": 34,
    "start_time": "2022-12-23T07:59:33.390Z"
   },
   {
    "duration": 31,
    "start_time": "2022-12-23T08:00:06.215Z"
   },
   {
    "duration": 35,
    "start_time": "2022-12-23T08:00:19.220Z"
   },
   {
    "duration": 22,
    "start_time": "2022-12-23T08:01:30.426Z"
   },
   {
    "duration": 559,
    "start_time": "2022-12-23T08:03:06.744Z"
   },
   {
    "duration": 20,
    "start_time": "2022-12-23T08:04:21.702Z"
   },
   {
    "duration": 310,
    "start_time": "2022-12-23T08:08:37.068Z"
   },
   {
    "duration": 27,
    "start_time": "2022-12-23T08:09:01.796Z"
   },
   {
    "duration": 28,
    "start_time": "2022-12-23T08:11:41.982Z"
   },
   {
    "duration": 28,
    "start_time": "2022-12-23T08:11:56.139Z"
   },
   {
    "duration": 31,
    "start_time": "2022-12-23T08:13:56.970Z"
   },
   {
    "duration": 24,
    "start_time": "2022-12-23T08:15:41.845Z"
   },
   {
    "duration": 25,
    "start_time": "2022-12-23T08:16:43.596Z"
   },
   {
    "duration": 68,
    "start_time": "2022-12-23T08:19:49.826Z"
   },
   {
    "duration": 66,
    "start_time": "2022-12-23T08:20:00.914Z"
   },
   {
    "duration": 54,
    "start_time": "2022-12-23T08:20:07.313Z"
   },
   {
    "duration": 59,
    "start_time": "2022-12-23T08:20:26.649Z"
   },
   {
    "duration": 24,
    "start_time": "2022-12-23T08:21:51.201Z"
   },
   {
    "duration": 41,
    "start_time": "2022-12-23T08:22:27.998Z"
   },
   {
    "duration": 5,
    "start_time": "2022-12-23T08:37:54.838Z"
   },
   {
    "duration": 40,
    "start_time": "2022-12-23T08:38:39.710Z"
   },
   {
    "duration": 31,
    "start_time": "2022-12-23T08:39:21.422Z"
   },
   {
    "duration": 5,
    "start_time": "2022-12-23T08:39:52.015Z"
   },
   {
    "duration": 14,
    "start_time": "2022-12-23T08:39:55.798Z"
   },
   {
    "duration": 31,
    "start_time": "2022-12-23T08:41:07.315Z"
   },
   {
    "duration": 36,
    "start_time": "2022-12-23T08:41:32.878Z"
   },
   {
    "duration": 31,
    "start_time": "2022-12-23T08:42:39.275Z"
   },
   {
    "duration": 52,
    "start_time": "2022-12-23T08:43:38.993Z"
   },
   {
    "duration": 43,
    "start_time": "2022-12-23T08:43:58.190Z"
   },
   {
    "duration": 79,
    "start_time": "2022-12-23T08:50:39.179Z"
   },
   {
    "duration": 90,
    "start_time": "2022-12-23T08:51:26.772Z"
   },
   {
    "duration": 86,
    "start_time": "2022-12-23T08:51:56.668Z"
   },
   {
    "duration": 95,
    "start_time": "2022-12-23T08:52:11.289Z"
   },
   {
    "duration": 87,
    "start_time": "2022-12-23T08:52:19.224Z"
   },
   {
    "duration": 98,
    "start_time": "2022-12-23T08:52:29.712Z"
   },
   {
    "duration": 98,
    "start_time": "2022-12-23T08:53:01.455Z"
   },
   {
    "duration": 88,
    "start_time": "2022-12-23T08:53:24.596Z"
   },
   {
    "duration": 82,
    "start_time": "2022-12-23T08:53:32.013Z"
   },
   {
    "duration": 90,
    "start_time": "2022-12-23T08:54:15.845Z"
   },
   {
    "duration": 91,
    "start_time": "2022-12-23T08:54:28.733Z"
   },
   {
    "duration": 89,
    "start_time": "2022-12-23T08:54:57.708Z"
   },
   {
    "duration": 97,
    "start_time": "2022-12-23T08:55:06.054Z"
   },
   {
    "duration": 87,
    "start_time": "2022-12-23T08:55:27.100Z"
   },
   {
    "duration": 91,
    "start_time": "2022-12-23T08:56:00.290Z"
   },
   {
    "duration": 461,
    "start_time": "2022-12-23T08:56:09.436Z"
   },
   {
    "duration": 25,
    "start_time": "2022-12-23T08:56:09.899Z"
   },
   {
    "duration": 31,
    "start_time": "2022-12-23T08:56:09.926Z"
   },
   {
    "duration": 30,
    "start_time": "2022-12-23T08:56:09.959Z"
   },
   {
    "duration": 37,
    "start_time": "2022-12-23T08:56:09.992Z"
   },
   {
    "duration": 4,
    "start_time": "2022-12-23T08:56:10.031Z"
   },
   {
    "duration": 29,
    "start_time": "2022-12-23T08:56:10.036Z"
   },
   {
    "duration": 12,
    "start_time": "2022-12-23T08:56:10.067Z"
   },
   {
    "duration": 34,
    "start_time": "2022-12-23T08:56:10.081Z"
   },
   {
    "duration": 29,
    "start_time": "2022-12-23T08:56:10.117Z"
   },
   {
    "duration": 50,
    "start_time": "2022-12-23T08:56:10.148Z"
   },
   {
    "duration": 14,
    "start_time": "2022-12-23T08:56:10.200Z"
   },
   {
    "duration": 12,
    "start_time": "2022-12-23T08:56:10.217Z"
   },
   {
    "duration": 44,
    "start_time": "2022-12-23T08:56:10.233Z"
   },
   {
    "duration": 43,
    "start_time": "2022-12-23T08:56:10.279Z"
   },
   {
    "duration": 26,
    "start_time": "2022-12-23T08:56:10.324Z"
   },
   {
    "duration": 5,
    "start_time": "2022-12-23T08:56:10.352Z"
   },
   {
    "duration": 25,
    "start_time": "2022-12-23T08:56:10.359Z"
   },
   {
    "duration": 14,
    "start_time": "2022-12-23T08:56:10.386Z"
   },
   {
    "duration": 14,
    "start_time": "2022-12-23T08:56:10.402Z"
   },
   {
    "duration": 26,
    "start_time": "2022-12-23T08:56:10.417Z"
   },
   {
    "duration": 41,
    "start_time": "2022-12-23T08:56:10.445Z"
   },
   {
    "duration": 31,
    "start_time": "2022-12-23T08:56:10.488Z"
   },
   {
    "duration": 16,
    "start_time": "2022-12-23T08:56:10.521Z"
   },
   {
    "duration": 50,
    "start_time": "2022-12-23T08:56:10.539Z"
   },
   {
    "duration": 6,
    "start_time": "2022-12-23T08:56:10.591Z"
   },
   {
    "duration": 26,
    "start_time": "2022-12-23T08:56:10.599Z"
   },
   {
    "duration": 56,
    "start_time": "2022-12-23T08:56:10.627Z"
   },
   {
    "duration": 46,
    "start_time": "2022-12-23T08:56:10.685Z"
   },
   {
    "duration": 92,
    "start_time": "2022-12-23T08:56:10.734Z"
   },
   {
    "duration": 78,
    "start_time": "2022-12-23T08:56:25.062Z"
   },
   {
    "duration": 82,
    "start_time": "2022-12-23T09:01:07.909Z"
   },
   {
    "duration": 80,
    "start_time": "2022-12-23T09:01:13.461Z"
   },
   {
    "duration": 80,
    "start_time": "2022-12-23T09:01:25.690Z"
   },
   {
    "duration": 50,
    "start_time": "2022-12-23T09:02:41.268Z"
   },
   {
    "duration": 61,
    "start_time": "2022-12-23T09:03:45.117Z"
   },
   {
    "duration": 100,
    "start_time": "2022-12-23T09:04:25.157Z"
   },
   {
    "duration": 70,
    "start_time": "2022-12-23T09:14:55.037Z"
   }
  ],
  "colab": {
   "name": "dpp_template_part2.ipynb",
   "provenance": []
  },
  "kernelspec": {
   "display_name": "base",
   "language": "python",
   "name": "python3"
  },
  "language_info": {
   "codemirror_mode": {
    "name": "ipython",
    "version": 3
   },
   "file_extension": ".py",
   "mimetype": "text/x-python",
   "name": "python",
   "nbconvert_exporter": "python",
   "pygments_lexer": "ipython3",
   "version": "3.10.9"
  },
  "toc": {
   "base_numbering": 1,
   "nav_menu": {},
   "number_sections": true,
   "sideBar": true,
   "skip_h1_title": true,
   "title_cell": "Table of Contents",
   "title_sidebar": "Contents",
   "toc_cell": false,
   "toc_position": {},
   "toc_section_display": true,
   "toc_window_display": false
  },
  "vscode": {
   "interpreter": {
    "hash": "c12e766478fe8fd4b834a4af4e3658c58665008413b3bc7d36c7712ca6609ebe"
   }
  }
 },
 "nbformat": 4,
 "nbformat_minor": 5
}
